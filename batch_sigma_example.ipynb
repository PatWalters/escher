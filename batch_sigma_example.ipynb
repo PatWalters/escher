{
 "cells": [
  {
   "cell_type": "code",
   "execution_count": 1,
   "id": "1d1f210d",
   "metadata": {},
   "outputs": [
    {
     "name": "stdout",
     "output_type": "stream",
     "text": [
      "Requirement already satisfied: requests in /Users/pwalters/opt/anaconda3/envs/rdkit_2022_05/lib/python3.10/site-packages (2.27.1)\n",
      "Requirement already satisfied: sigma in /Users/pwalters/opt/anaconda3/envs/rdkit_2022_05/lib/python3.10/site-packages (0.0.1)\n",
      "Requirement already satisfied: rdkit in /Users/pwalters/opt/anaconda3/envs/rdkit_2022_05/lib/python3.10/site-packages (2022.3.4)\n",
      "Requirement already satisfied: useful_rdkit_utils in /Users/pwalters/opt/anaconda3/envs/rdkit_2022_05/lib/python3.10/site-packages (0.1.6)\n",
      "Requirement already satisfied: urllib3<1.27,>=1.21.1 in /Users/pwalters/opt/anaconda3/envs/rdkit_2022_05/lib/python3.10/site-packages (from requests) (1.26.9)\n",
      "Requirement already satisfied: charset-normalizer~=2.0.0 in /Users/pwalters/opt/anaconda3/envs/rdkit_2022_05/lib/python3.10/site-packages (from requests) (2.0.12)\n",
      "Requirement already satisfied: idna<4,>=2.5 in /Users/pwalters/opt/anaconda3/envs/rdkit_2022_05/lib/python3.10/site-packages (from requests) (3.3)\n",
      "Requirement already satisfied: certifi>=2017.4.17 in /Users/pwalters/opt/anaconda3/envs/rdkit_2022_05/lib/python3.10/site-packages (from requests) (2022.6.15.1)\n",
      "Requirement already satisfied: Pillow in /Users/pwalters/opt/anaconda3/envs/rdkit_2022_05/lib/python3.10/site-packages (from rdkit) (9.1.0)\n",
      "Requirement already satisfied: numpy in /Users/pwalters/opt/anaconda3/envs/rdkit_2022_05/lib/python3.10/site-packages (from rdkit) (1.22.3)\n",
      "Requirement already satisfied: rdkit-pypi in /Users/pwalters/opt/anaconda3/envs/rdkit_2022_05/lib/python3.10/site-packages (from useful_rdkit_utils) (2022.3.2.1)\n",
      "Requirement already satisfied: pytest in /Users/pwalters/opt/anaconda3/envs/rdkit_2022_05/lib/python3.10/site-packages (from useful_rdkit_utils) (7.1.2)\n",
      "Requirement already satisfied: pandas in /Users/pwalters/opt/anaconda3/envs/rdkit_2022_05/lib/python3.10/site-packages (from useful_rdkit_utils) (1.4.2)\n",
      "Requirement already satisfied: pystow in /Users/pwalters/opt/anaconda3/envs/rdkit_2022_05/lib/python3.10/site-packages (from useful_rdkit_utils) (0.4.3)\n",
      "Requirement already satisfied: jupyter in /Users/pwalters/opt/anaconda3/envs/rdkit_2022_05/lib/python3.10/site-packages (from useful_rdkit_utils) (1.0.0)\n",
      "Requirement already satisfied: py3DMol in /Users/pwalters/opt/anaconda3/envs/rdkit_2022_05/lib/python3.10/site-packages (from useful_rdkit_utils) (1.8.0)\n",
      "Requirement already satisfied: ipywidgets in /Users/pwalters/opt/anaconda3/envs/rdkit_2022_05/lib/python3.10/site-packages (from jupyter->useful_rdkit_utils) (7.7.0)\n",
      "Requirement already satisfied: qtconsole in /Users/pwalters/opt/anaconda3/envs/rdkit_2022_05/lib/python3.10/site-packages (from jupyter->useful_rdkit_utils) (5.3.0)\n",
      "Requirement already satisfied: nbconvert in /Users/pwalters/opt/anaconda3/envs/rdkit_2022_05/lib/python3.10/site-packages (from jupyter->useful_rdkit_utils) (6.5.0)\n",
      "Requirement already satisfied: ipykernel in /Users/pwalters/opt/anaconda3/envs/rdkit_2022_05/lib/python3.10/site-packages (from jupyter->useful_rdkit_utils) (6.13.0)\n",
      "Requirement already satisfied: notebook in /Users/pwalters/opt/anaconda3/envs/rdkit_2022_05/lib/python3.10/site-packages (from jupyter->useful_rdkit_utils) (6.4.11)\n",
      "Requirement already satisfied: jupyter-console in /Users/pwalters/opt/anaconda3/envs/rdkit_2022_05/lib/python3.10/site-packages (from jupyter->useful_rdkit_utils) (6.4.3)\n",
      "Requirement already satisfied: python-dateutil>=2.8.1 in /Users/pwalters/opt/anaconda3/envs/rdkit_2022_05/lib/python3.10/site-packages (from pandas->useful_rdkit_utils) (2.8.2)\n",
      "Requirement already satisfied: pytz>=2020.1 in /Users/pwalters/opt/anaconda3/envs/rdkit_2022_05/lib/python3.10/site-packages (from pandas->useful_rdkit_utils) (2022.1)\n",
      "Requirement already satisfied: click in /Users/pwalters/opt/anaconda3/envs/rdkit_2022_05/lib/python3.10/site-packages (from pystow->useful_rdkit_utils) (8.1.3)\n",
      "Requirement already satisfied: tqdm in /Users/pwalters/opt/anaconda3/envs/rdkit_2022_05/lib/python3.10/site-packages (from pystow->useful_rdkit_utils) (4.64.0)\n",
      "Requirement already satisfied: tomli>=1.0.0 in /Users/pwalters/opt/anaconda3/envs/rdkit_2022_05/lib/python3.10/site-packages (from pytest->useful_rdkit_utils) (2.0.1)\n",
      "Requirement already satisfied: py>=1.8.2 in /Users/pwalters/opt/anaconda3/envs/rdkit_2022_05/lib/python3.10/site-packages (from pytest->useful_rdkit_utils) (1.11.0)\n",
      "Requirement already satisfied: pluggy<2.0,>=0.12 in /Users/pwalters/opt/anaconda3/envs/rdkit_2022_05/lib/python3.10/site-packages (from pytest->useful_rdkit_utils) (1.0.0)\n",
      "Requirement already satisfied: iniconfig in /Users/pwalters/opt/anaconda3/envs/rdkit_2022_05/lib/python3.10/site-packages (from pytest->useful_rdkit_utils) (1.1.1)\n",
      "Requirement already satisfied: packaging in /Users/pwalters/opt/anaconda3/envs/rdkit_2022_05/lib/python3.10/site-packages (from pytest->useful_rdkit_utils) (21.3)\n",
      "Requirement already satisfied: attrs>=19.2.0 in /Users/pwalters/opt/anaconda3/envs/rdkit_2022_05/lib/python3.10/site-packages (from pytest->useful_rdkit_utils) (21.4.0)\n",
      "Requirement already satisfied: six>=1.5 in /Users/pwalters/opt/anaconda3/envs/rdkit_2022_05/lib/python3.10/site-packages (from python-dateutil>=2.8.1->pandas->useful_rdkit_utils) (1.12.0)\n",
      "Requirement already satisfied: debugpy>=1.0 in /Users/pwalters/opt/anaconda3/envs/rdkit_2022_05/lib/python3.10/site-packages (from ipykernel->jupyter->useful_rdkit_utils) (1.6.0)\n",
      "Requirement already satisfied: traitlets>=5.1.0 in /Users/pwalters/opt/anaconda3/envs/rdkit_2022_05/lib/python3.10/site-packages (from ipykernel->jupyter->useful_rdkit_utils) (5.1.1)\n",
      "Requirement already satisfied: nest-asyncio in /Users/pwalters/opt/anaconda3/envs/rdkit_2022_05/lib/python3.10/site-packages (from ipykernel->jupyter->useful_rdkit_utils) (1.5.5)\n",
      "Requirement already satisfied: psutil in /Users/pwalters/opt/anaconda3/envs/rdkit_2022_05/lib/python3.10/site-packages (from ipykernel->jupyter->useful_rdkit_utils) (5.9.0)\n",
      "Requirement already satisfied: jupyter-client>=6.1.12 in /Users/pwalters/opt/anaconda3/envs/rdkit_2022_05/lib/python3.10/site-packages (from ipykernel->jupyter->useful_rdkit_utils) (7.3.0)\n",
      "Requirement already satisfied: ipython>=7.23.1 in /Users/pwalters/opt/anaconda3/envs/rdkit_2022_05/lib/python3.10/site-packages (from ipykernel->jupyter->useful_rdkit_utils) (8.3.0)\n",
      "Requirement already satisfied: tornado>=6.1 in /Users/pwalters/opt/anaconda3/envs/rdkit_2022_05/lib/python3.10/site-packages (from ipykernel->jupyter->useful_rdkit_utils) (6.1)\n",
      "Requirement already satisfied: matplotlib-inline>=0.1 in /Users/pwalters/opt/anaconda3/envs/rdkit_2022_05/lib/python3.10/site-packages (from ipykernel->jupyter->useful_rdkit_utils) (0.1.3)\n",
      "Requirement already satisfied: appnope in /Users/pwalters/opt/anaconda3/envs/rdkit_2022_05/lib/python3.10/site-packages (from ipykernel->jupyter->useful_rdkit_utils) (0.1.3)\n",
      "Requirement already satisfied: nbformat>=4.2.0 in /Users/pwalters/opt/anaconda3/envs/rdkit_2022_05/lib/python3.10/site-packages (from ipywidgets->jupyter->useful_rdkit_utils) (5.4.0)\n",
      "Requirement already satisfied: jupyterlab-widgets>=1.0.0 in /Users/pwalters/opt/anaconda3/envs/rdkit_2022_05/lib/python3.10/site-packages (from ipywidgets->jupyter->useful_rdkit_utils) (1.1.0)\n",
      "Requirement already satisfied: ipython-genutils~=0.2.0 in /Users/pwalters/opt/anaconda3/envs/rdkit_2022_05/lib/python3.10/site-packages (from ipywidgets->jupyter->useful_rdkit_utils) (0.2.0)\n",
      "Requirement already satisfied: widgetsnbextension~=3.6.0 in /Users/pwalters/opt/anaconda3/envs/rdkit_2022_05/lib/python3.10/site-packages (from ipywidgets->jupyter->useful_rdkit_utils) (3.6.0)\n",
      "Requirement already satisfied: prompt-toolkit!=3.0.0,!=3.0.1,<3.1.0,>=2.0.0 in /Users/pwalters/opt/anaconda3/envs/rdkit_2022_05/lib/python3.10/site-packages (from jupyter-console->jupyter->useful_rdkit_utils) (3.0.29)\n",
      "Requirement already satisfied: pygments in /Users/pwalters/opt/anaconda3/envs/rdkit_2022_05/lib/python3.10/site-packages (from jupyter-console->jupyter->useful_rdkit_utils) (2.12.0)\n",
      "Requirement already satisfied: nbclient>=0.5.0 in /Users/pwalters/opt/anaconda3/envs/rdkit_2022_05/lib/python3.10/site-packages (from nbconvert->jupyter->useful_rdkit_utils) (0.6.2)\n",
      "Requirement already satisfied: entrypoints>=0.2.2 in /Users/pwalters/opt/anaconda3/envs/rdkit_2022_05/lib/python3.10/site-packages (from nbconvert->jupyter->useful_rdkit_utils) (0.4)\n",
      "Requirement already satisfied: jupyterlab-pygments in /Users/pwalters/opt/anaconda3/envs/rdkit_2022_05/lib/python3.10/site-packages (from nbconvert->jupyter->useful_rdkit_utils) (0.2.2)\n",
      "Requirement already satisfied: beautifulsoup4 in /Users/pwalters/opt/anaconda3/envs/rdkit_2022_05/lib/python3.10/site-packages (from nbconvert->jupyter->useful_rdkit_utils) (4.8.2)\n",
      "Requirement already satisfied: bleach in /Users/pwalters/opt/anaconda3/envs/rdkit_2022_05/lib/python3.10/site-packages (from nbconvert->jupyter->useful_rdkit_utils) (5.0.0)\n",
      "Requirement already satisfied: jupyter-core>=4.7 in /Users/pwalters/opt/anaconda3/envs/rdkit_2022_05/lib/python3.10/site-packages (from nbconvert->jupyter->useful_rdkit_utils) (4.10.0)\n",
      "Requirement already satisfied: jinja2>=3.0 in /Users/pwalters/opt/anaconda3/envs/rdkit_2022_05/lib/python3.10/site-packages (from nbconvert->jupyter->useful_rdkit_utils) (3.1.2)\n"
     ]
    },
    {
     "name": "stdout",
     "output_type": "stream",
     "text": [
      "Requirement already satisfied: MarkupSafe>=2.0 in /Users/pwalters/opt/anaconda3/envs/rdkit_2022_05/lib/python3.10/site-packages (from nbconvert->jupyter->useful_rdkit_utils) (2.1.1)\n",
      "Requirement already satisfied: pandocfilters>=1.4.1 in /Users/pwalters/opt/anaconda3/envs/rdkit_2022_05/lib/python3.10/site-packages (from nbconvert->jupyter->useful_rdkit_utils) (1.5.0)\n",
      "Requirement already satisfied: mistune<2,>=0.8.1 in /Users/pwalters/opt/anaconda3/envs/rdkit_2022_05/lib/python3.10/site-packages (from nbconvert->jupyter->useful_rdkit_utils) (0.8.4)\n",
      "Requirement already satisfied: tinycss2 in /Users/pwalters/opt/anaconda3/envs/rdkit_2022_05/lib/python3.10/site-packages (from nbconvert->jupyter->useful_rdkit_utils) (1.1.1)\n",
      "Requirement already satisfied: defusedxml in /Users/pwalters/opt/anaconda3/envs/rdkit_2022_05/lib/python3.10/site-packages (from nbconvert->jupyter->useful_rdkit_utils) (0.7.1)\n",
      "Requirement already satisfied: pyzmq>=17 in /Users/pwalters/opt/anaconda3/envs/rdkit_2022_05/lib/python3.10/site-packages (from notebook->jupyter->useful_rdkit_utils) (22.3.0)\n",
      "Requirement already satisfied: argon2-cffi in /Users/pwalters/opt/anaconda3/envs/rdkit_2022_05/lib/python3.10/site-packages (from notebook->jupyter->useful_rdkit_utils) (21.3.0)\n",
      "Requirement already satisfied: prometheus-client in /Users/pwalters/opt/anaconda3/envs/rdkit_2022_05/lib/python3.10/site-packages (from notebook->jupyter->useful_rdkit_utils) (0.14.1)\n",
      "Requirement already satisfied: Send2Trash>=1.8.0 in /Users/pwalters/opt/anaconda3/envs/rdkit_2022_05/lib/python3.10/site-packages (from notebook->jupyter->useful_rdkit_utils) (1.8.0)\n",
      "Requirement already satisfied: terminado>=0.8.3 in /Users/pwalters/opt/anaconda3/envs/rdkit_2022_05/lib/python3.10/site-packages (from notebook->jupyter->useful_rdkit_utils) (0.13.3)\n",
      "Requirement already satisfied: pyparsing!=3.0.5,>=2.0.2 in /Users/pwalters/opt/anaconda3/envs/rdkit_2022_05/lib/python3.10/site-packages (from packaging->pytest->useful_rdkit_utils) (3.0.8)\n",
      "Requirement already satisfied: qtpy>=2.0.1 in /Users/pwalters/opt/anaconda3/envs/rdkit_2022_05/lib/python3.10/site-packages (from qtconsole->jupyter->useful_rdkit_utils) (2.1.0)\n",
      "Requirement already satisfied: pickleshare in /Users/pwalters/opt/anaconda3/envs/rdkit_2022_05/lib/python3.10/site-packages (from ipython>=7.23.1->ipykernel->jupyter->useful_rdkit_utils) (0.7.5)\n",
      "Requirement already satisfied: setuptools>=18.5 in /Users/pwalters/opt/anaconda3/envs/rdkit_2022_05/lib/python3.10/site-packages (from ipython>=7.23.1->ipykernel->jupyter->useful_rdkit_utils) (62.1.0)\n",
      "Requirement already satisfied: pexpect>4.3 in /Users/pwalters/opt/anaconda3/envs/rdkit_2022_05/lib/python3.10/site-packages (from ipython>=7.23.1->ipykernel->jupyter->useful_rdkit_utils) (4.8.0)\n",
      "Requirement already satisfied: jedi>=0.16 in /Users/pwalters/opt/anaconda3/envs/rdkit_2022_05/lib/python3.10/site-packages (from ipython>=7.23.1->ipykernel->jupyter->useful_rdkit_utils) (0.18.1)\n",
      "Requirement already satisfied: backcall in /Users/pwalters/opt/anaconda3/envs/rdkit_2022_05/lib/python3.10/site-packages (from ipython>=7.23.1->ipykernel->jupyter->useful_rdkit_utils) (0.2.0)\n",
      "Requirement already satisfied: decorator in /Users/pwalters/opt/anaconda3/envs/rdkit_2022_05/lib/python3.10/site-packages (from ipython>=7.23.1->ipykernel->jupyter->useful_rdkit_utils) (5.1.1)\n",
      "Requirement already satisfied: stack-data in /Users/pwalters/opt/anaconda3/envs/rdkit_2022_05/lib/python3.10/site-packages (from ipython>=7.23.1->ipykernel->jupyter->useful_rdkit_utils) (0.2.0)\n",
      "Requirement already satisfied: fastjsonschema in /Users/pwalters/opt/anaconda3/envs/rdkit_2022_05/lib/python3.10/site-packages (from nbformat>=4.2.0->ipywidgets->jupyter->useful_rdkit_utils) (2.15.3)\n",
      "Requirement already satisfied: jsonschema>=2.6 in /Users/pwalters/opt/anaconda3/envs/rdkit_2022_05/lib/python3.10/site-packages (from nbformat>=4.2.0->ipywidgets->jupyter->useful_rdkit_utils) (4.5.1)\n",
      "Requirement already satisfied: wcwidth in /Users/pwalters/opt/anaconda3/envs/rdkit_2022_05/lib/python3.10/site-packages (from prompt-toolkit!=3.0.0,!=3.0.1,<3.1.0,>=2.0.0->jupyter-console->jupyter->useful_rdkit_utils) (0.2.5)\n",
      "Requirement already satisfied: ptyprocess in /Users/pwalters/opt/anaconda3/envs/rdkit_2022_05/lib/python3.10/site-packages (from terminado>=0.8.3->notebook->jupyter->useful_rdkit_utils) (0.7.0)\n",
      "Requirement already satisfied: argon2-cffi-bindings in /Users/pwalters/opt/anaconda3/envs/rdkit_2022_05/lib/python3.10/site-packages (from argon2-cffi->notebook->jupyter->useful_rdkit_utils) (21.2.0)\n",
      "Requirement already satisfied: soupsieve>=1.2 in /Users/pwalters/opt/anaconda3/envs/rdkit_2022_05/lib/python3.10/site-packages (from beautifulsoup4->nbconvert->jupyter->useful_rdkit_utils) (2.3.2.post1)\n",
      "Requirement already satisfied: webencodings in /Users/pwalters/opt/anaconda3/envs/rdkit_2022_05/lib/python3.10/site-packages (from bleach->nbconvert->jupyter->useful_rdkit_utils) (0.5.1)\n",
      "Requirement already satisfied: parso<0.9.0,>=0.8.0 in /Users/pwalters/opt/anaconda3/envs/rdkit_2022_05/lib/python3.10/site-packages (from jedi>=0.16->ipython>=7.23.1->ipykernel->jupyter->useful_rdkit_utils) (0.8.3)\n",
      "Requirement already satisfied: pyrsistent!=0.17.0,!=0.17.1,!=0.17.2,>=0.14.0 in /Users/pwalters/opt/anaconda3/envs/rdkit_2022_05/lib/python3.10/site-packages (from jsonschema>=2.6->nbformat>=4.2.0->ipywidgets->jupyter->useful_rdkit_utils) (0.18.1)\n",
      "Requirement already satisfied: cffi>=1.0.1 in /Users/pwalters/opt/anaconda3/envs/rdkit_2022_05/lib/python3.10/site-packages (from argon2-cffi-bindings->argon2-cffi->notebook->jupyter->useful_rdkit_utils) (1.15.0)\n",
      "Requirement already satisfied: asttokens in /Users/pwalters/opt/anaconda3/envs/rdkit_2022_05/lib/python3.10/site-packages (from stack-data->ipython>=7.23.1->ipykernel->jupyter->useful_rdkit_utils) (2.0.5)\n",
      "Requirement already satisfied: executing in /Users/pwalters/opt/anaconda3/envs/rdkit_2022_05/lib/python3.10/site-packages (from stack-data->ipython>=7.23.1->ipykernel->jupyter->useful_rdkit_utils) (0.8.3)\n",
      "Requirement already satisfied: pure-eval in /Users/pwalters/opt/anaconda3/envs/rdkit_2022_05/lib/python3.10/site-packages (from stack-data->ipython>=7.23.1->ipykernel->jupyter->useful_rdkit_utils) (0.2.2)\n",
      "Requirement already satisfied: pycparser in /Users/pwalters/opt/anaconda3/envs/rdkit_2022_05/lib/python3.10/site-packages (from cffi>=1.0.1->argon2-cffi-bindings->argon2-cffi->notebook->jupyter->useful_rdkit_utils) (2.21)\n"
     ]
    }
   ],
   "source": [
    "!pip install requests sigma rdkit useful_rdkit_utils"
   ]
  },
  {
   "cell_type": "code",
   "execution_count": 2,
   "id": "517d405f",
   "metadata": {},
   "outputs": [
    {
     "data": {
      "text/plain": [
       "10138"
      ]
     },
     "execution_count": 2,
     "metadata": {},
     "output_type": "execute_result"
    }
   ],
   "source": [
    "import requests\n",
    "res = requests.get(\"https://raw.githubusercontent.com/PatWalters/escher/main/sigma.py\")\n",
    "open('symmetry_sigma.py',\"w\").write(res.text)"
   ]
  },
  {
   "cell_type": "code",
   "execution_count": 3,
   "id": "a828926f",
   "metadata": {},
   "outputs": [],
   "source": [
    "from symmetry_sigma import SigmaCalculator\n",
    "import pandas as pd\n",
    "from rdkit import Chem\n",
    "import useful_rdkit_utils as uru"
   ]
  },
  {
   "cell_type": "code",
   "execution_count": 4,
   "id": "4ffc2146",
   "metadata": {},
   "outputs": [],
   "source": [
    "df = pd.read_csv(\"https://raw.githubusercontent.com/PatWalters/datafiles/main/chembl_drugs.smi\",\n",
    "                 names=[\"SMILES\",\"Nmae\"],\n",
    "                sep=\" \")"
   ]
  },
  {
   "cell_type": "code",
   "execution_count": 5,
   "id": "ce243b52",
   "metadata": {},
   "outputs": [],
   "source": [
    "df['mol'] = df.SMILES.apply(Chem.MolFromSmiles)"
   ]
  },
  {
   "cell_type": "code",
   "execution_count": 6,
   "id": "98fd6172",
   "metadata": {},
   "outputs": [],
   "source": [
    "df.mol = df.mol.apply(uru.get_largest_fragment)"
   ]
  },
  {
   "cell_type": "code",
   "execution_count": 7,
   "id": "5946b4a4",
   "metadata": {},
   "outputs": [],
   "source": [
    "sigma_calc = SigmaCalculator()"
   ]
  },
  {
   "cell_type": "code",
   "execution_count": 8,
   "id": "027e29de",
   "metadata": {},
   "outputs": [
    {
     "name": "stderr",
     "output_type": "stream",
     "text": [
      "/Users/pwalters/software/escher/symmetry_sigma.py:228: FutureWarning: The default dtype for empty Series will be 'object' instead of 'float64' in a future version. Specify a dtype explicitly to silence this warning.\n",
      "  nbr_series = pd.Series(nbr_invariants)\n"
     ]
    },
    {
     "name": "stdout",
     "output_type": "stream",
     "text": [
      "Error calculating [131I-]\n"
     ]
    },
    {
     "name": "stderr",
     "output_type": "stream",
     "text": [
      "/Users/pwalters/software/escher/symmetry_sigma.py:228: FutureWarning: The default dtype for empty Series will be 'object' instead of 'float64' in a future version. Specify a dtype explicitly to silence this warning.\n",
      "  nbr_series = pd.Series(nbr_invariants)\n"
     ]
    },
    {
     "name": "stdout",
     "output_type": "stream",
     "text": [
      "Error calculating [Cl-]\n",
      "Error calculating [123I-]\n",
      "Error calculating [I-]\n",
      "Error calculating [Al+3]\n",
      "Error calculating [Cl-]\n"
     ]
    },
    {
     "name": "stderr",
     "output_type": "stream",
     "text": [
      "/Users/pwalters/software/escher/symmetry_sigma.py:228: FutureWarning: The default dtype for empty Series will be 'object' instead of 'float64' in a future version. Specify a dtype explicitly to silence this warning.\n",
      "  nbr_series = pd.Series(nbr_invariants)\n"
     ]
    },
    {
     "name": "stdout",
     "output_type": "stream",
     "text": [
      "Error calculating [Mg+2]\n",
      "Error calculating O=[Mg]\n",
      "Error calculating O=[Mg]\n"
     ]
    }
   ],
   "source": [
    "df['sigma'] = df.mol.apply(sigma_calc.calc_sigma_original,normalize=True)"
   ]
  },
  {
   "cell_type": "code",
   "execution_count": 9,
   "id": "4a4cc757",
   "metadata": {},
   "outputs": [
    {
     "data": {
      "text/html": [
       "<div>\n",
       "<style scoped>\n",
       "    .dataframe tbody tr th:only-of-type {\n",
       "        vertical-align: middle;\n",
       "    }\n",
       "\n",
       "    .dataframe tbody tr th {\n",
       "        vertical-align: top;\n",
       "    }\n",
       "\n",
       "    .dataframe thead th {\n",
       "        text-align: right;\n",
       "    }\n",
       "</style>\n",
       "<table border=\"1\" class=\"dataframe\">\n",
       "  <thead>\n",
       "    <tr style=\"text-align: right;\">\n",
       "      <th></th>\n",
       "      <th>SMILES</th>\n",
       "      <th>Nmae</th>\n",
       "      <th>mol</th>\n",
       "      <th>sigma</th>\n",
       "    </tr>\n",
       "  </thead>\n",
       "  <tbody>\n",
       "    <tr>\n",
       "      <th>0</th>\n",
       "      <td>Nc1ccc(S(=O)(=O)Nc2ccccn2)cc1</td>\n",
       "      <td>CHEMBL700</td>\n",
       "      <td>&lt;rdkit.Chem.rdchem.Mol object at 0x13769bbc0&gt;</td>\n",
       "      <td>1</td>\n",
       "    </tr>\n",
       "    <tr>\n",
       "      <th>1</th>\n",
       "      <td>CCC(C)C1(CC)C(=O)[N-]C(=O)NC1=O.[Na+]</td>\n",
       "      <td>CHEMBL1200982</td>\n",
       "      <td>&lt;rdkit.Chem.rdchem.Mol object at 0x13769bc30&gt;</td>\n",
       "      <td>1</td>\n",
       "    </tr>\n",
       "    <tr>\n",
       "      <th>2</th>\n",
       "      <td>Cl.N=C(N)N</td>\n",
       "      <td>CHEMBL1200728</td>\n",
       "      <td>&lt;rdkit.Chem.rdchem.Mol object at 0x13769bd10&gt;</td>\n",
       "      <td>2</td>\n",
       "    </tr>\n",
       "    <tr>\n",
       "      <th>3</th>\n",
       "      <td>CC1=CC(=O)c2ccccc2C1=O</td>\n",
       "      <td>CHEMBL590</td>\n",
       "      <td>&lt;rdkit.Chem.rdchem.Mol object at 0x13769bca0&gt;</td>\n",
       "      <td>1</td>\n",
       "    </tr>\n",
       "    <tr>\n",
       "      <th>4</th>\n",
       "      <td>Cn1c(=O)c2[nH]cnc2n(C)c1=O.Cn1c(=O)c2[nH]cnc2n...</td>\n",
       "      <td>CHEMBL1370561</td>\n",
       "      <td>&lt;rdkit.Chem.rdchem.Mol object at 0x13769bd80&gt;</td>\n",
       "      <td>1</td>\n",
       "    </tr>\n",
       "    <tr>\n",
       "      <th>...</th>\n",
       "      <td>...</td>\n",
       "      <td>...</td>\n",
       "      <td>...</td>\n",
       "      <td>...</td>\n",
       "    </tr>\n",
       "    <tr>\n",
       "      <th>1198</th>\n",
       "      <td>Cl.Cl.N#Cc1cccc(C(NCC2CC2)c2ccc(F)c(NC(=O)c3cc...</td>\n",
       "      <td>CHEMBL4594272</td>\n",
       "      <td>&lt;rdkit.Chem.rdchem.Mol object at 0x13770cd60&gt;</td>\n",
       "      <td>1</td>\n",
       "    </tr>\n",
       "    <tr>\n",
       "      <th>1199</th>\n",
       "      <td>CN1CCC(COc2cnc(-c3cccc(Cn4nc(-c5cccc(C#N)c5)cc...</td>\n",
       "      <td>CHEMBL4594292</td>\n",
       "      <td>&lt;rdkit.Chem.rdchem.Mol object at 0x13770cc80&gt;</td>\n",
       "      <td>1</td>\n",
       "    </tr>\n",
       "    <tr>\n",
       "      <th>1200</th>\n",
       "      <td>Nc1ncn([C@@H]2O[C@H](CO)[C@@H](O)[C@H]2O)c(=O)n1</td>\n",
       "      <td>CHEMBL1489</td>\n",
       "      <td>&lt;rdkit.Chem.rdchem.Mol object at 0x13770ccf0&gt;</td>\n",
       "      <td>1</td>\n",
       "    </tr>\n",
       "    <tr>\n",
       "      <th>1201</th>\n",
       "      <td>COC(=O)Nc1c(N)nc(-c2nn(Cc3ccccc3F)c3ncc(F)cc23...</td>\n",
       "      <td>CHEMBL4066936</td>\n",
       "      <td>&lt;rdkit.Chem.rdchem.Mol object at 0x13770cdd0&gt;</td>\n",
       "      <td>1</td>\n",
       "    </tr>\n",
       "    <tr>\n",
       "      <th>1202</th>\n",
       "      <td>CONC(=O)Nc1ccc(-c2sc3c(c2CN(C)C)c(=O)n(-c2ccc(...</td>\n",
       "      <td>CHEMBL1800159</td>\n",
       "      <td>&lt;rdkit.Chem.rdchem.Mol object at 0x13770ce40&gt;</td>\n",
       "      <td>1</td>\n",
       "    </tr>\n",
       "  </tbody>\n",
       "</table>\n",
       "<p>1203 rows × 4 columns</p>\n",
       "</div>"
      ],
      "text/plain": [
       "                                                 SMILES           Nmae  \\\n",
       "0                         Nc1ccc(S(=O)(=O)Nc2ccccn2)cc1      CHEMBL700   \n",
       "1                 CCC(C)C1(CC)C(=O)[N-]C(=O)NC1=O.[Na+]  CHEMBL1200982   \n",
       "2                                            Cl.N=C(N)N  CHEMBL1200728   \n",
       "3                                CC1=CC(=O)c2ccccc2C1=O      CHEMBL590   \n",
       "4     Cn1c(=O)c2[nH]cnc2n(C)c1=O.Cn1c(=O)c2[nH]cnc2n...  CHEMBL1370561   \n",
       "...                                                 ...            ...   \n",
       "1198  Cl.Cl.N#Cc1cccc(C(NCC2CC2)c2ccc(F)c(NC(=O)c3cc...  CHEMBL4594272   \n",
       "1199  CN1CCC(COc2cnc(-c3cccc(Cn4nc(-c5cccc(C#N)c5)cc...  CHEMBL4594292   \n",
       "1200   Nc1ncn([C@@H]2O[C@H](CO)[C@@H](O)[C@H]2O)c(=O)n1     CHEMBL1489   \n",
       "1201  COC(=O)Nc1c(N)nc(-c2nn(Cc3ccccc3F)c3ncc(F)cc23...  CHEMBL4066936   \n",
       "1202  CONC(=O)Nc1ccc(-c2sc3c(c2CN(C)C)c(=O)n(-c2ccc(...  CHEMBL1800159   \n",
       "\n",
       "                                                mol  sigma  \n",
       "0     <rdkit.Chem.rdchem.Mol object at 0x13769bbc0>      1  \n",
       "1     <rdkit.Chem.rdchem.Mol object at 0x13769bc30>      1  \n",
       "2     <rdkit.Chem.rdchem.Mol object at 0x13769bd10>      2  \n",
       "3     <rdkit.Chem.rdchem.Mol object at 0x13769bca0>      1  \n",
       "4     <rdkit.Chem.rdchem.Mol object at 0x13769bd80>      1  \n",
       "...                                             ...    ...  \n",
       "1198  <rdkit.Chem.rdchem.Mol object at 0x13770cd60>      1  \n",
       "1199  <rdkit.Chem.rdchem.Mol object at 0x13770cc80>      1  \n",
       "1200  <rdkit.Chem.rdchem.Mol object at 0x13770ccf0>      1  \n",
       "1201  <rdkit.Chem.rdchem.Mol object at 0x13770cdd0>      1  \n",
       "1202  <rdkit.Chem.rdchem.Mol object at 0x13770ce40>      1  \n",
       "\n",
       "[1203 rows x 4 columns]"
      ]
     },
     "execution_count": 9,
     "metadata": {},
     "output_type": "execute_result"
    }
   ],
   "source": [
    "df"
   ]
  },
  {
   "cell_type": "code",
   "execution_count": 10,
   "id": "97db7101",
   "metadata": {},
   "outputs": [],
   "source": [
    "df.to_csv(\"chembl_sigma.csv\")"
   ]
  },
  {
   "cell_type": "code",
   "execution_count": null,
   "id": "b3b0d947",
   "metadata": {},
   "outputs": [],
   "source": []
  }
 ],
 "metadata": {
  "kernelspec": {
   "display_name": "Python 3 (ipykernel)",
   "language": "python",
   "name": "python3"
  },
  "language_info": {
   "codemirror_mode": {
    "name": "ipython",
    "version": 3
   },
   "file_extension": ".py",
   "mimetype": "text/x-python",
   "name": "python",
   "nbconvert_exporter": "python",
   "pygments_lexer": "ipython3",
   "version": "3.10.4"
  }
 },
 "nbformat": 4,
 "nbformat_minor": 5
}
