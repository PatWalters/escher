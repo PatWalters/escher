{
 "cells": [
  {
   "cell_type": "code",
   "execution_count": 10,
   "id": "2862d622",
   "metadata": {},
   "outputs": [],
   "source": [
    "%load_ext autoreload\n",
    "%autoreload 2"
   ]
  },
  {
   "cell_type": "code",
   "execution_count": 115,
   "id": "4e67694e",
   "metadata": {},
   "outputs": [],
   "source": [
    "import pandas as pd\n",
    "from rdkit import Chem\n",
    "from sigma import SigmaCalculator, gen_3d\n",
    "from tqdm.auto import tqdm"
   ]
  },
  {
   "cell_type": "code",
   "execution_count": 41,
   "id": "37dae789",
   "metadata": {},
   "outputs": [],
   "source": [
    "tqdm.pandas()"
   ]
  },
  {
   "cell_type": "markdown",
   "id": "39993592",
   "metadata": {},
   "source": [
    "## dhm"
   ]
  },
  {
   "cell_type": "markdown",
   "id": "50bac916",
   "metadata": {},
   "source": [
    "Read the data"
   ]
  },
  {
   "cell_type": "code",
   "execution_count": 155,
   "id": "6fee0e60",
   "metadata": {},
   "outputs": [],
   "source": [
    "df_dhm = pd.read_excel(\"dhm at tm-1_11_22.xlsx\")"
   ]
  },
  {
   "cell_type": "code",
   "execution_count": 156,
   "id": "f4ed30a2",
   "metadata": {},
   "outputs": [
    {
     "data": {
      "text/plain": [
       "(4541, 17)"
      ]
     },
     "execution_count": 156,
     "metadata": {},
     "output_type": "execute_result"
    }
   ],
   "source": [
    "df_dhm.shape"
   ]
  },
  {
   "cell_type": "code",
   "execution_count": 165,
   "id": "2eb21394",
   "metadata": {},
   "outputs": [],
   "source": [
    "df_dhm['mol'] = df_dhm.smile.apply(smi2mol_with_errors)"
   ]
  },
  {
   "cell_type": "code",
   "execution_count": 170,
   "id": "5bebc2e8",
   "metadata": {},
   "outputs": [],
   "source": [
    "df_dhm[['mol','err']] = df_dhm.smile.apply(smi2mol_with_errors).to_list()"
   ]
  },
  {
   "cell_type": "code",
   "execution_count": 169,
   "id": "aa5b85c0",
   "metadata": {},
   "outputs": [
    {
     "data": {
      "text/html": [
       "<div>\n",
       "<style scoped>\n",
       "    .dataframe tbody tr th:only-of-type {\n",
       "        vertical-align: middle;\n",
       "    }\n",
       "\n",
       "    .dataframe tbody tr th {\n",
       "        vertical-align: top;\n",
       "    }\n",
       "\n",
       "    .dataframe thead th {\n",
       "        text-align: right;\n",
       "    }\n",
       "</style>\n",
       "<table border=\"1\" class=\"dataframe\">\n",
       "  <thead>\n",
       "    <tr style=\"text-align: right;\">\n",
       "      <th></th>\n",
       "      <th>CAS</th>\n",
       "      <th>Name_x</th>\n",
       "      <th>dhm at Tm</th>\n",
       "      <th>Tm</th>\n",
       "      <th>dhm at Tm average</th>\n",
       "      <th>dsm average</th>\n",
       "      <th>dhm at Tm median</th>\n",
       "      <th>dsm median</th>\n",
       "      <th>dhm at Tm SD</th>\n",
       "      <th>Tm average</th>\n",
       "      <th>Tm median</th>\n",
       "      <th>Tm SD</th>\n",
       "      <th>smile</th>\n",
       "      <th>source</th>\n",
       "      <th>dh source</th>\n",
       "      <th>Temp source</th>\n",
       "      <th>Formula</th>\n",
       "      <th>mol</th>\n",
       "      <th>err</th>\n",
       "    </tr>\n",
       "  </thead>\n",
       "  <tbody>\n",
       "    <tr>\n",
       "      <th>1251</th>\n",
       "      <td>[000-06-3]</td>\n",
       "      <td>trans,cis-2,6-octadiene-1,8-dioic acid</td>\n",
       "      <td>22.78</td>\n",
       "      <td>380</td>\n",
       "      <td>22.780</td>\n",
       "      <td>59.947368</td>\n",
       "      <td>22.780</td>\n",
       "      <td>59.947368</td>\n",
       "      <td>0.0</td>\n",
       "      <td>380.0</td>\n",
       "      <td>380.0</td>\n",
       "      <td>0.0</td>\n",
       "      <td>C/C(=C\\CO)/CC/C=C(\\C)\\CO</td>\n",
       "      <td>jain 2004</td>\n",
       "      <td>keshavarz 2020</td>\n",
       "      <td>keshavarz 2020</td>\n",
       "      <td>C8H10O4</td>\n",
       "      <td>&lt;rdkit.Chem.rdchem.Mol object at 0x126a1eb80&gt;</td>\n",
       "      <td>RDKit WARNING: [10:56:51] Conflicting single b...</td>\n",
       "    </tr>\n",
       "    <tr>\n",
       "      <th>1468</th>\n",
       "      <td>[000-45-1]</td>\n",
       "      <td>trans,cis-2,6-octadiene-1,8-dioic acid</td>\n",
       "      <td>22.8</td>\n",
       "      <td>380</td>\n",
       "      <td>22.800</td>\n",
       "      <td>60.000000</td>\n",
       "      <td>22.800</td>\n",
       "      <td>60.000000</td>\n",
       "      <td>0.0</td>\n",
       "      <td>380.0</td>\n",
       "      <td>380.0</td>\n",
       "      <td>0.0</td>\n",
       "      <td>C/C(=C\\CO)/CC/C=C(\\C)\\CO</td>\n",
       "      <td>jain akash 2005</td>\n",
       "      <td>keshavarz 2020</td>\n",
       "      <td>keshavarz 2020</td>\n",
       "      <td>NaN</td>\n",
       "      <td>&lt;rdkit.Chem.rdchem.Mol object at 0x126a27e20&gt;</td>\n",
       "      <td>RDKit WARNING: [10:56:51] Conflicting single b...</td>\n",
       "    </tr>\n",
       "    <tr>\n",
       "      <th>1531</th>\n",
       "      <td>100-63-0</td>\n",
       "      <td>phenylhydrazine</td>\n",
       "      <td>[16.43, 16.4]</td>\n",
       "      <td>[292.8, 292.8]</td>\n",
       "      <td>16.415</td>\n",
       "      <td>56.062158</td>\n",
       "      <td>16.415</td>\n",
       "      <td>56.062158</td>\n",
       "      <td>0.0</td>\n",
       "      <td>292.8</td>\n",
       "      <td>292.8</td>\n",
       "      <td>0.0</td>\n",
       "      <td>[H+].[Cl-].NNc1ccccc1</td>\n",
       "      <td>['jain 2004', 'jain akash 2005']</td>\n",
       "      <td>['jain 2004', 'jain akash 2005']</td>\n",
       "      <td>['jain 2004', 'jain akash 2005']</td>\n",
       "      <td>C6H8N2</td>\n",
       "      <td>&lt;rdkit.Chem.rdchem.Mol object at 0x126a2a640&gt;</td>\n",
       "      <td>RDKit WARNING: [10:56:51] WARNING: not removin...</td>\n",
       "    </tr>\n",
       "    <tr>\n",
       "      <th>1925</th>\n",
       "      <td>123-75-1</td>\n",
       "      <td>pyrrolidine</td>\n",
       "      <td>[9.12, 9.1]</td>\n",
       "      <td>[215.3, 215.3]</td>\n",
       "      <td>9.110</td>\n",
       "      <td>42.313052</td>\n",
       "      <td>9.110</td>\n",
       "      <td>42.313052</td>\n",
       "      <td>0.0</td>\n",
       "      <td>215.3</td>\n",
       "      <td>215.3</td>\n",
       "      <td>0.0</td>\n",
       "      <td>[H+].[Cl-].C1CCNC1</td>\n",
       "      <td>['jain 2004', 'jain akash 2005']</td>\n",
       "      <td>['jain 2004', 'jain akash 2005']</td>\n",
       "      <td>['jain 2004', 'jain akash 2005']</td>\n",
       "      <td>C4H9N</td>\n",
       "      <td>&lt;rdkit.Chem.rdchem.Mol object at 0x126a39c40&gt;</td>\n",
       "      <td>RDKit WARNING: [10:56:51] WARNING: not removin...</td>\n",
       "    </tr>\n",
       "  </tbody>\n",
       "</table>\n",
       "</div>"
      ],
      "text/plain": [
       "             CAS                                  Name_x      dhm at Tm  \\\n",
       "1251  [000-06-3]  trans,cis-2,6-octadiene-1,8-dioic acid          22.78   \n",
       "1468  [000-45-1]  trans,cis-2,6-octadiene-1,8-dioic acid           22.8   \n",
       "1531    100-63-0                         phenylhydrazine  [16.43, 16.4]   \n",
       "1925    123-75-1                             pyrrolidine    [9.12, 9.1]   \n",
       "\n",
       "                  Tm  dhm at Tm average  dsm average  dhm at Tm median  \\\n",
       "1251             380             22.780    59.947368            22.780   \n",
       "1468             380             22.800    60.000000            22.800   \n",
       "1531  [292.8, 292.8]             16.415    56.062158            16.415   \n",
       "1925  [215.3, 215.3]              9.110    42.313052             9.110   \n",
       "\n",
       "      dsm median  dhm at Tm SD  Tm average  Tm median  Tm SD  \\\n",
       "1251   59.947368           0.0       380.0      380.0    0.0   \n",
       "1468   60.000000           0.0       380.0      380.0    0.0   \n",
       "1531   56.062158           0.0       292.8      292.8    0.0   \n",
       "1925   42.313052           0.0       215.3      215.3    0.0   \n",
       "\n",
       "                         smile                            source  \\\n",
       "1251  C/C(=C\\CO)/CC/C=C(\\C)\\CO                         jain 2004   \n",
       "1468  C/C(=C\\CO)/CC/C=C(\\C)\\CO                   jain akash 2005   \n",
       "1531     [H+].[Cl-].NNc1ccccc1  ['jain 2004', 'jain akash 2005']   \n",
       "1925        [H+].[Cl-].C1CCNC1  ['jain 2004', 'jain akash 2005']   \n",
       "\n",
       "                             dh source                       Temp source  \\\n",
       "1251                    keshavarz 2020                    keshavarz 2020   \n",
       "1468                    keshavarz 2020                    keshavarz 2020   \n",
       "1531  ['jain 2004', 'jain akash 2005']  ['jain 2004', 'jain akash 2005']   \n",
       "1925  ['jain 2004', 'jain akash 2005']  ['jain 2004', 'jain akash 2005']   \n",
       "\n",
       "        Formula                                            mol  \\\n",
       "1251    C8H10O4  <rdkit.Chem.rdchem.Mol object at 0x126a1eb80>   \n",
       "1468        NaN  <rdkit.Chem.rdchem.Mol object at 0x126a27e20>   \n",
       "1531    C6H8N2   <rdkit.Chem.rdchem.Mol object at 0x126a2a640>   \n",
       "1925  C4H9N      <rdkit.Chem.rdchem.Mol object at 0x126a39c40>   \n",
       "\n",
       "                                                    err  \n",
       "1251  RDKit WARNING: [10:56:51] Conflicting single b...  \n",
       "1468  RDKit WARNING: [10:56:51] Conflicting single b...  \n",
       "1531  RDKit WARNING: [10:56:51] WARNING: not removin...  \n",
       "1925  RDKit WARNING: [10:56:51] WARNING: not removin...  "
      ]
     },
     "execution_count": 169,
     "metadata": {},
     "output_type": "execute_result"
    }
   ],
   "source": [
    "df_dhm.query(\"err != ''\")"
   ]
  },
  {
   "cell_type": "markdown",
   "id": "b9c758a8",
   "metadata": {},
   "source": [
    "Add a molecule column"
   ]
  },
  {
   "cell_type": "code",
   "execution_count": 88,
   "id": "0c33e9f8",
   "metadata": {
    "scrolled": true
   },
   "outputs": [
    {
     "name": "stderr",
     "output_type": "stream",
     "text": [
      "RDKit WARNING: [14:34:02] Conflicting single bond directions around double bond at index 7.\n",
      "[14:34:02] Conflicting single bond directions around double bond at index 7.\n",
      "RDKit WARNING: [14:34:02]   BondStereo set to STEREONONE and single bond directions set to NONE.\n",
      "[14:34:02]   BondStereo set to STEREONONE and single bond directions set to NONE.\n",
      "RDKit WARNING: [14:34:02] Conflicting single bond directions around double bond at index 7.\n",
      "[14:34:02] Conflicting single bond directions around double bond at index 7.\n",
      "RDKit WARNING: [14:34:02]   BondStereo set to STEREONONE and single bond directions set to NONE.\n",
      "[14:34:02]   BondStereo set to STEREONONE and single bond directions set to NONE.\n",
      "RDKit WARNING: [14:34:02] WARNING: not removing hydrogen atom without neighbors\n",
      "[14:34:02] WARNING: not removing hydrogen atom without neighbors\n",
      "RDKit WARNING: [14:34:02] WARNING: not removing hydrogen atom without neighbors\n",
      "[14:34:02] WARNING: not removing hydrogen atom without neighbors\n"
     ]
    }
   ],
   "source": [
    "df_dhm['mol'] = [Chem.MolFromSmiles(x) for x in df_dhm.smile]"
   ]
  },
  {
   "cell_type": "markdown",
   "id": "e299b614",
   "metadata": {},
   "source": [
    "Calculate the number of atoms"
   ]
  },
  {
   "cell_type": "code",
   "execution_count": 89,
   "id": "aaa338ec",
   "metadata": {},
   "outputs": [],
   "source": [
    "df_dhm['num_atoms'] = [x.GetNumAtoms() for x in df_dhm.mol]"
   ]
  },
  {
   "cell_type": "markdown",
   "id": "780f9993",
   "metadata": {},
   "source": [
    "Remove structures with < 4 atoms"
   ]
  },
  {
   "cell_type": "code",
   "execution_count": 90,
   "id": "38f96e32",
   "metadata": {},
   "outputs": [],
   "source": [
    "df_dhm_ok = df_dhm.query(\"num_atoms >= 4\").copy()"
   ]
  },
  {
   "cell_type": "code",
   "execution_count": 95,
   "id": "f87f81ce",
   "metadata": {},
   "outputs": [
    {
     "name": "stdout",
     "output_type": "stream",
     "text": [
      "39 structures with < 4 atoms removed\n"
     ]
    }
   ],
   "source": [
    "print(f\"{len(df_dhm) - len(df_dhm_ok)} structures with < 4 atoms removed\")"
   ]
  },
  {
   "cell_type": "code",
   "execution_count": 96,
   "id": "ff724f99",
   "metadata": {},
   "outputs": [
    {
     "data": {
      "application/vnd.jupyter.widget-view+json": {
       "model_id": "f5f46c33b3274d95ae3a14e02d653104",
       "version_major": 2,
       "version_minor": 0
      },
      "text/plain": [
       "  0%|          | 0/4502 [00:00<?, ?it/s]"
      ]
     },
     "metadata": {},
     "output_type": "display_data"
    }
   ],
   "source": [
    "df_dhm_ok['sigma_orig'] = df_dhm_ok.mol.progress_apply(sigma_calc.calc_sigma_original)"
   ]
  },
  {
   "cell_type": "code",
   "execution_count": 122,
   "id": "bc1758f6",
   "metadata": {},
   "outputs": [
    {
     "data": {
      "application/vnd.jupyter.widget-view+json": {
       "model_id": "07ce413a2a614e4e88d1b8a76a42eadb",
       "version_major": 2,
       "version_minor": 0
      },
      "text/plain": [
       "  0%|          | 0/4502 [00:00<?, ?it/s]"
      ]
     },
     "metadata": {},
     "output_type": "display_data"
    },
    {
     "name": "stderr",
     "output_type": "stream",
     "text": [
      "Failed to generate a 3D structure for CCCCCCCCCCc1cc2c3cc(CCCCCCCCCC)c(CCCCCCCCCC)cc3c3cc(CCCCCCCCCC)c(CCCCCCCCCC)cc3c2cc1CCCCCCCCCC\n",
      "RDKit WARNING: [08:05:23] WARNING: not removing hydrogen atom without neighbors\n",
      "[08:05:23] WARNING: not removing hydrogen atom without neighbors\n",
      "RDKit WARNING: [08:05:23] WARNING: not removing hydrogen atom without neighbors\n",
      "[08:05:23] WARNING: not removing hydrogen atom without neighbors\n",
      "RDKit WARNING: [08:05:23] WARNING: not removing hydrogen atom without neighbors\n",
      "[08:05:23] WARNING: not removing hydrogen atom without neighbors\n",
      "RDKit WARNING: [08:05:23] WARNING: not removing hydrogen atom without neighbors\n",
      "[08:05:23] WARNING: not removing hydrogen atom without neighbors\n",
      "RDKit WARNING: [08:05:23] WARNING: not removing hydrogen atom without neighbors\n",
      "[08:05:23] WARNING: not removing hydrogen atom without neighbors\n",
      "RDKit WARNING: [08:05:23] WARNING: not removing hydrogen atom without neighbors\n",
      "[08:05:23] WARNING: not removing hydrogen atom without neighbors\n",
      "RDKit WARNING: [08:05:23] WARNING: not removing hydrogen atom without neighbors\n",
      "[08:05:23] WARNING: not removing hydrogen atom without neighbors\n",
      "RDKit WARNING: [08:05:23] WARNING: not removing hydrogen atom without neighbors\n",
      "[08:05:23] WARNING: not removing hydrogen atom without neighbors\n",
      "RDKit WARNING: [08:05:23] WARNING: not removing hydrogen atom without neighbors\n",
      "[08:05:23] WARNING: not removing hydrogen atom without neighbors\n",
      "RDKit WARNING: [08:05:23] WARNING: not removing hydrogen atom without neighbors\n",
      "[08:05:23] WARNING: not removing hydrogen atom without neighbors\n",
      "RDKit WARNING: [08:05:23] WARNING: not removing hydrogen atom without neighbors\n",
      "[08:05:23] WARNING: not removing hydrogen atom without neighbors\n",
      "RDKit WARNING: [08:05:23] WARNING: not removing hydrogen atom without neighbors\n",
      "[08:05:23] WARNING: not removing hydrogen atom without neighbors\n",
      "RDKit WARNING: [08:05:23] WARNING: not removing hydrogen atom without neighbors\n",
      "[08:05:23] WARNING: not removing hydrogen atom without neighbors\n",
      "RDKit WARNING: [08:05:23] WARNING: not removing hydrogen atom without neighbors\n",
      "[08:05:23] WARNING: not removing hydrogen atom without neighbors\n",
      "RDKit WARNING: [08:05:23] WARNING: not removing hydrogen atom without neighbors\n",
      "[08:05:23] WARNING: not removing hydrogen atom without neighbors\n",
      "RDKit WARNING: [08:05:23] WARNING: not removing hydrogen atom without neighbors\n",
      "[08:05:23] WARNING: not removing hydrogen atom without neighbors\n",
      "RDKit WARNING: [08:05:23] WARNING: not removing hydrogen atom without neighbors\n",
      "[08:05:23] WARNING: not removing hydrogen atom without neighbors\n",
      "RDKit WARNING: [08:05:23] WARNING: not removing hydrogen atom without neighbors\n",
      "[08:05:23] WARNING: not removing hydrogen atom without neighbors\n",
      "RDKit WARNING: [08:05:23] WARNING: not removing hydrogen atom without neighbors\n",
      "[08:05:23] WARNING: not removing hydrogen atom without neighbors\n",
      "RDKit WARNING: [08:05:23] WARNING: not removing hydrogen atom without neighbors\n",
      "[08:05:23] WARNING: not removing hydrogen atom without neighbors\n",
      "RDKit WARNING: [08:07:00] WARNING: not removing hydrogen atom without neighbors\n",
      "[08:07:00] WARNING: not removing hydrogen atom without neighbors\n",
      "RDKit WARNING: [08:07:00] WARNING: not removing hydrogen atom without neighbors\n",
      "[08:07:00] WARNING: not removing hydrogen atom without neighbors\n",
      "RDKit WARNING: [08:07:00] WARNING: not removing hydrogen atom without neighbors\n",
      "[08:07:00] WARNING: not removing hydrogen atom without neighbors\n",
      "RDKit WARNING: [08:07:00] WARNING: not removing hydrogen atom without neighbors\n",
      "[08:07:00] WARNING: not removing hydrogen atom without neighbors\n",
      "RDKit WARNING: [08:07:00] WARNING: not removing hydrogen atom without neighbors\n",
      "[08:07:00] WARNING: not removing hydrogen atom without neighbors\n",
      "RDKit WARNING: [08:07:00] WARNING: not removing hydrogen atom without neighbors\n",
      "[08:07:00] WARNING: not removing hydrogen atom without neighbors\n",
      "RDKit WARNING: [08:07:00] WARNING: not removing hydrogen atom without neighbors\n",
      "[08:07:00] WARNING: not removing hydrogen atom without neighbors\n",
      "RDKit WARNING: [08:07:00] WARNING: not removing hydrogen atom without neighbors\n",
      "[08:07:00] WARNING: not removing hydrogen atom without neighbors\n",
      "RDKit WARNING: [08:07:00] WARNING: not removing hydrogen atom without neighbors\n",
      "[08:07:00] WARNING: not removing hydrogen atom without neighbors\n",
      "RDKit WARNING: [08:07:00] WARNING: not removing hydrogen atom without neighbors\n",
      "[08:07:00] WARNING: not removing hydrogen atom without neighbors\n",
      "RDKit WARNING: [08:07:00] WARNING: not removing hydrogen atom without neighbors\n",
      "[08:07:00] WARNING: not removing hydrogen atom without neighbors\n",
      "RDKit WARNING: [08:07:00] WARNING: not removing hydrogen atom without neighbors\n",
      "[08:07:00] WARNING: not removing hydrogen atom without neighbors\n",
      "RDKit WARNING: [08:07:00] WARNING: not removing hydrogen atom without neighbors\n",
      "[08:07:00] WARNING: not removing hydrogen atom without neighbors\n",
      "RDKit WARNING: [08:07:00] WARNING: not removing hydrogen atom without neighbors\n",
      "[08:07:00] WARNING: not removing hydrogen atom without neighbors\n",
      "RDKit WARNING: [08:07:00] WARNING: not removing hydrogen atom without neighbors\n",
      "[08:07:00] WARNING: not removing hydrogen atom without neighbors\n",
      "RDKit WARNING: [08:07:00] WARNING: not removing hydrogen atom without neighbors\n",
      "[08:07:00] WARNING: not removing hydrogen atom without neighbors\n",
      "RDKit WARNING: [08:07:00] WARNING: not removing hydrogen atom without neighbors\n",
      "[08:07:00] WARNING: not removing hydrogen atom without neighbors\n",
      "RDKit WARNING: [08:07:00] WARNING: not removing hydrogen atom without neighbors\n",
      "[08:07:00] WARNING: not removing hydrogen atom without neighbors\n",
      "RDKit WARNING: [08:07:00] WARNING: not removing hydrogen atom without neighbors\n",
      "[08:07:00] WARNING: not removing hydrogen atom without neighbors\n",
      "RDKit WARNING: [08:07:00] WARNING: not removing hydrogen atom without neighbors\n",
      "[08:07:00] WARNING: not removing hydrogen atom without neighbors\n",
      "Failed to generate a 3D structure for CC(C)(C)CCC(CCC(C)(C)C)(CCC(C)(C)C)CCC(C)(C)C\n",
      "Failed to generate a 3D structure for CC(C)(C)CCC(CCC(C)(C)C)(CCC(C)(C)C)CCC(C)(C)C\n",
      "Failed to generate a 3D structure for c1cc2ccc1CCc1ccc(cc1)CC2\n",
      "Failed to generate a 3D structure for c1ccc2c(c1)SSc1ccccc1-2\n",
      "Failed to generate a 3D structure for COC(=O)c1ccc(C(=O)OC)c2c(C(=O)OC)ccc(C(=O)OC)c12\n",
      "Failed to generate a 3D structure for CCCCCCCCCCCC(=O)OCC(COC(=O)CCCCCCCCCCC)OC(=O)CCCCCCCCCCC\n",
      "Failed to generate a 3D structure for c1cc2cc(c1)CCc1ccc(cc1)CC2\n",
      "Failed to generate a 3D structure for CCCCCCCCCCC(CCCCCCCCCC)CCCCCCCCCC\n",
      "Failed to generate a 3D structure for CCCCCCCCCCCCCCCCCC(=O)OCC(COC(=O)CCCCCCCCCCCCCCCCC)OC(=O)CCCCCCCCCCCCCCCCC\n",
      "Failed to generate a 3D structure for CCCCCCCCCCCCCCCC(=O)OCC(COC(=O)CCCCCCCCCCCCCCC)OC(=O)CCCCCCCCCCCCCCC\n",
      "Failed to generate a 3D structure for CCCCCCCCCCCCCC(=O)OCC(COC(=O)CCCCCCCCCCCCC)OC(=O)CCCCCCCCCCCCC\n",
      "Failed to generate a 3D structure for CCCCCC(=O)Oc1c(OC(=O)CCCCC)c(OC(=O)CCCCC)c(OC(=O)CCCCC)c(OC(=O)CCCCC)c1OC(=O)CCCCC\n",
      "Failed to generate a 3D structure for CCCCCCCCCCCCCCCCCCCCCCCCCCCCCCCCCCCCCCCCCCCCCCCCCCCCCCCCCCCCCCCCCCCCCCCCCCCCCCCCCCCCCCCCCCCCCCCCCCCC\n",
      "Failed to generate a 3D structure for CCCCCCCCCCCCCCCCCCCCCCCCCCCCCCCCCCCCCCCCCCCCCCCCCCCCCCCCCCCC\n",
      "Failed to generate a 3D structure for CCCCC(CCCC)(c1ccc(C(C)(C)C)cc1)C(CCCC)(CCCC)c1ccc(C(C)(C)C)cc1\n"
     ]
    }
   ],
   "source": [
    "df_dhm_ok['sigma_new'] = df_dhm_ok.mol.progress_apply(sigma_calc.calc_sigma_new)"
   ]
  },
  {
   "cell_type": "markdown",
   "id": "39c8a5e2",
   "metadata": {},
   "source": [
    "## dhv"
   ]
  },
  {
   "cell_type": "code",
   "execution_count": 80,
   "id": "25137f65",
   "metadata": {},
   "outputs": [],
   "source": [
    "df_dhv = pd.read_excel(\"dhv at tb-1_11_12.xlsx\")"
   ]
  },
  {
   "cell_type": "code",
   "execution_count": 81,
   "id": "4226f6c1",
   "metadata": {},
   "outputs": [
    {
     "name": "stderr",
     "output_type": "stream",
     "text": [
      "RDKit WARNING: [14:32:28] Conflicting single bond directions around double bond at index 3.\n",
      "[14:32:28] Conflicting single bond directions around double bond at index 3.\n",
      "RDKit WARNING: [14:32:28]   BondStereo set to STEREONONE and single bond directions set to NONE.\n",
      "[14:32:28]   BondStereo set to STEREONONE and single bond directions set to NONE.\n"
     ]
    }
   ],
   "source": [
    "df_dhv['mol'] = [Chem.MolFromSmiles(x) for x in df_dhv.smile]"
   ]
  },
  {
   "cell_type": "code",
   "execution_count": 82,
   "id": "49e77d82",
   "metadata": {},
   "outputs": [],
   "source": [
    "df_dhv['num_atoms'] = [x.GetNumAtoms() for x in df_dhv.mol]"
   ]
  },
  {
   "cell_type": "code",
   "execution_count": 83,
   "id": "c4dee519",
   "metadata": {},
   "outputs": [],
   "source": [
    "df_dhv_ok = df_dhv.query(\"num_atoms >= 4\").copy()"
   ]
  },
  {
   "cell_type": "code",
   "execution_count": 94,
   "id": "d2dfabaa",
   "metadata": {},
   "outputs": [
    {
     "name": "stdout",
     "output_type": "stream",
     "text": [
      "42 structures with < 4 atoms removed\n"
     ]
    }
   ],
   "source": [
    "print(f\"{len(df_dhv) - len(df_dhv_ok)} structures with < 4 atoms removed\")"
   ]
  },
  {
   "cell_type": "code",
   "execution_count": 84,
   "id": "43e8bfc0",
   "metadata": {},
   "outputs": [],
   "source": [
    "sigma_calc = SigmaCalculator()"
   ]
  },
  {
   "cell_type": "code",
   "execution_count": 85,
   "id": "7b099463",
   "metadata": {},
   "outputs": [
    {
     "data": {
      "application/vnd.jupyter.widget-view+json": {
       "model_id": "f59400c496e24f31a62fb05a71621d06",
       "version_major": 2,
       "version_minor": 0
      },
      "text/plain": [
       "  0%|          | 0/3064 [00:00<?, ?it/s]"
      ]
     },
     "metadata": {},
     "output_type": "display_data"
    }
   ],
   "source": [
    "df_dhv_ok['sigma_orig'] = df_dhv_ok.mol.progress_apply(sigma_calc.calc_sigma_original)"
   ]
  },
  {
   "cell_type": "code",
   "execution_count": 123,
   "id": "a3f591fb",
   "metadata": {},
   "outputs": [
    {
     "data": {
      "application/vnd.jupyter.widget-view+json": {
       "model_id": "e212aa402de04e4ab0af3ba284e429ee",
       "version_major": 2,
       "version_minor": 0
      },
      "text/plain": [
       "  0%|          | 0/3064 [00:00<?, ?it/s]"
      ]
     },
     "metadata": {},
     "output_type": "display_data"
    }
   ],
   "source": [
    "df_dhv_ok['sigma_new'] = df_dhv_ok.mol.progress_apply(sigma_calc.calc_sigma_new)"
   ]
  },
  {
   "cell_type": "code",
   "execution_count": 129,
   "id": "06f5ae31",
   "metadata": {},
   "outputs": [],
   "source": [
    "import sys\n",
    "from io import StringIO"
   ]
  },
  {
   "cell_type": "code",
   "execution_count": 130,
   "id": "b1c5bdc9",
   "metadata": {},
   "outputs": [],
   "source": [
    "def smi2mol_with_errors(smi):\n",
    "    sio = sys.stderr = StringIO()\n",
    "    mol = Chem.MolFromSmiles(smi)\n",
    "    err = sio.getvalue()\n",
    "    sio = sys.stderr = StringIO()\n",
    "    sys.stderr = sys.__stderr__\n",
    "    return mol, err"
   ]
  },
  {
   "cell_type": "code",
   "execution_count": 149,
   "id": "626333c4",
   "metadata": {},
   "outputs": [],
   "source": [
    "res = df_dhm_ok.smile.apply(smi2mol_with_errors)"
   ]
  },
  {
   "cell_type": "code",
   "execution_count": 150,
   "id": "c3a23065",
   "metadata": {},
   "outputs": [],
   "source": [
    "err_df = pd.DataFrame([list(x) for x in res],columns=['ROMol',\"error\"])"
   ]
  },
  {
   "cell_type": "code",
   "execution_count": 152,
   "id": "dc22fe3a",
   "metadata": {},
   "outputs": [
    {
     "data": {
      "text/html": [
       "<div>\n",
       "<style scoped>\n",
       "    .dataframe tbody tr th:only-of-type {\n",
       "        vertical-align: middle;\n",
       "    }\n",
       "\n",
       "    .dataframe tbody tr th {\n",
       "        vertical-align: top;\n",
       "    }\n",
       "\n",
       "    .dataframe thead th {\n",
       "        text-align: right;\n",
       "    }\n",
       "</style>\n",
       "<table border=\"1\" class=\"dataframe\">\n",
       "  <thead>\n",
       "    <tr style=\"text-align: right;\">\n",
       "      <th></th>\n",
       "      <th>ROMol</th>\n",
       "      <th>error</th>\n",
       "    </tr>\n",
       "  </thead>\n",
       "  <tbody>\n",
       "    <tr>\n",
       "      <th>1237</th>\n",
       "      <td>&lt;rdkit.Chem.rdchem.Mol object at 0x1264296a0&gt;</td>\n",
       "      <td>RDKit WARNING: [10:40:37] Conflicting single b...</td>\n",
       "    </tr>\n",
       "    <tr>\n",
       "      <th>1454</th>\n",
       "      <td>&lt;rdkit.Chem.rdchem.Mol object at 0x126443940&gt;</td>\n",
       "      <td>RDKit WARNING: [10:40:37] Conflicting single b...</td>\n",
       "    </tr>\n",
       "    <tr>\n",
       "      <th>1517</th>\n",
       "      <td>&lt;rdkit.Chem.rdchem.Mol object at 0x126425160&gt;</td>\n",
       "      <td>RDKit WARNING: [10:40:37] WARNING: not removin...</td>\n",
       "    </tr>\n",
       "    <tr>\n",
       "      <th>1910</th>\n",
       "      <td>&lt;rdkit.Chem.rdchem.Mol object at 0x12643e700&gt;</td>\n",
       "      <td>RDKit WARNING: [10:40:37] WARNING: not removin...</td>\n",
       "    </tr>\n",
       "  </tbody>\n",
       "</table>\n",
       "</div>"
      ],
      "text/plain": [
       "                                              ROMol  \\\n",
       "1237  <rdkit.Chem.rdchem.Mol object at 0x1264296a0>   \n",
       "1454  <rdkit.Chem.rdchem.Mol object at 0x126443940>   \n",
       "1517  <rdkit.Chem.rdchem.Mol object at 0x126425160>   \n",
       "1910  <rdkit.Chem.rdchem.Mol object at 0x12643e700>   \n",
       "\n",
       "                                                  error  \n",
       "1237  RDKit WARNING: [10:40:37] Conflicting single b...  \n",
       "1454  RDKit WARNING: [10:40:37] Conflicting single b...  \n",
       "1517  RDKit WARNING: [10:40:37] WARNING: not removin...  \n",
       "1910  RDKit WARNING: [10:40:37] WARNING: not removin...  "
      ]
     },
     "execution_count": 152,
     "metadata": {},
     "output_type": "execute_result"
    }
   ],
   "source": [
    "err_df.query(\"error != ''\")"
   ]
  },
  {
   "cell_type": "code",
   "execution_count": 154,
   "id": "5fd4aa43",
   "metadata": {},
   "outputs": [
    {
     "data": {
      "image/png": "[encoded data removed]",
      "text/plain": [
       "<rdkit.Chem.rdchem.Mol at 0x126425160>"
      ]
     },
     "execution_count": 154,
     "metadata": {},
     "output_type": "execute_result"
    }
   ],
   "source": [
    "err_df.ROMol.values[1517]"
   ]
  },
  {
   "cell_type": "code",
   "execution_count": 171,
   "id": "58b2fa23",
   "metadata": {},
   "outputs": [
    {
     "name": "stdout",
     "output_type": "stream",
     "text": [
      "/Users/pwalters/modsource/python/rdkit/symmetry_sigma\r\n"
     ]
    }
   ],
   "source": [
    "!pwd"
   ]
  },
  {
   "cell_type": "code",
   "execution_count": null,
   "id": "0993c476",
   "metadata": {},
   "outputs": [],
   "source": []
  }
 ],
 "metadata": {
  "kernelspec": {
   "display_name": "Python 3 (ipykernel)",
   "language": "python",
   "name": "python3"
  },
  "language_info": {
   "codemirror_mode": {
    "name": "ipython",
    "version": 3
   },
   "file_extension": ".py",
   "mimetype": "text/x-python",
   "name": "python",
   "nbconvert_exporter": "python",
   "pygments_lexer": "ipython3",
   "version": "3.9.6"
  }
 },
 "nbformat": 4,
 "nbformat_minor": 5
}
