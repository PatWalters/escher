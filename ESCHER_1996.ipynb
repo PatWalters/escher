{
 "cells": [
  {
   "cell_type": "markdown",
   "id": "990c7584",
   "metadata": {},
   "source": [
    "### Implementing the ESCHER Method as Described in the 1996 Paper\n",
    "\n",
    "I tried the graph potentials approach in the 1996 paper, but was unsatisfied with its ability to identify the centers of the molecular graph.  Instead, I decide to employ an approach published by [Bonchev in 1980](https://pubs.acs.org/doi/abs/10.1021/ci60022a011).  The code below provides a walkthrough of the implementation.  This is callable as **SigmaCalculator.get_sigma_original** in sigma.py. "
   ]
  },
  {
   "cell_type": "code",
   "execution_count": 1,
   "id": "f1954cbf",
   "metadata": {},
   "outputs": [],
   "source": [
    "from rdkit import Chem\n",
    "import numpy as np\n",
    "import pandas as pd\n",
    "from IPython.display import Markdown, display"
   ]
  },
  {
   "cell_type": "markdown",
   "id": "11f168a3",
   "metadata": {},
   "source": [
    "Define a molecule"
   ]
  },
  {
   "cell_type": "code",
   "execution_count": 2,
   "id": "f0ebdf8e",
   "metadata": {},
   "outputs": [],
   "source": [
    "smi = \"CCC12CC1C2\"\n",
    "mol = Chem.MolFromSmiles(smi)"
   ]
  },
  {
   "cell_type": "code",
   "execution_count": 3,
   "id": "ba5774e7",
   "metadata": {},
   "outputs": [
    {
     "data": {
      "image/png": "[encoded data removed]",
      "text/plain": [
       "<rdkit.Chem.rdchem.Mol at 0x111a76500>"
      ]
     },
     "execution_count": 3,
     "metadata": {},
     "output_type": "execute_result"
    }
   ],
   "source": [
    "mol"
   ]
  },
  {
   "cell_type": "markdown",
   "id": "f692dac5",
   "metadata": {},
   "source": [
    "Define a function to label atoms "
   ]
  },
  {
   "cell_type": "code",
   "execution_count": 4,
   "id": "621fa04b",
   "metadata": {},
   "outputs": [],
   "source": [
    "def label_atoms(mol, labels):\n",
    "    [atm.SetProp('atomNote',\"\") for atm in mol.GetAtoms()]\n",
    "    for atm in mol.GetAtoms():\n",
    "        idx = atm.GetIdx()\n",
    "        mol.GetAtomWithIdx(idx).SetProp('atomNote',f\"{labels[idx]}\")\n",
    "    return mol"
   ]
  },
  {
   "cell_type": "markdown",
   "id": "564aede1",
   "metadata": {},
   "source": [
    "Label the atom numbers"
   ]
  },
  {
   "cell_type": "code",
   "execution_count": 5,
   "id": "a761817b",
   "metadata": {},
   "outputs": [
    {
     "data": {
      "image/png": "[encoded data removed]",
      "text/plain": [
       "<rdkit.Chem.rdchem.Mol at 0x111a76500>"
      ]
     },
     "execution_count": 5,
     "metadata": {},
     "output_type": "execute_result"
    }
   ],
   "source": [
    "label_atoms(mol,[x.GetIdx() for x in mol.GetAtoms()])"
   ]
  },
  {
   "cell_type": "markdown",
   "id": "0bec6aba",
   "metadata": {},
   "source": [
    "Get the distance matrix for the molecule"
   ]
  },
  {
   "cell_type": "code",
   "execution_count": 6,
   "id": "f977484c",
   "metadata": {},
   "outputs": [
    {
     "data": {
      "text/plain": [
       "array([[0, 1, 2, 3, 3, 3],\n",
       "       [1, 0, 1, 2, 2, 2],\n",
       "       [2, 1, 0, 1, 1, 1],\n",
       "       [3, 2, 1, 0, 1, 2],\n",
       "       [3, 2, 1, 1, 0, 1],\n",
       "       [3, 2, 1, 2, 1, 0]])"
      ]
     },
     "execution_count": 6,
     "metadata": {},
     "output_type": "execute_result"
    }
   ],
   "source": [
    "dm = Chem.GetDistanceMatrix(mol).astype(int)\n",
    "dm"
   ]
  },
  {
   "cell_type": "markdown",
   "id": "3e104bd0",
   "metadata": {},
   "source": [
    "Get the maximum distance for each atom"
   ]
  },
  {
   "cell_type": "code",
   "execution_count": 7,
   "id": "d036dc90",
   "metadata": {},
   "outputs": [
    {
     "data": {
      "text/plain": [
       "array([3, 2, 2, 3, 3, 3])"
      ]
     },
     "execution_count": 7,
     "metadata": {},
     "output_type": "execute_result"
    }
   ],
   "source": [
    "max_dm = dm.max(axis=1)\n",
    "max_dm"
   ]
  },
  {
   "cell_type": "code",
   "execution_count": 8,
   "id": "fe3a0b45",
   "metadata": {},
   "outputs": [
    {
     "data": {
      "image/png": "[encoded data removed]",
      "text/plain": [
       "<rdkit.Chem.rdchem.Mol at 0x111a76500>"
      ]
     },
     "execution_count": 8,
     "metadata": {},
     "output_type": "execute_result"
    }
   ],
   "source": [
    "label_atoms(mol,max_dm)"
   ]
  },
  {
   "cell_type": "markdown",
   "id": "1336c2e6",
   "metadata": {},
   "source": [
    "#### Step 1 - Select the atoms where the maxium distance to any other atom is the smallest\n",
    "Find the atoms with the minimum value for the maxium distance"
   ]
  },
  {
   "cell_type": "code",
   "execution_count": 9,
   "id": "4bc0a53e",
   "metadata": {},
   "outputs": [
    {
     "data": {
      "text/plain": [
       "[1, 2]"
      ]
     },
     "execution_count": 9,
     "metadata": {},
     "output_type": "execute_result"
    }
   ],
   "source": [
    "max_pos = np.argwhere(max_dm == np.amin(max_dm)).flatten().tolist()\n",
    "max_pos"
   ]
  },
  {
   "cell_type": "markdown",
   "id": "ae10d520",
   "metadata": {},
   "source": [
    "Define a function to tag specific atoms"
   ]
  },
  {
   "cell_type": "code",
   "execution_count": 10,
   "id": "8e2f08ce",
   "metadata": {},
   "outputs": [],
   "source": [
    "def tag_atoms(mol,atoms_to_tag,tag=\"x\"):\n",
    "    [atm.SetProp('atomNote',\"\") for atm in mol.GetAtoms()]\n",
    "    [mol.GetAtomWithIdx(idx).SetProp('atomNote',tag) for idx in atoms_to_tag]\n",
    "    return mol  "
   ]
  },
  {
   "cell_type": "markdown",
   "id": "77d93df3",
   "metadata": {},
   "source": [
    "Label the centers.  Note that at this point we have two non-equalent atoms labeled as centers.   In order to break this tie, we will calculate sums of distances for each atom and select the atom with smallest sum of distances. "
   ]
  },
  {
   "cell_type": "code",
   "execution_count": 11,
   "id": "15780499",
   "metadata": {
    "scrolled": true
   },
   "outputs": [
    {
     "data": {
      "image/png": "[encoded data removed]",
      "text/plain": [
       "<rdkit.Chem.rdchem.Mol at 0x111a76500>"
      ]
     },
     "execution_count": 11,
     "metadata": {},
     "output_type": "execute_result"
    }
   ],
   "source": [
    "tag_atoms(mol,max_pos)"
   ]
  },
  {
   "cell_type": "markdown",
   "id": "b9e06224",
   "metadata": {},
   "source": [
    "#### Step 2 - Select the atom(s) where the sum of distances is the smallest\n",
    "Get the sums of distances for each atom"
   ]
  },
  {
   "cell_type": "code",
   "execution_count": 12,
   "id": "d197bf9b",
   "metadata": {},
   "outputs": [
    {
     "data": {
      "text/plain": [
       "array([12,  8,  6,  9,  8,  9])"
      ]
     },
     "execution_count": 12,
     "metadata": {},
     "output_type": "execute_result"
    }
   ],
   "source": [
    "sum_dist = dm.sum(axis=1).astype(int)\n",
    "sum_dist"
   ]
  },
  {
   "cell_type": "markdown",
   "id": "aa0187be",
   "metadata": {},
   "source": [
    "We're only interested in the sum of distances for the atoms we selected in **Step 1**"
   ]
  },
  {
   "cell_type": "code",
   "execution_count": 13,
   "id": "5cb0ff26",
   "metadata": {},
   "outputs": [],
   "source": [
    "sum_dist = [sum_dist[x] for x in max_pos]"
   ]
  },
  {
   "cell_type": "code",
   "execution_count": 14,
   "id": "b75ca37b",
   "metadata": {},
   "outputs": [
    {
     "data": {
      "text/plain": [
       "[8, 6]"
      ]
     },
     "execution_count": 14,
     "metadata": {},
     "output_type": "execute_result"
    }
   ],
   "source": [
    "sum_dist"
   ]
  },
  {
   "cell_type": "code",
   "execution_count": 15,
   "id": "3bfa689c",
   "metadata": {},
   "outputs": [
    {
     "name": "stdout",
     "output_type": "stream",
     "text": [
      "[1]\n"
     ]
    },
    {
     "data": {
      "text/plain": [
       "[2]"
      ]
     },
     "execution_count": 15,
     "metadata": {},
     "output_type": "execute_result"
    }
   ],
   "source": [
    "min_idx = np.argwhere(sum_dist == min(sum_dist)).flatten()\n",
    "print(min_idx)\n",
    "max_pos_min_dist = np.array(max_pos)[min_idx].flatten().tolist()\n",
    "max_pos_min_dist"
   ]
  },
  {
   "cell_type": "code",
   "execution_count": 16,
   "id": "2e571cff",
   "metadata": {},
   "outputs": [
    {
     "data": {
      "image/png": "[encoded data removed]",
      "text/plain": [
       "<rdkit.Chem.rdchem.Mol at 0x111a76500>"
      ]
     },
     "execution_count": 16,
     "metadata": {},
     "output_type": "execute_result"
    }
   ],
   "source": [
    "tag_atoms(mol,max_pos_min_dist)"
   ]
  },
  {
   "cell_type": "markdown",
   "id": "3ec1fc7e",
   "metadata": {},
   "source": [
    "Let's wrap all of the code above into a more convenient function"
   ]
  },
  {
   "cell_type": "code",
   "execution_count": 17,
   "id": "b6788126",
   "metadata": {},
   "outputs": [],
   "source": [
    "def find_center(mol):\n",
    "    dm = Chem.GetDistanceMatrix(indole).astype(int)\n",
    "    max_dm = dm.max(axis=1)\n",
    "    max_pos = np.argwhere(max_dm == np.amin(max_dm)).flatten().tolist()\n",
    "    sum_dist = dm.sum(axis=1).astype(int)\n",
    "    sum_dist = [sum_dist[x] for x in max_pos]\n",
    "    min_idx = np.argwhere(sum_dist == min(sum_dist)).flatten()\n",
    "    max_pos_min_dist = np.array(max_pos)[min_idx].flatten().tolist()\n",
    "    return max_pos_min_dist"
   ]
  },
  {
   "cell_type": "markdown",
   "id": "8c07eaf5",
   "metadata": {},
   "source": [
    "Even after steps 1 and 2 above, we can run into cases were we have two non-equivalent centers with the same minimum distance and sum of distances.  In this case we calculate sigma for each of the centers and take the lowest value. Here's an example with indole. "
   ]
  },
  {
   "cell_type": "code",
   "execution_count": 18,
   "id": "d53b4963",
   "metadata": {},
   "outputs": [
    {
     "data": {
      "image/png": "[encoded data removed]",
      "text/plain": [
       "<rdkit.Chem.rdchem.Mol at 0x13875e7a0>"
      ]
     },
     "execution_count": 18,
     "metadata": {},
     "output_type": "execute_result"
    }
   ],
   "source": [
    "indole = Chem.MolFromSmiles(\"c1cc2ccccc2[nH]1\")\n",
    "indole"
   ]
  },
  {
   "cell_type": "markdown",
   "id": "374e5e8c",
   "metadata": {},
   "source": [
    "Find the center(s) for indole"
   ]
  },
  {
   "cell_type": "code",
   "execution_count": 19,
   "id": "3a28527f",
   "metadata": {},
   "outputs": [
    {
     "data": {
      "text/plain": [
       "[2, 7]"
      ]
     },
     "execution_count": 19,
     "metadata": {},
     "output_type": "execute_result"
    }
   ],
   "source": [
    "indole_center = find_center(indole)\n",
    "indole_center"
   ]
  },
  {
   "cell_type": "markdown",
   "id": "c1d9e0bd",
   "metadata": {},
   "source": [
    "Tag the centers"
   ]
  },
  {
   "cell_type": "code",
   "execution_count": 20,
   "id": "88069c4d",
   "metadata": {},
   "outputs": [
    {
     "data": {
      "image/png": "[encoded data removed]",
      "text/plain": [
       "<rdkit.Chem.rdchem.Mol at 0x13875e7a0>"
      ]
     },
     "execution_count": 20,
     "metadata": {},
     "output_type": "execute_result"
    }
   ],
   "source": [
    "tag_atoms(indole, indole_center)"
   ]
  },
  {
   "cell_type": "markdown",
   "id": "2866e8aa",
   "metadata": {},
   "source": [
    "The function CanonicalAtomRanks in the RDKit give a different integer label to each symmetrically equivalent atom."
   ]
  },
  {
   "cell_type": "code",
   "execution_count": 21,
   "id": "85028531",
   "metadata": {},
   "outputs": [
    {
     "data": {
      "image/png": "[encoded data removed]",
      "text/plain": [
       "<rdkit.Chem.rdchem.Mol at 0x13875e7a0>"
      ]
     },
     "execution_count": 21,
     "metadata": {},
     "output_type": "execute_result"
    }
   ],
   "source": [
    "atom_ranks = Chem.CanonicalRankAtoms(indole,breakTies=False)\n",
    "label_atoms(indole,atom_ranks)"
   ]
  },
  {
   "cell_type": "markdown",
   "id": "edc103c8",
   "metadata": {},
   "source": [
    "Define a function to calculate the number of symmetrically unique neighbors are attached to a particular atom"
   ]
  },
  {
   "cell_type": "code",
   "execution_count": 22,
   "id": "e86d3921",
   "metadata": {},
   "outputs": [],
   "source": [
    "def get_num_unique_attached(atm, ranks):\n",
    "    nbrs = atm.GetNeighbors()\n",
    "    nbr_rank_list = []\n",
    "    for n in nbrs:\n",
    "        nbr_idx = n.GetIdx()\n",
    "        nbr_rank_list.append(ranks[nbr_idx])\n",
    "    return len(set(nbr_rank_list))"
   ]
  },
  {
   "cell_type": "markdown",
   "id": "f0ec1adf",
   "metadata": {},
   "source": [
    "Calculate the parameters reqired to calculate sigma for each of the centers in indole"
   ]
  },
  {
   "cell_type": "code",
   "execution_count": 23,
   "id": "236bbc55",
   "metadata": {},
   "outputs": [],
   "source": [
    "res = []\n",
    "for idx in indole_center:\n",
    "    atm = indole.GetAtomWithIdx(idx)\n",
    "    degree = atm.GetDegree()\n",
    "    unique_attached = get_num_unique_attached(atm,atom_ranks)\n",
    "    hybridization = str(atm.GetHybridization())\n",
    "    res.append([idx,degree,unique_attached,hybridization])"
   ]
  },
  {
   "cell_type": "markdown",
   "id": "b8ba7cd4",
   "metadata": {},
   "source": [
    "Display the values calculated above"
   ]
  },
  {
   "cell_type": "code",
   "execution_count": 24,
   "id": "9cd31312",
   "metadata": {},
   "outputs": [
    {
     "data": {
      "text/markdown": [
       "|    |   atom idx |   no. of attached atoms |   no. of attached types | hybrization   |\n",
       "|---:|-----------:|------------------------:|------------------------:|:--------------|\n",
       "|  0 |          2 |                       3 |                       3 | SP2           |\n",
       "|  1 |          7 |                       3 |                       3 | SP2           |"
      ],
      "text/plain": [
       "<IPython.core.display.Markdown object>"
      ]
     },
     "metadata": {},
     "output_type": "display_data"
    }
   ],
   "source": [
    "cols = [\"atom idx\",\"no. of attached atoms\",\"no. of attached types\",\"hybrization\"]\n",
    "df = pd.DataFrame(res,columns=cols)\n",
    "display(Markdown(df.to_markdown()))"
   ]
  },
  {
   "cell_type": "markdown",
   "id": "2b16f384",
   "metadata": {},
   "source": [
    "We can look up the values in Table 1 from the 1996 paper and see that sigma is 1 for both centers. We assign sigma as the lowest of the two values.  Since both values are 1, sigma is one.  Note that the table lookup is handled automatically in sigma.py.\n",
    "![Table 1](picture.png)"
   ]
  },
  {
   "cell_type": "code",
   "execution_count": null,
   "id": "9294c01d",
   "metadata": {},
   "outputs": [],
   "source": []
  }
 ],
 "metadata": {
  "kernelspec": {
   "display_name": "Python 3 (ipykernel)",
   "language": "python",
   "name": "python3"
  },
  "language_info": {
   "codemirror_mode": {
    "name": "ipython",
    "version": 3
   },
   "file_extension": ".py",
   "mimetype": "text/x-python",
   "name": "python",
   "nbconvert_exporter": "python",
   "pygments_lexer": "ipython3",
   "version": "3.10.4"
  }
 },
 "nbformat": 4,
 "nbformat_minor": 5
}
