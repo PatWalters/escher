{
 "cells": [
  {
   "cell_type": "code",
   "execution_count": 49,
   "id": "9791c4c7",
   "metadata": {},
   "outputs": [],
   "source": [
    "%load_ext autoreload\n",
    "%autoreload 2"
   ]
  },
  {
   "cell_type": "code",
   "execution_count": 59,
   "id": "ab1f5444",
   "metadata": {},
   "outputs": [],
   "source": [
    "import pandas as pd\n",
    "import useful_rdkit_utils as uru\n",
    "from tqdm.auto import tqdm\n",
    "from sigma import SigmaCalculator, max_ring_size\n",
    "import seaborn as sns\n",
    "import mols2grid"
   ]
  },
  {
   "cell_type": "code",
   "execution_count": 17,
   "id": "a75d8d58",
   "metadata": {},
   "outputs": [],
   "source": [
    "tqdm.pandas()"
   ]
  },
  {
   "cell_type": "code",
   "execution_count": 24,
   "id": "519e09f9",
   "metadata": {},
   "outputs": [],
   "source": [
    "def get_num_atoms(mol):\n",
    "    return mol.GetNumAtoms()"
   ]
  },
  {
   "cell_type": "code",
   "execution_count": 15,
   "id": "9320d52f",
   "metadata": {},
   "outputs": [],
   "source": [
    "dhm_df = pd.read_excel(\"dhm at tm-1_11_22.xlsx\")"
   ]
  },
  {
   "cell_type": "code",
   "execution_count": 16,
   "id": "1278a41d",
   "metadata": {},
   "outputs": [],
   "source": [
    "uru.add_molecule_and_errors(dhm_df,smiles_col=\"smile\")"
   ]
  },
  {
   "cell_type": "code",
   "execution_count": 18,
   "id": "91836c56",
   "metadata": {},
   "outputs": [
    {
     "data": {
      "application/vnd.jupyter.widget-view+json": {
       "model_id": "9150c41b1ce34a13bc905f122c19653c",
       "version_major": 2,
       "version_minor": 0
      },
      "text/plain": [
       "  0%|          | 0/4541 [00:00<?, ?it/s]"
      ]
     },
     "metadata": {},
     "output_type": "display_data"
    }
   ],
   "source": [
    "dhm_df['mol_3d'] = dhm_df.ROMol.progress_apply(uru.gen_3d)"
   ]
  },
  {
   "cell_type": "code",
   "execution_count": 29,
   "id": "d4a6976a",
   "metadata": {},
   "outputs": [],
   "source": [
    "dhm_df['num_atoms'] = dhm_df.ROMol.apply(get_num_atoms)\n",
    "dhm_df_ok = dhm_df.query(\"num_atoms >= 4\").copy()"
   ]
  },
  {
   "cell_type": "code",
   "execution_count": 30,
   "id": "c3b2f991",
   "metadata": {},
   "outputs": [],
   "source": [
    "sigma_calc = SigmaCalculator()"
   ]
  },
  {
   "cell_type": "code",
   "execution_count": 32,
   "id": "f5508687",
   "metadata": {},
   "outputs": [
    {
     "data": {
      "application/vnd.jupyter.widget-view+json": {
       "model_id": "3870869d8c504a9eb92ebf0d066d6175",
       "version_major": 2,
       "version_minor": 0
      },
      "text/plain": [
       "  0%|          | 0/4502 [00:00<?, ?it/s]"
      ]
     },
     "metadata": {},
     "output_type": "display_data"
    }
   ],
   "source": [
    "dhm_df_ok['sigma_orig'] = dhm_df_ok.ROMol.progress_apply(sigma_calc.calc_sigma_original)"
   ]
  },
  {
   "cell_type": "code",
   "execution_count": 33,
   "id": "507f5db8",
   "metadata": {},
   "outputs": [
    {
     "data": {
      "application/vnd.jupyter.widget-view+json": {
       "model_id": "7d150fa6a4814dc8b1610046ffd27a5e",
       "version_major": 2,
       "version_minor": 0
      },
      "text/plain": [
       "  0%|          | 0/4502 [00:00<?, ?it/s]"
      ]
     },
     "metadata": {},
     "output_type": "display_data"
    }
   ],
   "source": [
    "dhm_df_ok['sigma_new'] = dhm_df_ok.ROMol.progress_apply(sigma_calc.calc_sigma_new)"
   ]
  },
  {
   "cell_type": "code",
   "execution_count": 48,
   "id": "38a303b6",
   "metadata": {},
   "outputs": [
    {
     "data": {
      "text/html": [
       "<iframe class=\"mols2grid-iframe\" frameborder=\"0\" width=100%\n",
       "\n",
       "height=\"0\" \n",
       "onload=\"javascript:(function(o){o.style.height=o.contentWindow.document.body.scrollHeight+18+'px';}(this));\"\n",
       "\n",
       "\n",
       "allow=\"clipboard-write\"\n",
       "\n",
       "srcdoc=\"&lt;html&gt;\n",
       "  &lt;meta charset=&quot;utf-8&quot;&gt;\n",
       "  &lt;head&gt;\n",
       "    &lt;style&gt;\n",
       "    #mols2grid.gridcontainer {\n",
       "    display: block;\n",
       "    padding-left: 1em;\n",
       "    max-width: 820px;\n",
       "    width: 820px;\n",
       "}\n",
       "#mols2grid .cell {\n",
       "    border: 1px solid #cccccc;\n",
       "    text-align: center;\n",
       "    vertical-align: top;\n",
       "    max-width: 160px;\n",
       "    width: 160px;\n",
       "    font-family: &#x27;DejaVu&#x27;, sans-serif;\n",
       "    font-size: 12pt;\n",
       "    padding: 0;\n",
       "    margin: 0;\n",
       "    float: left;\n",
       "}\n",
       "#mols2grid .cell:hover {\n",
       "    background-color: #e7e7e7 !important;\n",
       "}\n",
       "#mols2grid .cell img, #mols2grid .cell svg {\n",
       "    max-width: 100%;\n",
       "    height: auto;\n",
       "    padding: 0;\n",
       "}\n",
       "#mols2grid .data {\n",
       "    overflow: hidden;\n",
       "    white-space: nowrap;\n",
       "    text-overflow: ellipsis;\n",
       "    display: block;\n",
       "}\n",
       "#mols2grid .arrow-asc:after {\n",
       "    content: &#x27;↑&#x27;;\n",
       "    text-align: right;\n",
       "    float:right;\n",
       "}\n",
       "#mols2grid .arrow-desc:after {\n",
       "    content: &#x27;↓&#x27;;\n",
       "    text-align: right;\n",
       "    float:right;\n",
       "}\n",
       "    /* custom CSS */\n",
       "    \n",
       "    &lt;/style&gt;\n",
       "    &lt;script src=&quot;https://cdnjs.cloudflare.com/ajax/libs/list.js/2.3.1/list.min.js&quot;&gt;&lt;/script&gt;\n",
       "&lt;link rel=&quot;stylesheet&quot; href=&quot;https://cdn.jsdelivr.net/npm/bootstrap@4.6.0/dist/css/bootstrap.min.css&quot; integrity=&quot;sha384-B0vP5xmATw1+K9KRQjQERJvTumQW0nPEzvF6L/Z6nronJ3oUOFUFpCjEUQouq2+l&quot; crossorigin=&quot;anonymous&quot;&gt;\n",
       "&lt;script src=&quot;https://code.jquery.com/jquery-3.5.1.slim.min.js&quot; integrity=&quot;sha384-DfXdz2htPH0lsSSs5nCTpuj/zy4C+OGpamoFVy38MVBnE+IbbVYUew+OrCXaRkfj&quot; crossorigin=&quot;anonymous&quot;&gt;&lt;/script&gt;\n",
       "&lt;script src=&quot;https://cdn.jsdelivr.net/npm/bootstrap@4.6.0/dist/js/bootstrap.bundle.min.js&quot; integrity=&quot;sha384-Piv4xVNRyMGpqkS2by6br4gNJ7DXjqk09RmUpJ8jgGtD7zP9yug3goQfGII0yAns&quot; crossorigin=&quot;anonymous&quot;&gt;&lt;/script&gt;\n",
       "&lt;script src=&quot;https://unpkg.com/@rdkit/rdkit@2021.3.2/Code/MinimalLib/dist/RDKit_minimal.js&quot;&gt;&lt;/script&gt;\n",
       "    &lt;!-- custom header --&gt;\n",
       "    \n",
       "  &lt;/head&gt;\n",
       "  &lt;body&gt;\n",
       "    &lt;div id=&quot;mols2grid&quot; class=&quot;gridcontainer grid-default&quot;&gt;\n",
       "      &lt;div class=&quot;row mb-3&quot;&gt;\n",
       "        &lt;div class=&quot;list&quot;&gt;&lt;div class=&quot;cell&quot; data-mols2grid-id=&quot;0&quot;&gt;&lt;input type=&quot;checkbox&quot; class=&quot;position-relative float-left&quot;&gt;&lt;div class=&quot;data data-img&quot;&gt;&lt;/div&gt;&lt;div class=&quot;data data-sigma_orig&quot;&gt;&lt;/div&gt;&lt;div class=&quot;data data-smile&quot; style=&quot;display: none;&quot;&gt;&lt;/div&gt;&lt;/div&gt;&lt;/div&gt;\n",
       "      &lt;/div&gt;\n",
       "      &lt;div class=&quot;d-inline&quot;&gt;\n",
       "        &lt;ul class=&quot;pagination float-left&quot;&gt;&lt;/ul&gt;\n",
       "        &lt;div id=&quot;controls&quot; class=&quot;d-flex flex-row float-right&quot;&gt;\n",
       "          &lt;div id=&quot;sort-dropdown&quot; class=&quot;dropdown pl-2&quot;&gt;\n",
       "            &lt;button class=&quot;btn btn-light dropdown-toggle&quot; type=&quot;button&quot; id=&quot;sortDropdown&quot; data-toggle=&quot;dropdown&quot; aria-haspopup=&quot;true&quot; aria-expanded=&quot;false&quot;&gt;\n",
       "              Sort by\n",
       "            &lt;/button&gt;\n",
       "            &lt;div class=&quot;dropdown-menu&quot; aria-labelledby=&quot;sortDropdownMenu&quot;&gt;\n",
       "              \n",
       "              \n",
       "              \n",
       "              \n",
       "              \n",
       "              &lt;button class=&quot;dropdown-item sort-btn arrow-asc active&quot; type=&quot;button&quot; data-name=&quot;mols2grid-id&quot;&gt;Index&lt;/button&gt;\n",
       "              \n",
       "              \n",
       "              \n",
       "              \n",
       "              \n",
       "              &lt;button class=&quot;dropdown-item sort-btn &quot; type=&quot;button&quot; data-name=&quot;data-sigma_orig&quot;&gt;Sigma_orig&lt;/button&gt;\n",
       "              \n",
       "              \n",
       "              \n",
       "              &lt;button class=&quot;dropdown-item sort-btn&quot; type=&quot;button&quot; data-name=&quot;checkbox&quot;&gt;Selected&lt;/button&gt;\n",
       "              \n",
       "            &lt;/div&gt;\n",
       "          &lt;/div&gt;\n",
       "          &lt;div class=&quot;input-group row pl-4&quot;&gt;\n",
       "            &lt;input type=&quot;text&quot; id=&quot;searchbar&quot; class=&quot;form-control&quot; placeholder=&quot;Search&quot; aria-label=&quot;Search&quot; aria-describedby=&quot;basic-addon1&quot;&gt;\n",
       "            &lt;div class=&quot;input-group-append&quot;&gt;\n",
       "              &lt;button id=&quot;searchBtn&quot; class=&quot;btn btn-light dropdown-toggle&quot; type=&quot;button&quot; data-toggle=&quot;dropdown&quot; aria-haspopup=&quot;true&quot; aria-expanded=&quot;false&quot;&gt;🔎&lt;/button&gt;\n",
       "              &lt;div class=&quot;dropdown-menu dropdown-menu-right&quot;&gt;\n",
       "                &lt;button id=&quot;txtSearch&quot; class=&quot;search-btn dropdown-item active&quot;&gt;Text&lt;/button&gt;\n",
       "                &lt;button id=&quot;smartsSearch&quot; class=&quot;search-btn dropdown-item&quot;&gt;SMARTS&lt;/button&gt;\n",
       "              &lt;/div&gt;\n",
       "            &lt;/div&gt;\n",
       "          &lt;/div&gt;\n",
       "        &lt;/div&gt;\n",
       "      &lt;/div&gt;\n",
       "    &lt;/div&gt;\n",
       "    &lt;script&gt;\n",
       "    // RDKit\n",
       "onRuntimeInitialized: initRDKitModule().then(function(instance) {\n",
       "    RDKitModule = instance;\n",
       "    console.log(&#x27;RDKit version: &#x27; + RDKitModule.version());\n",
       "});\n",
       "// list.js\n",
       "var listObj = new List(&#x27;mols2grid&#x27;, {\n",
       "    valueNames: [{data: [&#x27;mols2grid-id&#x27;]}, &#x27;data-sigma_orig&#x27;, &#x27;data-img&#x27;, &#x27;data-smile&#x27;],\n",
       "    item: &#x27;&lt;div class=&quot;cell&quot; data-mols2grid-id=&quot;0&quot;&gt;&lt;input type=&quot;checkbox&quot; class=&quot;position-relative float-left&quot;&gt;&lt;div class=&quot;data data-img&quot;&gt;&lt;/div&gt;&lt;div class=&quot;data data-sigma_orig&quot;&gt;&lt;/div&gt;&lt;div class=&quot;data data-smile&quot; style=&quot;display: none;&quot;&gt;&lt;/div&gt;&lt;/div&gt;&#x27;,\n",
       "    page: 15,\n",
       "    pagination: {\n",
       "        name: &quot;pagination&quot;,\n",
       "        item: &#x27;&lt;li class=&quot;page-item&quot;&gt;&lt;a class=&quot;page page-link&quot; href=&quot;#&quot; onclick=&quot;event.preventDefault()&quot;&gt;&lt;/a&gt;&lt;/li&gt;&#x27;,\n",
       "        innerWindow: 1,\n",
       "        outerWindow: 1,\n",
       "    },\n",
       "});\n",
       "listObj.remove(&quot;mols2grid-id&quot;, &quot;0&quot;);\n",
       "listObj.add([{&quot;data-sigma_orig&quot;: 48, &quot;data-img&quot;: &quot;&lt;?xml version=&#x27;1.0&#x27; encoding=&#x27;iso-8859-1&#x27;?&gt;\\n&lt;svg version=&#x27;1.1&#x27; baseProfile=&#x27;full&#x27;\\n              xmlns=&#x27;http://www.w3.org/2000/svg&#x27;\\n                      xmlns:rdkit=&#x27;http://www.rdkit.org/xml&#x27;\\n                      xmlns:xlink=&#x27;http://www.w3.org/1999/xlink&#x27;\\n                  xml:space=&#x27;preserve&#x27;\\nwidth=&#x27;160px&#x27; height=&#x27;120px&#x27; viewBox=&#x27;0 0 160 120&#x27;&gt;\\n&lt;!-- END OF HEADER --&gt;\\n&lt;rect style=&#x27;opacity:1.0;fill:#FFFFFF;stroke:none&#x27; width=&#x27;160&#x27; height=&#x27;120&#x27; x=&#x27;0&#x27; y=&#x27;0&#x27;&gt; &lt;/rect&gt;\\n&lt;path class=&#x27;bond-0 atom-0 atom-1&#x27; d=&#x27;M 36.5377,38.9 L 36.4941,55.668&#x27; style=&#x27;fill:none;fill-rule:evenodd;stroke:#000000;stroke-width:2.0px;stroke-linecap:butt;stroke-linejoin:miter;stroke-opacity:1&#x27; /&gt;\\n&lt;path class=&#x27;bond-23 atom-23 atom-0&#x27; d=&#x27;M 51.0793,30.5579 L 36.5377,38.9&#x27; style=&#x27;fill:none;fill-rule:evenodd;stroke:#000000;stroke-width:2.0px;stroke-linecap:butt;stroke-linejoin:miter;stroke-opacity:1&#x27; /&gt;\\n&lt;path class=&#x27;bond-1 atom-1 atom-2&#x27; d=&#x27;M 36.4941,55.668 L 21.9524,64.0101&#x27; style=&#x27;fill:none;fill-rule:evenodd;stroke:#000000;stroke-width:2.0px;stroke-linecap:butt;stroke-linejoin:miter;stroke-opacity:1&#x27; /&gt;\\n&lt;path class=&#x27;bond-2 atom-2 atom-3&#x27; d=&#x27;M 21.9524,64.0101 L 21.9021,80.7748&#x27; style=&#x27;fill:none;fill-rule:evenodd;stroke:#000000;stroke-width:2.0px;stroke-linecap:butt;stroke-linejoin:miter;stroke-opacity:1&#x27; /&gt;\\n&lt;path class=&#x27;bond-3 atom-3 atom-4&#x27; d=&#x27;M 21.9021,80.7748 L 36.4002,89.1973&#x27; style=&#x27;fill:none;fill-rule:evenodd;stroke:#000000;stroke-width:2.0px;stroke-linecap:butt;stroke-linejoin:miter;stroke-opacity:1&#x27; /&gt;\\n&lt;path class=&#x27;bond-4 atom-4 atom-5&#x27; d=&#x27;M 36.4002,89.1973 L 36.3499,105.962&#x27; style=&#x27;fill:none;fill-rule:evenodd;stroke:#000000;stroke-width:2.0px;stroke-linecap:butt;stroke-linejoin:miter;stroke-opacity:1&#x27; /&gt;\\n&lt;path class=&#x27;bond-5 atom-5 atom-6&#x27; d=&#x27;M 36.3499,105.962 L 50.8446,114.385&#x27; style=&#x27;fill:none;fill-rule:evenodd;stroke:#000000;stroke-width:2.0px;stroke-linecap:butt;stroke-linejoin:miter;stroke-opacity:1&#x27; /&gt;\\n&lt;path class=&#x27;bond-6 atom-6 atom-7&#x27; d=&#x27;M 50.8446,114.385 L 65.3896,106.042&#x27; style=&#x27;fill:none;fill-rule:evenodd;stroke:#000000;stroke-width:2.0px;stroke-linecap:butt;stroke-linejoin:miter;stroke-opacity:1&#x27; /&gt;\\n&lt;path class=&#x27;bond-7 atom-7 atom-8&#x27; d=&#x27;M 65.3896,106.042 L 79.8843,114.465&#x27; style=&#x27;fill:none;fill-rule:evenodd;stroke:#000000;stroke-width:2.0px;stroke-linecap:butt;stroke-linejoin:miter;stroke-opacity:1&#x27; /&gt;\\n&lt;path class=&#x27;bond-8 atom-8 atom-9&#x27; d=&#x27;M 79.8843,114.465 L 94.426,106.123&#x27; style=&#x27;fill:none;fill-rule:evenodd;stroke:#000000;stroke-width:2.0px;stroke-linecap:butt;stroke-linejoin:miter;stroke-opacity:1&#x27; /&gt;\\n&lt;path class=&#x27;bond-9 atom-9 atom-10&#x27; d=&#x27;M 94.426,106.123 L 108.921,114.545&#x27; style=&#x27;fill:none;fill-rule:evenodd;stroke:#000000;stroke-width:2.0px;stroke-linecap:butt;stroke-linejoin:miter;stroke-opacity:1&#x27; /&gt;\\n&lt;path class=&#x27;bond-10 atom-10 atom-11&#x27; d=&#x27;M 108.921,114.545 L 123.462,106.203&#x27; style=&#x27;fill:none;fill-rule:evenodd;stroke:#000000;stroke-width:2.0px;stroke-linecap:butt;stroke-linejoin:miter;stroke-opacity:1&#x27; /&gt;\\n&lt;path class=&#x27;bond-11 atom-11 atom-12&#x27; d=&#x27;M 123.462,106.203 L 123.509,89.4387&#x27; style=&#x27;fill:none;fill-rule:evenodd;stroke:#000000;stroke-width:2.0px;stroke-linecap:butt;stroke-linejoin:miter;stroke-opacity:1&#x27; /&gt;\\n&lt;path class=&#x27;bond-12 atom-12 atom-13&#x27; d=&#x27;M 123.509,89.4387 L 138.051,81.0966&#x27; style=&#x27;fill:none;fill-rule:evenodd;stroke:#000000;stroke-width:2.0px;stroke-linecap:butt;stroke-linejoin:miter;stroke-opacity:1&#x27; /&gt;\\n&lt;path class=&#x27;bond-13 atom-13 atom-14&#x27; d=&#x27;M 138.051,81.0966 L 138.098,64.3353&#x27; style=&#x27;fill:none;fill-rule:evenodd;stroke:#000000;stroke-width:2.0px;stroke-linecap:butt;stroke-linejoin:miter;stroke-opacity:1&#x27; /&gt;\\n&lt;path class=&#x27;bond-14 atom-14 atom-15&#x27; d=&#x27;M 138.098,64.3353 L 123.603,55.9128&#x27; style=&#x27;fill:none;fill-rule:evenodd;stroke:#000000;stroke-width:2.0px;stroke-linecap:butt;stroke-linejoin:miter;stroke-opacity:1&#x27; /&gt;\\n&lt;path class=&#x27;bond-15 atom-15 atom-16&#x27; d=&#x27;M 123.603,55.9128 L 123.65,39.1481&#x27; style=&#x27;fill:none;fill-rule:evenodd;stroke:#000000;stroke-width:2.0px;stroke-linecap:butt;stroke-linejoin:miter;stroke-opacity:1&#x27; /&gt;\\n&lt;path class=&#x27;bond-16 atom-16 atom-17&#x27; d=&#x27;M 123.65,39.1481 L 109.155,30.7256&#x27; style=&#x27;fill:none;fill-rule:evenodd;stroke:#000000;stroke-width:2.0px;stroke-linecap:butt;stroke-linejoin:miter;stroke-opacity:1&#x27; /&gt;\\n&lt;path class=&#x27;bond-17 atom-17 atom-18&#x27; d=&#x27;M 109.155,30.7256 L 109.202,13.9609&#x27; style=&#x27;fill:none;fill-rule:evenodd;stroke:#000000;stroke-width:2.0px;stroke-linecap:butt;stroke-linejoin:miter;stroke-opacity:1&#x27; /&gt;\\n&lt;path class=&#x27;bond-18 atom-18 atom-19&#x27; d=&#x27;M 109.202,13.9609 L 94.7076,5.53501&#x27; style=&#x27;fill:none;fill-rule:evenodd;stroke:#000000;stroke-width:2.0px;stroke-linecap:butt;stroke-linejoin:miter;stroke-opacity:1&#x27; /&gt;\\n&lt;path class=&#x27;bond-19 atom-19 atom-20&#x27; d=&#x27;M 94.7076,5.53501 L 80.166,13.8771&#x27; style=&#x27;fill:none;fill-rule:evenodd;stroke:#000000;stroke-width:2.0px;stroke-linecap:butt;stroke-linejoin:miter;stroke-opacity:1&#x27; /&gt;\\n&lt;path class=&#x27;bond-20 atom-20 atom-21&#x27; d=&#x27;M 80.166,13.8771 L 65.6713,5.45455&#x27; style=&#x27;fill:none;fill-rule:evenodd;stroke:#000000;stroke-width:2.0px;stroke-linecap:butt;stroke-linejoin:miter;stroke-opacity:1&#x27; /&gt;\\n&lt;path class=&#x27;bond-21 atom-21 atom-22&#x27; d=&#x27;M 65.6713,5.45455 L 51.1263,13.7966&#x27; style=&#x27;fill:none;fill-rule:evenodd;stroke:#000000;stroke-width:2.0px;stroke-linecap:butt;stroke-linejoin:miter;stroke-opacity:1&#x27; /&gt;\\n&lt;path class=&#x27;bond-22 atom-22 atom-23&#x27; d=&#x27;M 51.1263,13.7966 L 51.0793,30.5579&#x27; style=&#x27;fill:none;fill-rule:evenodd;stroke:#000000;stroke-width:2.0px;stroke-linecap:butt;stroke-linejoin:miter;stroke-opacity:1&#x27; /&gt;\\n&lt;/svg&gt;\\n&quot;, &quot;data-smile&quot;: &quot;C1CCCCCCCCCCCCCCCCCCCCCCC1&quot;, &quot;mols2grid-id&quot;: 0}, {&quot;data-sigma_orig&quot;: 36, &quot;data-img&quot;: &quot;&lt;?xml version=&#x27;1.0&#x27; encoding=&#x27;iso-8859-1&#x27;?&gt;\\n&lt;svg version=&#x27;1.1&#x27; baseProfile=&#x27;full&#x27;\\n              xmlns=&#x27;http://www.w3.org/2000/svg&#x27;\\n                      xmlns:rdkit=&#x27;http://www.rdkit.org/xml&#x27;\\n                      xmlns:xlink=&#x27;http://www.w3.org/1999/xlink&#x27;\\n                  xml:space=&#x27;preserve&#x27;\\nwidth=&#x27;160px&#x27; height=&#x27;120px&#x27; viewBox=&#x27;0 0 160 120&#x27;&gt;\\n&lt;!-- END OF HEADER --&gt;\\n&lt;rect style=&#x27;opacity:1.0;fill:#FFFFFF;stroke:none&#x27; width=&#x27;160&#x27; height=&#x27;120&#x27; x=&#x27;0&#x27; y=&#x27;0&#x27;&gt; &lt;/rect&gt;\\n&lt;path class=&#x27;bond-0 atom-0 atom-1&#x27; d=&#x27;M 117.631,16.3009 L 117.692,38.0981&#x27; style=&#x27;fill:none;fill-rule:evenodd;stroke:#000000;stroke-width:2.0px;stroke-linecap:butt;stroke-linejoin:miter;stroke-opacity:1&#x27; /&gt;\\n&lt;path class=&#x27;bond-17 atom-17 atom-0&#x27; d=&#x27;M 98.7238,5.45455 L 117.631,16.3009&#x27; style=&#x27;fill:none;fill-rule:evenodd;stroke:#000000;stroke-width:2.0px;stroke-linecap:butt;stroke-linejoin:miter;stroke-opacity:1&#x27; /&gt;\\n&lt;path class=&#x27;bond-1 atom-1 atom-2&#x27; d=&#x27;M 117.692,38.0981 L 136.599,48.9444&#x27; style=&#x27;fill:none;fill-rule:evenodd;stroke:#000000;stroke-width:2.0px;stroke-linecap:butt;stroke-linejoin:miter;stroke-opacity:1&#x27; /&gt;\\n&lt;path class=&#x27;bond-2 atom-2 atom-3&#x27; d=&#x27;M 136.599,48.9444 L 136.66,70.7417&#x27; style=&#x27;fill:none;fill-rule:evenodd;stroke:#000000;stroke-width:2.0px;stroke-linecap:butt;stroke-linejoin:miter;stroke-opacity:1&#x27; /&gt;\\n&lt;path class=&#x27;bond-3 atom-3 atom-4&#x27; d=&#x27;M 136.66,70.7417 L 117.814,81.6926&#x27; style=&#x27;fill:none;fill-rule:evenodd;stroke:#000000;stroke-width:2.0px;stroke-linecap:butt;stroke-linejoin:miter;stroke-opacity:1&#x27; /&gt;\\n&lt;path class=&#x27;bond-4 atom-4 atom-5&#x27; d=&#x27;M 117.814,81.6926 L 117.875,103.49&#x27; style=&#x27;fill:none;fill-rule:evenodd;stroke:#000000;stroke-width:2.0px;stroke-linecap:butt;stroke-linejoin:miter;stroke-opacity:1&#x27; /&gt;\\n&lt;path class=&#x27;bond-5 atom-5 atom-6&#x27; d=&#x27;M 117.875,103.49 L 99.029,114.441&#x27; style=&#x27;fill:none;fill-rule:evenodd;stroke:#000000;stroke-width:2.0px;stroke-linecap:butt;stroke-linejoin:miter;stroke-opacity:1&#x27; /&gt;\\n&lt;path class=&#x27;bond-6 atom-6 atom-7&#x27; d=&#x27;M 99.029,114.441 L 80.1221,103.595&#x27; style=&#x27;fill:none;fill-rule:evenodd;stroke:#000000;stroke-width:2.0px;stroke-linecap:butt;stroke-linejoin:miter;stroke-opacity:1&#x27; /&gt;\\n&lt;path class=&#x27;bond-7 atom-7 atom-8&#x27; d=&#x27;M 80.1221,103.595 L 61.2762,114.545&#x27; style=&#x27;fill:none;fill-rule:evenodd;stroke:#000000;stroke-width:2.0px;stroke-linecap:butt;stroke-linejoin:miter;stroke-opacity:1&#x27; /&gt;\\n&lt;path class=&#x27;bond-8 atom-8 atom-9&#x27; d=&#x27;M 61.2762,114.545 L 42.3692,103.699&#x27; style=&#x27;fill:none;fill-rule:evenodd;stroke:#000000;stroke-width:2.0px;stroke-linecap:butt;stroke-linejoin:miter;stroke-opacity:1&#x27; /&gt;\\n&lt;path class=&#x27;bond-9 atom-9 atom-10&#x27; d=&#x27;M 42.3692,103.699 L 42.3082,81.9019&#x27; style=&#x27;fill:none;fill-rule:evenodd;stroke:#000000;stroke-width:2.0px;stroke-linecap:butt;stroke-linejoin:miter;stroke-opacity:1&#x27; /&gt;\\n&lt;path class=&#x27;bond-10 atom-10 atom-11&#x27; d=&#x27;M 42.3082,81.9019 L 23.4012,71.0556&#x27; style=&#x27;fill:none;fill-rule:evenodd;stroke:#000000;stroke-width:2.0px;stroke-linecap:butt;stroke-linejoin:miter;stroke-opacity:1&#x27; /&gt;\\n&lt;path class=&#x27;bond-11 atom-11 atom-12&#x27; d=&#x27;M 23.4012,71.0556 L 23.3402,49.2583&#x27; style=&#x27;fill:none;fill-rule:evenodd;stroke:#000000;stroke-width:2.0px;stroke-linecap:butt;stroke-linejoin:miter;stroke-opacity:1&#x27; /&gt;\\n&lt;path class=&#x27;bond-12 atom-12 atom-13&#x27; d=&#x27;M 23.3402,49.2583 L 42.1861,38.3074&#x27; style=&#x27;fill:none;fill-rule:evenodd;stroke:#000000;stroke-width:2.0px;stroke-linecap:butt;stroke-linejoin:miter;stroke-opacity:1&#x27; /&gt;\\n&lt;path class=&#x27;bond-13 atom-13 atom-14&#x27; d=&#x27;M 42.1861,38.3074 L 42.1251,16.5101&#x27; style=&#x27;fill:none;fill-rule:evenodd;stroke:#000000;stroke-width:2.0px;stroke-linecap:butt;stroke-linejoin:miter;stroke-opacity:1&#x27; /&gt;\\n&lt;path class=&#x27;bond-14 atom-14 atom-15&#x27; d=&#x27;M 42.1251,16.5101 L 60.971,5.55917&#x27; style=&#x27;fill:none;fill-rule:evenodd;stroke:#000000;stroke-width:2.0px;stroke-linecap:butt;stroke-linejoin:miter;stroke-opacity:1&#x27; /&gt;\\n&lt;path class=&#x27;bond-15 atom-15 atom-16&#x27; d=&#x27;M 60.971,5.55917 L 79.8779,16.4055&#x27; style=&#x27;fill:none;fill-rule:evenodd;stroke:#000000;stroke-width:2.0px;stroke-linecap:butt;stroke-linejoin:miter;stroke-opacity:1&#x27; /&gt;\\n&lt;path class=&#x27;bond-16 atom-16 atom-17&#x27; d=&#x27;M 79.8779,16.4055 L 98.7238,5.45455&#x27; style=&#x27;fill:none;fill-rule:evenodd;stroke:#000000;stroke-width:2.0px;stroke-linecap:butt;stroke-linejoin:miter;stroke-opacity:1&#x27; /&gt;\\n&lt;/svg&gt;\\n&quot;, &quot;data-smile&quot;: &quot;C1CCCCCCCCCCCCCCCCC1&quot;, &quot;mols2grid-id&quot;: 1}, {&quot;data-sigma_orig&quot;: 32, &quot;data-img&quot;: &quot;&lt;?xml version=&#x27;1.0&#x27; encoding=&#x27;iso-8859-1&#x27;?&gt;\\n&lt;svg version=&#x27;1.1&#x27; baseProfile=&#x27;full&#x27;\\n              xmlns=&#x27;http://www.w3.org/2000/svg&#x27;\\n                      xmlns:rdkit=&#x27;http://www.rdkit.org/xml&#x27;\\n                      xmlns:xlink=&#x27;http://www.w3.org/1999/xlink&#x27;\\n                  xml:space=&#x27;preserve&#x27;\\nwidth=&#x27;160px&#x27; height=&#x27;120px&#x27; viewBox=&#x27;0 0 160 120&#x27;&gt;\\n&lt;!-- END OF HEADER --&gt;\\n&lt;rect style=&#x27;opacity:1.0;fill:#FFFFFF;stroke:none&#x27; width=&#x27;160&#x27; height=&#x27;120&#x27; x=&#x27;0&#x27; y=&#x27;0&#x27;&gt; &lt;/rect&gt;\\n&lt;path class=&#x27;bond-0 atom-0 atom-1&#x27; d=&#x27;M 108.145,16.3009 L 108.206,38.0981&#x27; style=&#x27;fill:none;fill-rule:evenodd;stroke:#000000;stroke-width:2.0px;stroke-linecap:butt;stroke-linejoin:miter;stroke-opacity:1&#x27; /&gt;\\n&lt;path class=&#x27;bond-15 atom-15 atom-0&#x27; d=&#x27;M 89.2377,5.45455 L 108.145,16.3009&#x27; style=&#x27;fill:none;fill-rule:evenodd;stroke:#000000;stroke-width:2.0px;stroke-linecap:butt;stroke-linejoin:miter;stroke-opacity:1&#x27; /&gt;\\n&lt;path class=&#x27;bond-1 atom-1 atom-2&#x27; d=&#x27;M 108.206,38.0981 L 127.117,48.9444&#x27; style=&#x27;fill:none;fill-rule:evenodd;stroke:#000000;stroke-width:2.0px;stroke-linecap:butt;stroke-linejoin:miter;stroke-opacity:1&#x27; /&gt;\\n&lt;path class=&#x27;bond-2 atom-2 atom-3&#x27; d=&#x27;M 127.117,48.9444 L 127.178,70.7417&#x27; style=&#x27;fill:none;fill-rule:evenodd;stroke:#000000;stroke-width:2.0px;stroke-linecap:butt;stroke-linejoin:miter;stroke-opacity:1&#x27; /&gt;\\n&lt;path class=&#x27;bond-3 atom-3 atom-4&#x27; d=&#x27;M 127.178,70.7417 L 108.332,81.6926&#x27; style=&#x27;fill:none;fill-rule:evenodd;stroke:#000000;stroke-width:2.0px;stroke-linecap:butt;stroke-linejoin:miter;stroke-opacity:1&#x27; /&gt;\\n&lt;path class=&#x27;bond-4 atom-4 atom-5&#x27; d=&#x27;M 108.332,81.6926 L 108.393,103.49&#x27; style=&#x27;fill:none;fill-rule:evenodd;stroke:#000000;stroke-width:2.0px;stroke-linecap:butt;stroke-linejoin:miter;stroke-opacity:1&#x27; /&gt;\\n&lt;path class=&#x27;bond-5 atom-5 atom-6&#x27; d=&#x27;M 108.393,103.49 L 89.5472,114.441&#x27; style=&#x27;fill:none;fill-rule:evenodd;stroke:#000000;stroke-width:2.0px;stroke-linecap:butt;stroke-linejoin:miter;stroke-opacity:1&#x27; /&gt;\\n&lt;path class=&#x27;bond-6 atom-6 atom-7&#x27; d=&#x27;M 89.5472,114.441 L 70.6403,103.595&#x27; style=&#x27;fill:none;fill-rule:evenodd;stroke:#000000;stroke-width:2.0px;stroke-linecap:butt;stroke-linejoin:miter;stroke-opacity:1&#x27; /&gt;\\n&lt;path class=&#x27;bond-7 atom-7 atom-8&#x27; d=&#x27;M 70.6403,103.595 L 51.79,114.545&#x27; style=&#x27;fill:none;fill-rule:evenodd;stroke:#000000;stroke-width:2.0px;stroke-linecap:butt;stroke-linejoin:miter;stroke-opacity:1&#x27; /&gt;\\n&lt;path class=&#x27;bond-8 atom-8 atom-9&#x27; d=&#x27;M 51.79,114.545 L 32.8831,103.699&#x27; style=&#x27;fill:none;fill-rule:evenodd;stroke:#000000;stroke-width:2.0px;stroke-linecap:butt;stroke-linejoin:miter;stroke-opacity:1&#x27; /&gt;\\n&lt;path class=&#x27;bond-9 atom-9 atom-10&#x27; d=&#x27;M 32.8831,103.699 L 32.822,81.9019&#x27; style=&#x27;fill:none;fill-rule:evenodd;stroke:#000000;stroke-width:2.0px;stroke-linecap:butt;stroke-linejoin:miter;stroke-opacity:1&#x27; /&gt;\\n&lt;path class=&#x27;bond-10 atom-10 atom-11&#x27; d=&#x27;M 32.822,81.9019 L 51.6679,70.9509&#x27; style=&#x27;fill:none;fill-rule:evenodd;stroke:#000000;stroke-width:2.0px;stroke-linecap:butt;stroke-linejoin:miter;stroke-opacity:1&#x27; /&gt;\\n&lt;path class=&#x27;bond-11 atom-11 atom-12&#x27; d=&#x27;M 51.6679,70.9509 L 51.6069,49.1537&#x27; style=&#x27;fill:none;fill-rule:evenodd;stroke:#000000;stroke-width:2.0px;stroke-linecap:butt;stroke-linejoin:miter;stroke-opacity:1&#x27; /&gt;\\n&lt;path class=&#x27;bond-12 atom-12 atom-13&#x27; d=&#x27;M 51.6069,49.1537 L 70.4528,38.2027&#x27; style=&#x27;fill:none;fill-rule:evenodd;stroke:#000000;stroke-width:2.0px;stroke-linecap:butt;stroke-linejoin:miter;stroke-opacity:1&#x27; /&gt;\\n&lt;path class=&#x27;bond-13 atom-13 atom-14&#x27; d=&#x27;M 70.4528,38.2027 L 70.3918,16.4055&#x27; style=&#x27;fill:none;fill-rule:evenodd;stroke:#000000;stroke-width:2.0px;stroke-linecap:butt;stroke-linejoin:miter;stroke-opacity:1&#x27; /&gt;\\n&lt;path class=&#x27;bond-14 atom-14 atom-15&#x27; d=&#x27;M 70.3918,16.4055 L 89.2377,5.45455&#x27; style=&#x27;fill:none;fill-rule:evenodd;stroke:#000000;stroke-width:2.0px;stroke-linecap:butt;stroke-linejoin:miter;stroke-opacity:1&#x27; /&gt;\\n&lt;/svg&gt;\\n&quot;, &quot;data-smile&quot;: &quot;C1CCCCCCCCCCCCCCC1&quot;, &quot;mols2grid-id&quot;: 2}, {&quot;data-sigma_orig&quot;: 30, &quot;data-img&quot;: &quot;&lt;?xml version=&#x27;1.0&#x27; encoding=&#x27;iso-8859-1&#x27;?&gt;\\n&lt;svg version=&#x27;1.1&#x27; baseProfile=&#x27;full&#x27;\\n              xmlns=&#x27;http://www.w3.org/2000/svg&#x27;\\n                      xmlns:rdkit=&#x27;http://www.rdkit.org/xml&#x27;\\n                      xmlns:xlink=&#x27;http://www.w3.org/1999/xlink&#x27;\\n                  xml:space=&#x27;preserve&#x27;\\nwidth=&#x27;160px&#x27; height=&#x27;120px&#x27; viewBox=&#x27;0 0 160 120&#x27;&gt;\\n&lt;!-- END OF HEADER --&gt;\\n&lt;rect style=&#x27;opacity:1.0;fill:#FFFFFF;stroke:none&#x27; width=&#x27;160&#x27; height=&#x27;120&#x27; x=&#x27;0&#x27; y=&#x27;0&#x27;&gt; &lt;/rect&gt;\\n&lt;path class=&#x27;bond-0 atom-0 atom-1&#x27; d=&#x27;M 76.2255,5.45455 L 65.5351,27.1279&#x27; style=&#x27;fill:none;fill-rule:evenodd;stroke:#000000;stroke-width:2.0px;stroke-linecap:butt;stroke-linejoin:miter;stroke-opacity:1&#x27; /&gt;\\n&lt;path class=&#x27;bond-14 atom-14 atom-0&#x27; d=&#x27;M 100.422,5.46893 L 76.2255,5.45455&#x27; style=&#x27;fill:none;fill-rule:evenodd;stroke:#000000;stroke-width:2.0px;stroke-linecap:butt;stroke-linejoin:miter;stroke-opacity:1&#x27; /&gt;\\n&lt;path class=&#x27;bond-1 atom-1 atom-2&#x27; d=&#x27;M 65.5351,27.1279 L 41.6844,30.346&#x27; style=&#x27;fill:none;fill-rule:evenodd;stroke:#000000;stroke-width:2.0px;stroke-linecap:butt;stroke-linejoin:miter;stroke-opacity:1&#x27; /&gt;\\n&lt;path class=&#x27;bond-2 atom-2 atom-3&#x27; d=&#x27;M 41.6844,30.346 L 33.6846,53.204&#x27; style=&#x27;fill:none;fill-rule:evenodd;stroke:#000000;stroke-width:2.0px;stroke-linecap:butt;stroke-linejoin:miter;stroke-opacity:1&#x27; /&gt;\\n&lt;path class=&#x27;bond-3 atom-3 atom-4&#x27; d=&#x27;M 33.6846,53.204 L 50.2981,70.8055&#x27; style=&#x27;fill:none;fill-rule:evenodd;stroke:#000000;stroke-width:2.0px;stroke-linecap:butt;stroke-linejoin:miter;stroke-opacity:1&#x27; /&gt;\\n&lt;path class=&#x27;bond-4 atom-4 atom-5&#x27; d=&#x27;M 50.2981,70.8055 L 44.6675,94.3445&#x27; style=&#x27;fill:none;fill-rule:evenodd;stroke:#000000;stroke-width:2.0px;stroke-linecap:butt;stroke-linejoin:miter;stroke-opacity:1&#x27; /&gt;\\n&lt;path class=&#x27;bond-5 atom-5 atom-6&#x27; d=&#x27;M 44.6675,94.3445 L 62.9884,110.176&#x27; style=&#x27;fill:none;fill-rule:evenodd;stroke:#000000;stroke-width:2.0px;stroke-linecap:butt;stroke-linejoin:miter;stroke-opacity:1&#x27; /&gt;\\n&lt;path class=&#x27;bond-6 atom-6 atom-7&#x27; d=&#x27;M 62.9884,110.176 L 85.2709,101.083&#x27; style=&#x27;fill:none;fill-rule:evenodd;stroke:#000000;stroke-width:2.0px;stroke-linecap:butt;stroke-linejoin:miter;stroke-opacity:1&#x27; /&gt;\\n&lt;path class=&#x27;bond-7 atom-7 atom-8&#x27; d=&#x27;M 85.2709,101.083 L 105.342,114.545&#x27; style=&#x27;fill:none;fill-rule:evenodd;stroke:#000000;stroke-width:2.0px;stroke-linecap:butt;stroke-linejoin:miter;stroke-opacity:1&#x27; /&gt;\\n&lt;path class=&#x27;bond-8 atom-8 atom-9&#x27; d=&#x27;M 105.342,114.545 L 126.315,102.479&#x27; style=&#x27;fill:none;fill-rule:evenodd;stroke:#000000;stroke-width:2.0px;stroke-linecap:butt;stroke-linejoin:miter;stroke-opacity:1&#x27; /&gt;\\n&lt;path class=&#x27;bond-9 atom-9 atom-10&#x27; d=&#x27;M 126.315,102.479 L 124.68,78.3113&#x27; style=&#x27;fill:none;fill-rule:evenodd;stroke:#000000;stroke-width:2.0px;stroke-linecap:butt;stroke-linejoin:miter;stroke-opacity:1&#x27; /&gt;\\n&lt;path class=&#x27;bond-10 atom-10 atom-11&#x27; d=&#x27;M 124.68,78.3113 L 102.263,69.5489&#x27; style=&#x27;fill:none;fill-rule:evenodd;stroke:#000000;stroke-width:2.0px;stroke-linecap:butt;stroke-linejoin:miter;stroke-opacity:1&#x27; /&gt;\\n&lt;path class=&#x27;bond-11 atom-11 atom-12&#x27; d=&#x27;M 102.263,69.5489 L 95.9804,46.0051&#x27; style=&#x27;fill:none;fill-rule:evenodd;stroke:#000000;stroke-width:2.0px;stroke-linecap:butt;stroke-linejoin:miter;stroke-opacity:1&#x27; /&gt;\\n&lt;path class=&#x27;bond-12 atom-12 atom-13&#x27; d=&#x27;M 95.9804,46.0051 L 111.05,27.2334&#x27; style=&#x27;fill:none;fill-rule:evenodd;stroke:#000000;stroke-width:2.0px;stroke-linecap:butt;stroke-linejoin:miter;stroke-opacity:1&#x27; /&gt;\\n&lt;path class=&#x27;bond-13 atom-13 atom-14&#x27; d=&#x27;M 111.05,27.2334 L 100.422,5.46893&#x27; style=&#x27;fill:none;fill-rule:evenodd;stroke:#000000;stroke-width:2.0px;stroke-linecap:butt;stroke-linejoin:miter;stroke-opacity:1&#x27; /&gt;\\n&lt;/svg&gt;\\n&quot;, &quot;data-smile&quot;: &quot;C1CCCCCCCCCCCCCC1&quot;, &quot;mols2grid-id&quot;: 3}, {&quot;data-sigma_orig&quot;: 28, &quot;data-img&quot;: &quot;&lt;?xml version=&#x27;1.0&#x27; encoding=&#x27;iso-8859-1&#x27;?&gt;\\n&lt;svg version=&#x27;1.1&#x27; baseProfile=&#x27;full&#x27;\\n              xmlns=&#x27;http://www.w3.org/2000/svg&#x27;\\n                      xmlns:rdkit=&#x27;http://www.rdkit.org/xml&#x27;\\n                      xmlns:xlink=&#x27;http://www.w3.org/1999/xlink&#x27;\\n                  xml:space=&#x27;preserve&#x27;\\nwidth=&#x27;160px&#x27; height=&#x27;120px&#x27; viewBox=&#x27;0 0 160 120&#x27;&gt;\\n&lt;!-- END OF HEADER --&gt;\\n&lt;rect style=&#x27;opacity:1.0;fill:#FFFFFF;stroke:none&#x27; width=&#x27;160&#x27; height=&#x27;120&#x27; x=&#x27;0&#x27; y=&#x27;0&#x27;&gt; &lt;/rect&gt;\\n&lt;path class=&#x27;bond-0 atom-0 atom-1&#x27; d=&#x27;M 39.2621,5.75959 L 66.3045,21.167&#x27; style=&#x27;fill:none;fill-rule:evenodd;stroke:#000000;stroke-width:2.0px;stroke-linecap:butt;stroke-linejoin:miter;stroke-opacity:1&#x27; /&gt;\\n&lt;path class=&#x27;bond-13 atom-13 atom-0&#x27; d=&#x27;M 12.394,21.4721 L 39.2621,5.75959&#x27; style=&#x27;fill:none;fill-rule:evenodd;stroke:#000000;stroke-width:2.0px;stroke-linecap:butt;stroke-linejoin:miter;stroke-opacity:1&#x27; /&gt;\\n&lt;path class=&#x27;bond-1 atom-1 atom-2&#x27; d=&#x27;M 66.3045,21.167 L 93.1726,5.45455&#x27; style=&#x27;fill:none;fill-rule:evenodd;stroke:#000000;stroke-width:2.0px;stroke-linecap:butt;stroke-linejoin:miter;stroke-opacity:1&#x27; /&gt;\\n&lt;path class=&#x27;bond-2 atom-2 atom-3&#x27; d=&#x27;M 93.1726,5.45455 L 120.215,20.8682&#x27; style=&#x27;fill:none;fill-rule:evenodd;stroke:#000000;stroke-width:2.0px;stroke-linecap:butt;stroke-linejoin:miter;stroke-opacity:1&#x27; /&gt;\\n&lt;path class=&#x27;bond-3 atom-3 atom-4&#x27; d=&#x27;M 120.215,20.8682 L 120.389,51.9944&#x27; style=&#x27;fill:none;fill-rule:evenodd;stroke:#000000;stroke-width:2.0px;stroke-linecap:butt;stroke-linejoin:miter;stroke-opacity:1&#x27; /&gt;\\n&lt;path class=&#x27;bond-4 atom-4 atom-5&#x27; d=&#x27;M 120.389,51.9944 L 147.432,67.4018&#x27; style=&#x27;fill:none;fill-rule:evenodd;stroke:#000000;stroke-width:2.0px;stroke-linecap:butt;stroke-linejoin:miter;stroke-opacity:1&#x27; /&gt;\\n&lt;path class=&#x27;bond-5 atom-5 atom-6&#x27; d=&#x27;M 147.432,67.4018 L 147.606,98.5279&#x27; style=&#x27;fill:none;fill-rule:evenodd;stroke:#000000;stroke-width:2.0px;stroke-linecap:butt;stroke-linejoin:miter;stroke-opacity:1&#x27; /&gt;\\n&lt;path class=&#x27;bond-6 atom-6 atom-7&#x27; d=&#x27;M 147.606,98.5279 L 120.738,114.24&#x27; style=&#x27;fill:none;fill-rule:evenodd;stroke:#000000;stroke-width:2.0px;stroke-linecap:butt;stroke-linejoin:miter;stroke-opacity:1&#x27; /&gt;\\n&lt;path class=&#x27;bond-7 atom-7 atom-8&#x27; d=&#x27;M 120.738,114.24 L 93.6955,98.833&#x27; style=&#x27;fill:none;fill-rule:evenodd;stroke:#000000;stroke-width:2.0px;stroke-linecap:butt;stroke-linejoin:miter;stroke-opacity:1&#x27; /&gt;\\n&lt;path class=&#x27;bond-8 atom-8 atom-9&#x27; d=&#x27;M 93.6955,98.833 L 66.8274,114.545&#x27; style=&#x27;fill:none;fill-rule:evenodd;stroke:#000000;stroke-width:2.0px;stroke-linecap:butt;stroke-linejoin:miter;stroke-opacity:1&#x27; /&gt;\\n&lt;path class=&#x27;bond-9 atom-9 atom-10&#x27; d=&#x27;M 66.8274,114.545 L 39.785,99.1318&#x27; style=&#x27;fill:none;fill-rule:evenodd;stroke:#000000;stroke-width:2.0px;stroke-linecap:butt;stroke-linejoin:miter;stroke-opacity:1&#x27; /&gt;\\n&lt;path class=&#x27;bond-10 atom-10 atom-11&#x27; d=&#x27;M 39.785,99.1318 L 39.6107,68.0056&#x27; style=&#x27;fill:none;fill-rule:evenodd;stroke:#000000;stroke-width:2.0px;stroke-linecap:butt;stroke-linejoin:miter;stroke-opacity:1&#x27; /&gt;\\n&lt;path class=&#x27;bond-11 atom-11 atom-12&#x27; d=&#x27;M 39.6107,68.0056 L 12.5683,52.5982&#x27; style=&#x27;fill:none;fill-rule:evenodd;stroke:#000000;stroke-width:2.0px;stroke-linecap:butt;stroke-linejoin:miter;stroke-opacity:1&#x27; /&gt;\\n&lt;path class=&#x27;bond-12 atom-12 atom-13&#x27; d=&#x27;M 12.5683,52.5982 L 12.394,21.4721&#x27; style=&#x27;fill:none;fill-rule:evenodd;stroke:#000000;stroke-width:2.0px;stroke-linecap:butt;stroke-linejoin:miter;stroke-opacity:1&#x27; /&gt;\\n&lt;/svg&gt;\\n&quot;, &quot;data-smile&quot;: &quot;C1CCCCCCCCCCCCC1&quot;, &quot;mols2grid-id&quot;: 4}, {&quot;data-sigma_orig&quot;: 26, &quot;data-img&quot;: &quot;&lt;?xml version=&#x27;1.0&#x27; encoding=&#x27;iso-8859-1&#x27;?&gt;\\n&lt;svg version=&#x27;1.1&#x27; baseProfile=&#x27;full&#x27;\\n              xmlns=&#x27;http://www.w3.org/2000/svg&#x27;\\n                      xmlns:rdkit=&#x27;http://www.rdkit.org/xml&#x27;\\n                      xmlns:xlink=&#x27;http://www.w3.org/1999/xlink&#x27;\\n                  xml:space=&#x27;preserve&#x27;\\nwidth=&#x27;160px&#x27; height=&#x27;120px&#x27; viewBox=&#x27;0 0 160 120&#x27;&gt;\\n&lt;!-- END OF HEADER --&gt;\\n&lt;rect style=&#x27;opacity:1.0;fill:#FFFFFF;stroke:none&#x27; width=&#x27;160&#x27; height=&#x27;120&#x27; x=&#x27;0&#x27; y=&#x27;0&#x27;&gt; &lt;/rect&gt;\\n&lt;path class=&#x27;bond-0 atom-0 atom-1&#x27; d=&#x27;M 50.0663,106.218 L 37.5747,83.42&#x27; style=&#x27;fill:none;fill-rule:evenodd;stroke:#000000;stroke-width:2.0px;stroke-linecap:butt;stroke-linejoin:miter;stroke-opacity:1&#x27; /&gt;\\n&lt;path class=&#x27;bond-12 atom-12 atom-0&#x27; d=&#x27;M 74.0316,114.545 L 50.0663,106.218&#x27; style=&#x27;fill:none;fill-rule:evenodd;stroke:#000000;stroke-width:2.0px;stroke-linecap:butt;stroke-linejoin:miter;stroke-opacity:1&#x27; /&gt;\\n&lt;path class=&#x27;bond-1 atom-1 atom-2&#x27; d=&#x27;M 37.5747,83.42 L 43.3018,58.5477&#x27; style=&#x27;fill:none;fill-rule:evenodd;stroke:#000000;stroke-width:2.0px;stroke-linecap:butt;stroke-linejoin:miter;stroke-opacity:1&#x27; /&gt;\\n&lt;path class=&#x27;bond-2 atom-2 atom-3&#x27; d=&#x27;M 43.3018,58.5477 L 64.1454,46.3648&#x27; style=&#x27;fill:none;fill-rule:evenodd;stroke:#000000;stroke-width:2.0px;stroke-linecap:butt;stroke-linejoin:miter;stroke-opacity:1&#x27; /&gt;\\n&lt;path class=&#x27;bond-3 atom-3 atom-4&#x27; d=&#x27;M 64.1454,46.3648 L 61.3084,20.9955&#x27; style=&#x27;fill:none;fill-rule:evenodd;stroke:#000000;stroke-width:2.0px;stroke-linecap:butt;stroke-linejoin:miter;stroke-opacity:1&#x27; /&gt;\\n&lt;path class=&#x27;bond-4 atom-4 atom-5&#x27; d=&#x27;M 61.3084,20.9955 L 79.9759,5.45455&#x27; style=&#x27;fill:none;fill-rule:evenodd;stroke:#000000;stroke-width:2.0px;stroke-linecap:butt;stroke-linejoin:miter;stroke-opacity:1&#x27; /&gt;\\n&lt;path class=&#x27;bond-5 atom-5 atom-6&#x27; d=&#x27;M 79.9759,5.45455 L 101.35,14.2552&#x27; style=&#x27;fill:none;fill-rule:evenodd;stroke:#000000;stroke-width:2.0px;stroke-linecap:butt;stroke-linejoin:miter;stroke-opacity:1&#x27; /&gt;\\n&lt;path class=&#x27;bond-6 atom-6 atom-7&#x27; d=&#x27;M 101.35,14.2552 L 102.397,37.3133&#x27; style=&#x27;fill:none;fill-rule:evenodd;stroke:#000000;stroke-width:2.0px;stroke-linecap:butt;stroke-linejoin:miter;stroke-opacity:1&#x27; /&gt;\\n&lt;path class=&#x27;bond-7 atom-7 atom-8&#x27; d=&#x27;M 102.397,37.3133 L 122.425,48.9413&#x27; style=&#x27;fill:none;fill-rule:evenodd;stroke:#000000;stroke-width:2.0px;stroke-linecap:butt;stroke-linejoin:miter;stroke-opacity:1&#x27; /&gt;\\n&lt;path class=&#x27;bond-8 atom-8 atom-9&#x27; d=&#x27;M 122.425,48.9413 L 120.148,71.8499&#x27; style=&#x27;fill:none;fill-rule:evenodd;stroke:#000000;stroke-width:2.0px;stroke-linecap:butt;stroke-linejoin:miter;stroke-opacity:1&#x27; /&gt;\\n&lt;path class=&#x27;bond-9 atom-9 atom-10&#x27; d=&#x27;M 120.148,71.8499 L 97.6639,80.5058&#x27; style=&#x27;fill:none;fill-rule:evenodd;stroke:#000000;stroke-width:2.0px;stroke-linecap:butt;stroke-linejoin:miter;stroke-opacity:1&#x27; /&gt;\\n&lt;path class=&#x27;bond-10 atom-10 atom-11&#x27; d=&#x27;M 97.6639,80.5058 L 95.0392,103.106&#x27; style=&#x27;fill:none;fill-rule:evenodd;stroke:#000000;stroke-width:2.0px;stroke-linecap:butt;stroke-linejoin:miter;stroke-opacity:1&#x27; /&gt;\\n&lt;path class=&#x27;bond-11 atom-11 atom-12&#x27; d=&#x27;M 95.0392,103.106 L 74.0316,114.545&#x27; style=&#x27;fill:none;fill-rule:evenodd;stroke:#000000;stroke-width:2.0px;stroke-linecap:butt;stroke-linejoin:miter;stroke-opacity:1&#x27; /&gt;\\n&lt;/svg&gt;\\n&quot;, &quot;data-smile&quot;: &quot;C1CCCCCCCCCCCC1&quot;, &quot;mols2grid-id&quot;: 5}, {&quot;data-sigma_orig&quot;: 24, &quot;data-img&quot;: &quot;&lt;?xml version=&#x27;1.0&#x27; encoding=&#x27;iso-8859-1&#x27;?&gt;\\n&lt;svg version=&#x27;1.1&#x27; baseProfile=&#x27;full&#x27;\\n              xmlns=&#x27;http://www.w3.org/2000/svg&#x27;\\n                      xmlns:rdkit=&#x27;http://www.rdkit.org/xml&#x27;\\n                      xmlns:xlink=&#x27;http://www.w3.org/1999/xlink&#x27;\\n                  xml:space=&#x27;preserve&#x27;\\nwidth=&#x27;160px&#x27; height=&#x27;120px&#x27; viewBox=&#x27;0 0 160 120&#x27;&gt;\\n&lt;!-- END OF HEADER --&gt;\\n&lt;rect style=&#x27;opacity:1.0;fill:#FFFFFF;stroke:none&#x27; width=&#x27;160&#x27; height=&#x27;120&#x27; x=&#x27;0&#x27; y=&#x27;0&#x27;&gt; &lt;/rect&gt;\\n&lt;path class=&#x27;bond-0 atom-0 atom-1&#x27; d=&#x27;M 46.4576,87.2891 L 73.4731,39.8778&#x27; style=&#x27;fill:none;fill-rule:evenodd;stroke:#000000;stroke-width:2.0px;stroke-linecap:butt;stroke-linejoin:miter;stroke-opacity:1&#x27; /&gt;\\n&lt;path class=&#x27;bond-7 atom-3 atom-0&#x27; d=&#x27;M 93.9455,114.545 L 46.4576,87.2891&#x27; style=&#x27;fill:none;fill-rule:evenodd;stroke:#000000;stroke-width:2.0px;stroke-linecap:butt;stroke-linejoin:miter;stroke-opacity:1&#x27; /&gt;\\n&lt;path class=&#x27;bond-8 atom-5 atom-0&#x27; d=&#x27;M 39.0827,53.03 L 46.4576,87.2891&#x27; style=&#x27;fill:none;fill-rule:evenodd;stroke:#000000;stroke-width:2.0px;stroke-linecap:butt;stroke-linejoin:miter;stroke-opacity:1&#x27; /&gt;\\n&lt;path class=&#x27;bond-1 atom-1 atom-2&#x27; d=&#x27;M 73.4731,39.8778 L 120.917,66.9591&#x27; style=&#x27;fill:none;fill-rule:evenodd;stroke:#000000;stroke-width:2.0px;stroke-linecap:butt;stroke-linejoin:miter;stroke-opacity:1&#x27; /&gt;\\n&lt;path class=&#x27;bond-9 atom-6 atom-1&#x27; d=&#x27;M 66.1421,5.45455 L 73.4731,39.8778&#x27; style=&#x27;fill:none;fill-rule:evenodd;stroke:#000000;stroke-width:2.0px;stroke-linecap:butt;stroke-linejoin:miter;stroke-opacity:1&#x27; /&gt;\\n&lt;path class=&#x27;bond-2 atom-2 atom-3&#x27; d=&#x27;M 120.917,66.9591 L 93.9455,114.545&#x27; style=&#x27;fill:none;fill-rule:evenodd;stroke:#000000;stroke-width:2.0px;stroke-linecap:butt;stroke-linejoin:miter;stroke-opacity:1&#x27; /&gt;\\n&lt;path class=&#x27;bond-10 atom-7 atom-2&#x27; d=&#x27;M 113.553,32.7765 L 120.917,66.9591&#x27; style=&#x27;fill:none;fill-rule:evenodd;stroke:#000000;stroke-width:2.0px;stroke-linecap:butt;stroke-linejoin:miter;stroke-opacity:1&#x27; /&gt;\\n&lt;path class=&#x27;bond-3 atom-3 atom-4&#x27; d=&#x27;M 93.9455,114.545 L 86.5597,80.5708&#x27; style=&#x27;fill:none;fill-rule:evenodd;stroke:#000000;stroke-width:2.0px;stroke-linecap:butt;stroke-linejoin:miter;stroke-opacity:1&#x27; /&gt;\\n&lt;path class=&#x27;bond-4 atom-4 atom-5&#x27; d=&#x27;M 86.5597,80.5708 L 39.0827,53.03&#x27; style=&#x27;fill:none;fill-rule:evenodd;stroke:#000000;stroke-width:2.0px;stroke-linecap:butt;stroke-linejoin:miter;stroke-opacity:1&#x27; /&gt;\\n&lt;path class=&#x27;bond-11 atom-7 atom-4&#x27; d=&#x27;M 113.553,32.7765 L 86.5597,80.5708&#x27; style=&#x27;fill:none;fill-rule:evenodd;stroke:#000000;stroke-width:2.0px;stroke-linecap:butt;stroke-linejoin:miter;stroke-opacity:1&#x27; /&gt;\\n&lt;path class=&#x27;bond-5 atom-5 atom-6&#x27; d=&#x27;M 39.0827,53.03 L 66.1421,5.45455&#x27; style=&#x27;fill:none;fill-rule:evenodd;stroke:#000000;stroke-width:2.0px;stroke-linecap:butt;stroke-linejoin:miter;stroke-opacity:1&#x27; /&gt;\\n&lt;path class=&#x27;bond-6 atom-6 atom-7&#x27; d=&#x27;M 66.1421,5.45455 L 113.553,32.7765&#x27; style=&#x27;fill:none;fill-rule:evenodd;stroke:#000000;stroke-width:2.0px;stroke-linecap:butt;stroke-linejoin:miter;stroke-opacity:1&#x27; /&gt;\\n&lt;/svg&gt;\\n&quot;, &quot;data-smile&quot;: &quot;C12C3C4C1C5C2C3C45&quot;, &quot;mols2grid-id&quot;: 6}, {&quot;data-sigma_orig&quot;: 24, &quot;data-img&quot;: &quot;&lt;?xml version=&#x27;1.0&#x27; encoding=&#x27;iso-8859-1&#x27;?&gt;\\n&lt;svg version=&#x27;1.1&#x27; baseProfile=&#x27;full&#x27;\\n              xmlns=&#x27;http://www.w3.org/2000/svg&#x27;\\n                      xmlns:rdkit=&#x27;http://www.rdkit.org/xml&#x27;\\n                      xmlns:xlink=&#x27;http://www.w3.org/1999/xlink&#x27;\\n                  xml:space=&#x27;preserve&#x27;\\nwidth=&#x27;160px&#x27; height=&#x27;120px&#x27; viewBox=&#x27;0 0 160 120&#x27;&gt;\\n&lt;!-- END OF HEADER --&gt;\\n&lt;rect style=&#x27;opacity:1.0;fill:#FFFFFF;stroke:none&#x27; width=&#x27;160&#x27; height=&#x27;120&#x27; x=&#x27;0&#x27; y=&#x27;0&#x27;&gt; &lt;/rect&gt;\\n&lt;path class=&#x27;bond-0 atom-0 atom-1&#x27; d=&#x27;M 53.2007,20.9535 L 53.1135,52.101&#x27; style=&#x27;fill:none;fill-rule:evenodd;stroke:#000000;stroke-width:2.0px;stroke-linecap:butt;stroke-linejoin:miter;stroke-opacity:1&#x27; /&gt;\\n&lt;path class=&#x27;bond-11 atom-11 atom-0&#x27; d=&#x27;M 80.218,5.45455 L 53.2007,20.9535&#x27; style=&#x27;fill:none;fill-rule:evenodd;stroke:#000000;stroke-width:2.0px;stroke-linecap:butt;stroke-linejoin:miter;stroke-opacity:1&#x27; /&gt;\\n&lt;path class=&#x27;bond-1 atom-1 atom-2&#x27; d=&#x27;M 53.1135,52.101 L 26.0962,67.6&#x27; style=&#x27;fill:none;fill-rule:evenodd;stroke:#000000;stroke-width:2.0px;stroke-linecap:butt;stroke-linejoin:miter;stroke-opacity:1&#x27; /&gt;\\n&lt;path class=&#x27;bond-2 atom-2 atom-3&#x27; d=&#x27;M 26.0962,67.6 L 26.009,98.7475&#x27; style=&#x27;fill:none;fill-rule:evenodd;stroke:#000000;stroke-width:2.0px;stroke-linecap:butt;stroke-linejoin:miter;stroke-opacity:1&#x27; /&gt;\\n&lt;path class=&#x27;bond-3 atom-3 atom-4&#x27; d=&#x27;M 26.009,98.7475 L 52.9391,114.396&#x27; style=&#x27;fill:none;fill-rule:evenodd;stroke:#000000;stroke-width:2.0px;stroke-linecap:butt;stroke-linejoin:miter;stroke-opacity:1&#x27; /&gt;\\n&lt;path class=&#x27;bond-4 atom-4 atom-5&#x27; d=&#x27;M 52.9391,114.396 L 79.9564,98.897&#x27; style=&#x27;fill:none;fill-rule:evenodd;stroke:#000000;stroke-width:2.0px;stroke-linecap:butt;stroke-linejoin:miter;stroke-opacity:1&#x27; /&gt;\\n&lt;path class=&#x27;bond-5 atom-5 atom-6&#x27; d=&#x27;M 79.9564,98.897 L 106.887,114.545&#x27; style=&#x27;fill:none;fill-rule:evenodd;stroke:#000000;stroke-width:2.0px;stroke-linecap:butt;stroke-linejoin:miter;stroke-opacity:1&#x27; /&gt;\\n&lt;path class=&#x27;bond-6 atom-6 atom-7&#x27; d=&#x27;M 106.887,114.545 L 133.904,99.0465&#x27; style=&#x27;fill:none;fill-rule:evenodd;stroke:#000000;stroke-width:2.0px;stroke-linecap:butt;stroke-linejoin:miter;stroke-opacity:1&#x27; /&gt;\\n&lt;path class=&#x27;bond-7 atom-7 atom-8&#x27; d=&#x27;M 133.904,99.0465 L 133.991,67.899&#x27; style=&#x27;fill:none;fill-rule:evenodd;stroke:#000000;stroke-width:2.0px;stroke-linecap:butt;stroke-linejoin:miter;stroke-opacity:1&#x27; /&gt;\\n&lt;path class=&#x27;bond-8 atom-8 atom-9&#x27; d=&#x27;M 133.991,67.899 L 107.061,52.2505&#x27; style=&#x27;fill:none;fill-rule:evenodd;stroke:#000000;stroke-width:2.0px;stroke-linecap:butt;stroke-linejoin:miter;stroke-opacity:1&#x27; /&gt;\\n&lt;path class=&#x27;bond-9 atom-9 atom-10&#x27; d=&#x27;M 107.061,52.2505 L 107.148,21.103&#x27; style=&#x27;fill:none;fill-rule:evenodd;stroke:#000000;stroke-width:2.0px;stroke-linecap:butt;stroke-linejoin:miter;stroke-opacity:1&#x27; /&gt;\\n&lt;path class=&#x27;bond-10 atom-10 atom-11&#x27; d=&#x27;M 107.148,21.103 L 80.218,5.45455&#x27; style=&#x27;fill:none;fill-rule:evenodd;stroke:#000000;stroke-width:2.0px;stroke-linecap:butt;stroke-linejoin:miter;stroke-opacity:1&#x27; /&gt;\\n&lt;/svg&gt;\\n&quot;, &quot;data-smile&quot;: &quot;C1CCCCCCCCCCC1&quot;, &quot;mols2grid-id&quot;: 7}, {&quot;data-sigma_orig&quot;: 20, &quot;data-img&quot;: &quot;&lt;?xml version=&#x27;1.0&#x27; encoding=&#x27;iso-8859-1&#x27;?&gt;\\n&lt;svg version=&#x27;1.1&#x27; baseProfile=&#x27;full&#x27;\\n              xmlns=&#x27;http://www.w3.org/2000/svg&#x27;\\n                      xmlns:rdkit=&#x27;http://www.rdkit.org/xml&#x27;\\n                      xmlns:xlink=&#x27;http://www.w3.org/1999/xlink&#x27;\\n                  xml:space=&#x27;preserve&#x27;\\nwidth=&#x27;160px&#x27; height=&#x27;120px&#x27; viewBox=&#x27;0 0 160 120&#x27;&gt;\\n&lt;!-- END OF HEADER --&gt;\\n&lt;rect style=&#x27;opacity:1.0;fill:#FFFFFF;stroke:none&#x27; width=&#x27;160&#x27; height=&#x27;120&#x27; x=&#x27;0&#x27; y=&#x27;0&#x27;&gt; &lt;/rect&gt;\\n&lt;path class=&#x27;bond-0 atom-0 atom-1&#x27; d=&#x27;M 120.355,20.9535 L 120.442,52.101&#x27; style=&#x27;fill:none;fill-rule:evenodd;stroke:#000000;stroke-width:2.0px;stroke-linecap:butt;stroke-linejoin:miter;stroke-opacity:1&#x27; /&gt;\\n&lt;path class=&#x27;bond-9 atom-9 atom-0&#x27; d=&#x27;M 93.3311,5.45455 L 120.355,20.9535&#x27; style=&#x27;fill:none;fill-rule:evenodd;stroke:#000000;stroke-width:2.0px;stroke-linecap:butt;stroke-linejoin:miter;stroke-opacity:1&#x27; /&gt;\\n&lt;path class=&#x27;bond-1 atom-1 atom-2&#x27; d=&#x27;M 120.442,52.101 L 93.5118,67.7495&#x27; style=&#x27;fill:none;fill-rule:evenodd;stroke:#000000;stroke-width:2.0px;stroke-linecap:butt;stroke-linejoin:miter;stroke-opacity:1&#x27; /&gt;\\n&lt;path class=&#x27;bond-2 atom-2 atom-3&#x27; d=&#x27;M 93.5118,67.7495 L 93.599,98.897&#x27; style=&#x27;fill:none;fill-rule:evenodd;stroke:#000000;stroke-width:2.0px;stroke-linecap:butt;stroke-linejoin:miter;stroke-opacity:1&#x27; /&gt;\\n&lt;path class=&#x27;bond-3 atom-3 atom-4&#x27; d=&#x27;M 93.599,98.897 L 66.6689,114.545&#x27; style=&#x27;fill:none;fill-rule:evenodd;stroke:#000000;stroke-width:2.0px;stroke-linecap:butt;stroke-linejoin:miter;stroke-opacity:1&#x27; /&gt;\\n&lt;path class=&#x27;bond-4 atom-4 atom-5&#x27; d=&#x27;M 66.6689,114.545 L 39.6453,99.0465&#x27; style=&#x27;fill:none;fill-rule:evenodd;stroke:#000000;stroke-width:2.0px;stroke-linecap:butt;stroke-linejoin:miter;stroke-opacity:1&#x27; /&gt;\\n&lt;path class=&#x27;bond-5 atom-5 atom-6&#x27; d=&#x27;M 39.6453,99.0465 L 39.5581,67.899&#x27; style=&#x27;fill:none;fill-rule:evenodd;stroke:#000000;stroke-width:2.0px;stroke-linecap:butt;stroke-linejoin:miter;stroke-opacity:1&#x27; /&gt;\\n&lt;path class=&#x27;bond-6 atom-6 atom-7&#x27; d=&#x27;M 39.5581,67.899 L 66.4882,52.2505&#x27; style=&#x27;fill:none;fill-rule:evenodd;stroke:#000000;stroke-width:2.0px;stroke-linecap:butt;stroke-linejoin:miter;stroke-opacity:1&#x27; /&gt;\\n&lt;path class=&#x27;bond-7 atom-7 atom-8&#x27; d=&#x27;M 66.4882,52.2505 L 66.401,21.103&#x27; style=&#x27;fill:none;fill-rule:evenodd;stroke:#000000;stroke-width:2.0px;stroke-linecap:butt;stroke-linejoin:miter;stroke-opacity:1&#x27; /&gt;\\n&lt;path class=&#x27;bond-8 atom-8 atom-9&#x27; d=&#x27;M 66.401,21.103 L 93.3311,5.45455&#x27; style=&#x27;fill:none;fill-rule:evenodd;stroke:#000000;stroke-width:2.0px;stroke-linecap:butt;stroke-linejoin:miter;stroke-opacity:1&#x27; /&gt;\\n&lt;/svg&gt;\\n&quot;, &quot;data-smile&quot;: &quot;C1CCCCCCCCC1&quot;, &quot;mols2grid-id&quot;: 8}, {&quot;data-sigma_orig&quot;: 16, &quot;data-img&quot;: &quot;&lt;?xml version=&#x27;1.0&#x27; encoding=&#x27;iso-8859-1&#x27;?&gt;\\n&lt;svg version=&#x27;1.1&#x27; baseProfile=&#x27;full&#x27;\\n              xmlns=&#x27;http://www.w3.org/2000/svg&#x27;\\n                      xmlns:rdkit=&#x27;http://www.rdkit.org/xml&#x27;\\n                      xmlns:xlink=&#x27;http://www.w3.org/1999/xlink&#x27;\\n                  xml:space=&#x27;preserve&#x27;\\nwidth=&#x27;160px&#x27; height=&#x27;120px&#x27; viewBox=&#x27;0 0 160 120&#x27;&gt;\\n&lt;!-- END OF HEADER --&gt;\\n&lt;rect style=&#x27;opacity:1.0;fill:#FFFFFF;stroke:none&#x27; width=&#x27;160&#x27; height=&#x27;120&#x27; x=&#x27;0&#x27; y=&#x27;0&#x27;&gt; &lt;/rect&gt;\\n&lt;path class=&#x27;bond-0 atom-0 atom-1&#x27; d=&#x27;M 134.537,67.0286 L 113.603,103.535&#x27; style=&#x27;fill:none;fill-rule:evenodd;stroke:#000000;stroke-width:2.0px;stroke-linecap:butt;stroke-linejoin:miter;stroke-opacity:1&#x27; /&gt;\\n&lt;path class=&#x27;bond-0 atom-0 atom-1&#x27; d=&#x27;M 124.825,68.7361 L 110.171,94.2908&#x27; style=&#x27;fill:none;fill-rule:evenodd;stroke:#000000;stroke-width:2.0px;stroke-linecap:butt;stroke-linejoin:miter;stroke-opacity:1&#x27; /&gt;\\n&lt;path class=&#x27;bond-7 atom-7 atom-0&#x27; d=&#x27;M 123.535,26.3973 L 134.537,67.0286&#x27; style=&#x27;fill:none;fill-rule:evenodd;stroke:#000000;stroke-width:2.0px;stroke-linecap:butt;stroke-linejoin:miter;stroke-opacity:1&#x27; /&gt;\\n&lt;path class=&#x27;bond-1 atom-1 atom-2&#x27; d=&#x27;M 113.603,103.535 L 72.9714,114.545&#x27; style=&#x27;fill:none;fill-rule:evenodd;stroke:#000000;stroke-width:2.0px;stroke-linecap:butt;stroke-linejoin:miter;stroke-opacity:1&#x27; /&gt;\\n&lt;path class=&#x27;bond-2 atom-2 atom-3&#x27; d=&#x27;M 72.9714,114.545 L 36.4646,93.6027&#x27; style=&#x27;fill:none;fill-rule:evenodd;stroke:#000000;stroke-width:2.0px;stroke-linecap:butt;stroke-linejoin:miter;stroke-opacity:1&#x27; /&gt;\\n&lt;path class=&#x27;bond-2 atom-2 atom-3&#x27; d=&#x27;M 71.2651,104.833 L 45.7104,90.1729&#x27; style=&#x27;fill:none;fill-rule:evenodd;stroke:#000000;stroke-width:2.0px;stroke-linecap:butt;stroke-linejoin:miter;stroke-opacity:1&#x27; /&gt;\\n&lt;path class=&#x27;bond-3 atom-3 atom-4&#x27; d=&#x27;M 36.4646,93.6027 L 25.463,52.9798&#x27; style=&#x27;fill:none;fill-rule:evenodd;stroke:#000000;stroke-width:2.0px;stroke-linecap:butt;stroke-linejoin:miter;stroke-opacity:1&#x27; /&gt;\\n&lt;path class=&#x27;bond-4 atom-4 atom-5&#x27; d=&#x27;M 25.463,52.9798 L 46.4057,16.4731&#x27; style=&#x27;fill:none;fill-rule:evenodd;stroke:#000000;stroke-width:2.0px;stroke-linecap:butt;stroke-linejoin:miter;stroke-opacity:1&#x27; /&gt;\\n&lt;path class=&#x27;bond-4 atom-4 atom-5&#x27; d=&#x27;M 35.1756,51.2735 L 49.8356,25.7188&#x27; style=&#x27;fill:none;fill-rule:evenodd;stroke:#000000;stroke-width:2.0px;stroke-linecap:butt;stroke-linejoin:miter;stroke-opacity:1&#x27; /&gt;\\n&lt;path class=&#x27;bond-5 atom-5 atom-6&#x27; d=&#x27;M 46.4057,16.4731 L 87.0286,5.45455&#x27; style=&#x27;fill:none;fill-rule:evenodd;stroke:#000000;stroke-width:2.0px;stroke-linecap:butt;stroke-linejoin:miter;stroke-opacity:1&#x27; /&gt;\\n&lt;path class=&#x27;bond-6 atom-6 atom-7&#x27; d=&#x27;M 87.0286,5.45455 L 123.535,26.3973&#x27; style=&#x27;fill:none;fill-rule:evenodd;stroke:#000000;stroke-width:2.0px;stroke-linecap:butt;stroke-linejoin:miter;stroke-opacity:1&#x27; /&gt;\\n&lt;path class=&#x27;bond-6 atom-6 atom-7&#x27; d=&#x27;M 88.7349,15.1672 L 114.29,29.8271&#x27; style=&#x27;fill:none;fill-rule:evenodd;stroke:#000000;stroke-width:2.0px;stroke-linecap:butt;stroke-linejoin:miter;stroke-opacity:1&#x27; /&gt;\\n&lt;/svg&gt;\\n&quot;, &quot;data-smile&quot;: &quot;C/1=C/C=C\\\\\\\\C=C/C=C1&quot;, &quot;mols2grid-id&quot;: 9}, {&quot;data-sigma_orig&quot;: 16, &quot;data-img&quot;: &quot;&lt;?xml version=&#x27;1.0&#x27; encoding=&#x27;iso-8859-1&#x27;?&gt;\\n&lt;svg version=&#x27;1.1&#x27; baseProfile=&#x27;full&#x27;\\n              xmlns=&#x27;http://www.w3.org/2000/svg&#x27;\\n                      xmlns:rdkit=&#x27;http://www.rdkit.org/xml&#x27;\\n                      xmlns:xlink=&#x27;http://www.w3.org/1999/xlink&#x27;\\n                  xml:space=&#x27;preserve&#x27;\\nwidth=&#x27;160px&#x27; height=&#x27;120px&#x27; viewBox=&#x27;0 0 160 120&#x27;&gt;\\n&lt;!-- END OF HEADER --&gt;\\n&lt;rect style=&#x27;opacity:1.0;fill:#FFFFFF;stroke:none&#x27; width=&#x27;160&#x27; height=&#x27;120&#x27; x=&#x27;0&#x27; y=&#x27;0&#x27;&gt; &lt;/rect&gt;\\n&lt;path class=&#x27;bond-0 atom-0 atom-1&#x27; d=&#x27;M 134.537,67.0286 L 113.603,103.535&#x27; style=&#x27;fill:none;fill-rule:evenodd;stroke:#000000;stroke-width:2.0px;stroke-linecap:butt;stroke-linejoin:miter;stroke-opacity:1&#x27; /&gt;\\n&lt;path class=&#x27;bond-7 atom-7 atom-0&#x27; d=&#x27;M 123.535,26.3973 L 134.537,67.0286&#x27; style=&#x27;fill:none;fill-rule:evenodd;stroke:#000000;stroke-width:2.0px;stroke-linecap:butt;stroke-linejoin:miter;stroke-opacity:1&#x27; /&gt;\\n&lt;path class=&#x27;bond-1 atom-1 atom-2&#x27; d=&#x27;M 113.603,103.535 L 72.9714,114.545&#x27; style=&#x27;fill:none;fill-rule:evenodd;stroke:#000000;stroke-width:2.0px;stroke-linecap:butt;stroke-linejoin:miter;stroke-opacity:1&#x27; /&gt;\\n&lt;path class=&#x27;bond-2 atom-2 atom-3&#x27; d=&#x27;M 72.9714,114.545 L 36.4646,93.6027&#x27; style=&#x27;fill:none;fill-rule:evenodd;stroke:#000000;stroke-width:2.0px;stroke-linecap:butt;stroke-linejoin:miter;stroke-opacity:1&#x27; /&gt;\\n&lt;path class=&#x27;bond-3 atom-3 atom-4&#x27; d=&#x27;M 36.4646,93.6027 L 25.463,52.9798&#x27; style=&#x27;fill:none;fill-rule:evenodd;stroke:#000000;stroke-width:2.0px;stroke-linecap:butt;stroke-linejoin:miter;stroke-opacity:1&#x27; /&gt;\\n&lt;path class=&#x27;bond-4 atom-4 atom-5&#x27; d=&#x27;M 25.463,52.9798 L 46.4057,16.4731&#x27; style=&#x27;fill:none;fill-rule:evenodd;stroke:#000000;stroke-width:2.0px;stroke-linecap:butt;stroke-linejoin:miter;stroke-opacity:1&#x27; /&gt;\\n&lt;path class=&#x27;bond-5 atom-5 atom-6&#x27; d=&#x27;M 46.4057,16.4731 L 87.0286,5.45455&#x27; style=&#x27;fill:none;fill-rule:evenodd;stroke:#000000;stroke-width:2.0px;stroke-linecap:butt;stroke-linejoin:miter;stroke-opacity:1&#x27; /&gt;\\n&lt;path class=&#x27;bond-6 atom-6 atom-7&#x27; d=&#x27;M 87.0286,5.45455 L 123.535,26.3973&#x27; style=&#x27;fill:none;fill-rule:evenodd;stroke:#000000;stroke-width:2.0px;stroke-linecap:butt;stroke-linejoin:miter;stroke-opacity:1&#x27; /&gt;\\n&lt;/svg&gt;\\n&quot;, &quot;data-smile&quot;: &quot;C1CCCCCCC1&quot;, &quot;mols2grid-id&quot;: 10}, {&quot;data-sigma_orig&quot;: 14, &quot;data-img&quot;: &quot;&lt;?xml version=&#x27;1.0&#x27; encoding=&#x27;iso-8859-1&#x27;?&gt;\\n&lt;svg version=&#x27;1.1&#x27; baseProfile=&#x27;full&#x27;\\n              xmlns=&#x27;http://www.w3.org/2000/svg&#x27;\\n                      xmlns:rdkit=&#x27;http://www.rdkit.org/xml&#x27;\\n                      xmlns:xlink=&#x27;http://www.w3.org/1999/xlink&#x27;\\n                  xml:space=&#x27;preserve&#x27;\\nwidth=&#x27;160px&#x27; height=&#x27;120px&#x27; viewBox=&#x27;0 0 160 120&#x27;&gt;\\n&lt;!-- END OF HEADER --&gt;\\n&lt;rect style=&#x27;opacity:1.0;fill:#FFFFFF;stroke:none&#x27; width=&#x27;160&#x27; height=&#x27;120&#x27; x=&#x27;0&#x27; y=&#x27;0&#x27;&gt; &lt;/rect&gt;\\n&lt;path class=&#x27;bond-0 atom-0 atom-1&#x27; d=&#x27;M 52.8034,111.106 L 101.821,114.545&#x27; style=&#x27;fill:none;fill-rule:evenodd;stroke:#000000;stroke-width:2.0px;stroke-linecap:butt;stroke-linejoin:miter;stroke-opacity:1&#x27; /&gt;\\n&lt;path class=&#x27;bond-6 atom-6 atom-0&#x27; d=&#x27;M 24.9337,70.6477 L 52.8034,111.106&#x27; style=&#x27;fill:none;fill-rule:evenodd;stroke:#000000;stroke-width:2.0px;stroke-linecap:butt;stroke-linejoin:miter;stroke-opacity:1&#x27; /&gt;\\n&lt;path class=&#x27;bond-1 atom-1 atom-2&#x27; d=&#x27;M 101.821,114.545 L 135.066,78.3718&#x27; style=&#x27;fill:none;fill-rule:evenodd;stroke:#000000;stroke-width:2.0px;stroke-linecap:butt;stroke-linejoin:miter;stroke-opacity:1&#x27; /&gt;\\n&lt;path class=&#x27;bond-2 atom-2 atom-3&#x27; d=&#x27;M 135.066,78.3718 L 127.509,29.816&#x27; style=&#x27;fill:none;fill-rule:evenodd;stroke:#000000;stroke-width:2.0px;stroke-linecap:butt;stroke-linejoin:miter;stroke-opacity:1&#x27; /&gt;\\n&lt;path class=&#x27;bond-3 atom-3 atom-4&#x27; d=&#x27;M 127.509,29.816 L 84.8399,5.45455&#x27; style=&#x27;fill:none;fill-rule:evenodd;stroke:#000000;stroke-width:2.0px;stroke-linecap:butt;stroke-linejoin:miter;stroke-opacity:1&#x27; /&gt;\\n&lt;path class=&#x27;bond-4 atom-4 atom-5&#x27; d=&#x27;M 84.8399,5.45455 L 39.183,23.6249&#x27; style=&#x27;fill:none;fill-rule:evenodd;stroke:#000000;stroke-width:2.0px;stroke-linecap:butt;stroke-linejoin:miter;stroke-opacity:1&#x27; /&gt;\\n&lt;path class=&#x27;bond-5 atom-5 atom-6&#x27; d=&#x27;M 39.183,23.6249 L 24.9337,70.6477&#x27; style=&#x27;fill:none;fill-rule:evenodd;stroke:#000000;stroke-width:2.0px;stroke-linecap:butt;stroke-linejoin:miter;stroke-opacity:1&#x27; /&gt;\\n&lt;/svg&gt;\\n&quot;, &quot;data-smile&quot;: &quot;C1CCCCCC1&quot;, &quot;mols2grid-id&quot;: 11}, {&quot;data-sigma_orig&quot;: 12, &quot;data-img&quot;: &quot;&lt;?xml version=&#x27;1.0&#x27; encoding=&#x27;iso-8859-1&#x27;?&gt;\\n&lt;svg version=&#x27;1.1&#x27; baseProfile=&#x27;full&#x27;\\n              xmlns=&#x27;http://www.w3.org/2000/svg&#x27;\\n                      xmlns:rdkit=&#x27;http://www.rdkit.org/xml&#x27;\\n                      xmlns:xlink=&#x27;http://www.w3.org/1999/xlink&#x27;\\n                  xml:space=&#x27;preserve&#x27;\\nwidth=&#x27;160px&#x27; height=&#x27;120px&#x27; viewBox=&#x27;0 0 160 120&#x27;&gt;\\n&lt;!-- END OF HEADER --&gt;\\n&lt;rect style=&#x27;opacity:1.0;fill:#FFFFFF;stroke:none&#x27; width=&#x27;160&#x27; height=&#x27;120&#x27; x=&#x27;0&#x27; y=&#x27;0&#x27;&gt; &lt;/rect&gt;\\n&lt;path class=&#x27;bond-0 atom-0 atom-1&#x27; d=&#x27;M 66.7108,64.8186 L 80.0214,87.9585&#x27; style=&#x27;fill:none;fill-rule:evenodd;stroke:#000000;stroke-width:2.0px;stroke-linecap:butt;stroke-linejoin:miter;stroke-opacity:1&#x27; /&gt;\\n&lt;path class=&#x27;bond-10 atom-0 atom-11&#x27; d=&#x27;M 66.7108,64.8186 L 71.9256,55.8201&#x27; style=&#x27;fill:none;fill-rule:evenodd;stroke:#000000;stroke-width:2.0px;stroke-linecap:butt;stroke-linejoin:miter;stroke-opacity:1&#x27; /&gt;\\n&lt;path class=&#x27;bond-10 atom-0 atom-11&#x27; d=&#x27;M 71.9256,55.8201 L 77.1404,46.8216&#x27; style=&#x27;fill:none;fill-rule:evenodd;stroke:#FF0000;stroke-width:2.0px;stroke-linecap:butt;stroke-linejoin:miter;stroke-opacity:1&#x27; /&gt;\\n&lt;path class=&#x27;bond-1 atom-1 atom-2&#x27; d=&#x27;M 80.0214,87.9585 L 93.4066,64.8613&#x27; style=&#x27;fill:none;fill-rule:evenodd;stroke:#000000;stroke-width:2.0px;stroke-linecap:butt;stroke-linejoin:miter;stroke-opacity:1&#x27; /&gt;\\n&lt;path class=&#x27;bond-4 atom-1 atom-5&#x27; d=&#x27;M 80.0214,87.9585 L 56.8815,101.269&#x27; style=&#x27;fill:none;fill-rule:evenodd;stroke:#000000;stroke-width:2.0px;stroke-linecap:butt;stroke-linejoin:miter;stroke-opacity:1&#x27; /&gt;\\n&lt;path class=&#x27;bond-7 atom-1 atom-8&#x27; d=&#x27;M 80.0214,87.9585 L 103.119,101.344&#x27; style=&#x27;fill:none;fill-rule:evenodd;stroke:#000000;stroke-width:2.0px;stroke-linecap:butt;stroke-linejoin:miter;stroke-opacity:1&#x27; /&gt;\\n&lt;path class=&#x27;bond-2 atom-2 atom-3&#x27; d=&#x27;M 93.4066,64.8613 L 104.469,64.879&#x27; style=&#x27;fill:none;fill-rule:evenodd;stroke:#000000;stroke-width:2.0px;stroke-linecap:butt;stroke-linejoin:miter;stroke-opacity:1&#x27; /&gt;\\n&lt;path class=&#x27;bond-2 atom-2 atom-3&#x27; d=&#x27;M 104.469,64.879 L 115.531,64.8967&#x27; style=&#x27;fill:none;fill-rule:evenodd;stroke:#FF0000;stroke-width:2.0px;stroke-linecap:butt;stroke-linejoin:miter;stroke-opacity:1&#x27; /&gt;\\n&lt;path class=&#x27;bond-3 atom-3 atom-4&#x27; d=&#x27;M 122.981,59.9359 L 126.851,53.2596&#x27; style=&#x27;fill:none;fill-rule:evenodd;stroke:#FF0000;stroke-width:2.0px;stroke-linecap:butt;stroke-linejoin:miter;stroke-opacity:1&#x27; /&gt;\\n&lt;path class=&#x27;bond-3 atom-3 atom-4&#x27; d=&#x27;M 126.851,53.2596 L 130.72,46.5833&#x27; style=&#x27;fill:none;fill-rule:evenodd;stroke:#33CCCC;stroke-width:2.0px;stroke-linecap:butt;stroke-linejoin:miter;stroke-opacity:1&#x27; /&gt;\\n&lt;path class=&#x27;bond-5 atom-5 atom-6&#x27; d=&#x27;M 56.8815,101.269 L 47.6187,95.901&#x27; style=&#x27;fill:none;fill-rule:evenodd;stroke:#000000;stroke-width:2.0px;stroke-linecap:butt;stroke-linejoin:miter;stroke-opacity:1&#x27; /&gt;\\n&lt;path class=&#x27;bond-5 atom-5 atom-6&#x27; d=&#x27;M 47.6187,95.901 L 38.3559,90.5331&#x27; style=&#x27;fill:none;fill-rule:evenodd;stroke:#FF0000;stroke-width:2.0px;stroke-linecap:butt;stroke-linejoin:miter;stroke-opacity:1&#x27; /&gt;\\n&lt;path class=&#x27;bond-6 atom-6 atom-7&#x27; d=&#x27;M 29.2127,90.5134 L 21.4607,94.9725&#x27; style=&#x27;fill:none;fill-rule:evenodd;stroke:#FF0000;stroke-width:2.0px;stroke-linecap:butt;stroke-linejoin:miter;stroke-opacity:1&#x27; /&gt;\\n&lt;path class=&#x27;bond-6 atom-6 atom-7&#x27; d=&#x27;M 21.4607,94.9725 L 13.7087,99.4316&#x27; style=&#x27;fill:none;fill-rule:evenodd;stroke:#33CCCC;stroke-width:2.0px;stroke-linecap:butt;stroke-linejoin:miter;stroke-opacity:1&#x27; /&gt;\\n&lt;path class=&#x27;bond-8 atom-8 atom-9&#x27; d=&#x27;M 103.119,101.344 L 112.403,96.0033&#x27; style=&#x27;fill:none;fill-rule:evenodd;stroke:#000000;stroke-width:2.0px;stroke-linecap:butt;stroke-linejoin:miter;stroke-opacity:1&#x27; /&gt;\\n&lt;path class=&#x27;bond-8 atom-8 atom-9&#x27; d=&#x27;M 112.403,96.0033 L 121.687,90.6629&#x27; style=&#x27;fill:none;fill-rule:evenodd;stroke:#FF0000;stroke-width:2.0px;stroke-linecap:butt;stroke-linejoin:miter;stroke-opacity:1&#x27; /&gt;\\n&lt;path class=&#x27;bond-9 atom-9 atom-10&#x27; d=&#x27;M 130.83,90.6826 L 138.561,95.1627&#x27; style=&#x27;fill:none;fill-rule:evenodd;stroke:#FF0000;stroke-width:2.0px;stroke-linecap:butt;stroke-linejoin:miter;stroke-opacity:1&#x27; /&gt;\\n&lt;path class=&#x27;bond-9 atom-9 atom-10&#x27; d=&#x27;M 138.561,95.1627 L 146.292,99.6428&#x27; style=&#x27;fill:none;fill-rule:evenodd;stroke:#33CCCC;stroke-width:2.0px;stroke-linecap:butt;stroke-linejoin:miter;stroke-opacity:1&#x27; /&gt;\\n&lt;path class=&#x27;bond-11 atom-11 atom-12&#x27; d=&#x27;M 77.2384,36.7533 L 73.3858,30.0558&#x27; style=&#x27;fill:none;fill-rule:evenodd;stroke:#FF0000;stroke-width:2.0px;stroke-linecap:butt;stroke-linejoin:miter;stroke-opacity:1&#x27; /&gt;\\n&lt;path class=&#x27;bond-11 atom-11 atom-12&#x27; d=&#x27;M 73.3858,30.0558 L 69.5333,23.3582&#x27; style=&#x27;fill:none;fill-rule:evenodd;stroke:#33CCCC;stroke-width:2.0px;stroke-linecap:butt;stroke-linejoin:miter;stroke-opacity:1&#x27; /&gt;\\n&lt;path  class=&#x27;atom-3&#x27; d=&#x27;M 116.198 64.928\\nQ 116.198 62.8858, 117.207 61.7446\\nQ 118.216 60.6033, 120.102 60.6033\\nQ 121.988 60.6033, 122.998 61.7446\\nQ 124.007 62.8858, 124.007 64.928\\nQ 124.007 66.9943, 122.986 68.1716\\nQ 121.964 69.3368, 120.102 69.3368\\nQ 118.228 69.3368, 117.207 68.1716\\nQ 116.198 67.0063, 116.198 64.928\\nM 120.102 68.3758\\nQ 121.4 68.3758, 122.097 67.5109\\nQ 122.805 66.6339, 122.805 64.928\\nQ 122.805 63.2582, 122.097 62.4173\\nQ 121.4 61.5644, 120.102 61.5644\\nQ 118.805 61.5644, 118.096 62.4053\\nQ 117.399 63.2462, 117.399 64.928\\nQ 117.399 66.6459, 118.096 67.5109\\nQ 118.805 68.3758, 120.102 68.3758\\n&#x27; fill=&#x27;#FF0000&#x27;/&gt;\\n&lt;path  class=&#x27;atom-4&#x27; d=&#x27;M 130.959 37.5542\\nL 136.016 37.5542\\nL 136.016 38.5273\\nL 132.1 38.5273\\nL 132.1 41.1101\\nL 135.584 41.1101\\nL 135.584 42.0952\\nL 132.1 42.0952\\nL 132.1 46.0595\\nL 130.959 46.0595\\nL 130.959 37.5542\\n&#x27; fill=&#x27;#33CCCC&#x27;/&gt;\\n&lt;path  class=&#x27;atom-6&#x27; d=&#x27;M 29.88 87.9078\\nQ 29.88 85.8655, 30.8891 84.7243\\nQ 31.8982 83.583, 33.7843 83.583\\nQ 35.6703 83.583, 36.6794 84.7243\\nQ 37.6885 85.8655, 37.6885 87.9078\\nQ 37.6885 89.974, 36.6674 91.1513\\nQ 35.6463 92.3166, 33.7843 92.3166\\nQ 31.9102 92.3166, 30.8891 91.1513\\nQ 29.88 89.986, 29.88 87.9078\\nM 33.7843 91.3555\\nQ 35.0817 91.3555, 35.7785 90.4906\\nQ 36.4872 89.6136, 36.4872 87.9078\\nQ 36.4872 86.2379, 35.7785 85.397\\nQ 35.0817 84.5441, 33.7843 84.5441\\nQ 32.4869 84.5441, 31.7781 85.385\\nQ 31.0813 86.2259, 31.0813 87.9078\\nQ 31.0813 89.6256, 31.7781 90.4906\\nQ 32.4869 91.3555, 33.7843 91.3555\\n&#x27; fill=&#x27;#FF0000&#x27;/&gt;\\n&lt;path  class=&#x27;atom-7&#x27; d=&#x27;M 8.11565 96.9416\\nL 13.1732 96.9416\\nL 13.1732 97.9147\\nL 9.25689 97.9147\\nL 9.25689 100.497\\nL 12.7407 100.497\\nL 12.7407 101.483\\nL 9.25689 101.483\\nL 9.25689 105.447\\nL 8.11565 105.447\\nL 8.11565 96.9416\\n&#x27; fill=&#x27;#33CCCC&#x27;/&gt;\\n&lt;path  class=&#x27;atom-9&#x27; d=&#x27;M 122.354 88.0572\\nQ 122.354 86.015, 123.363 84.8738\\nQ 124.372 83.7325, 126.258 83.7325\\nQ 128.144 83.7325, 129.154 84.8738\\nQ 130.163 86.015, 130.163 88.0572\\nQ 130.163 90.1235, 129.142 91.3008\\nQ 128.12 92.4661, 126.258 92.4661\\nQ 124.384 92.4661, 123.363 91.3008\\nQ 122.354 90.1355, 122.354 88.0572\\nM 126.258 91.505\\nQ 127.556 91.505, 128.253 90.6401\\nQ 128.961 89.7631, 128.961 88.0572\\nQ 128.961 86.3874, 128.253 85.5465\\nQ 127.556 84.6936, 126.258 84.6936\\nQ 124.961 84.6936, 124.252 85.5345\\nQ 123.555 86.3754, 123.555 88.0572\\nQ 123.555 89.7751, 124.252 90.6401\\nQ 124.961 91.505, 126.258 91.505\\n&#x27; fill=&#x27;#FF0000&#x27;/&gt;\\n&lt;path  class=&#x27;atom-10&#x27; d=&#x27;M 146.827 97.1658\\nL 151.884 97.1658\\nL 151.884 98.1389\\nL 147.968 98.1389\\nL 147.968 100.722\\nL 151.452 100.722\\nL 151.452 101.707\\nL 147.968 101.707\\nL 147.968 105.671\\nL 146.827 105.671\\nL 146.827 97.1658\\n&#x27; fill=&#x27;#33CCCC&#x27;/&gt;\\n&lt;path  class=&#x27;atom-11&#x27; d=&#x27;M 76.1918 41.7454\\nQ 76.1918 39.7032, 77.2009 38.562\\nQ 78.21 37.4207, 80.0961 37.4207\\nQ 81.9822 37.4207, 82.9913 38.562\\nQ 84.0004 39.7032, 84.0004 41.7454\\nQ 84.0004 43.8117, 82.9792 44.989\\nQ 81.9581 46.1542, 80.0961 46.1542\\nQ 78.2221 46.1542, 77.2009 44.989\\nQ 76.1918 43.8237, 76.1918 41.7454\\nM 80.0961 45.1932\\nQ 81.3935 45.1932, 82.0903 44.3283\\nQ 82.7991 43.4513, 82.7991 41.7454\\nQ 82.7991 40.0756, 82.0903 39.2347\\nQ 81.3935 38.3818, 80.0961 38.3818\\nQ 78.7987 38.3818, 78.0899 39.2227\\nQ 77.3932 40.0636, 77.3932 41.7454\\nQ 77.3932 43.4633, 78.0899 44.3283\\nQ 78.7987 45.1932, 80.0961 45.1932\\n&#x27; fill=&#x27;#FF0000&#x27;/&gt;\\n&lt;path  class=&#x27;atom-12&#x27; d=&#x27;M 64.2568 14.3289\\nL 69.3144 14.3289\\nL 69.3144 15.3019\\nL 65.3981 15.3019\\nL 65.3981 17.8848\\nL 68.8819 17.8848\\nL 68.8819 18.8698\\nL 65.3981 18.8698\\nL 65.3981 22.8342\\nL 64.2568 22.8342\\nL 64.2568 14.3289\\n&#x27; fill=&#x27;#33CCCC&#x27;/&gt;\\n&lt;/svg&gt;\\n&quot;, &quot;data-smile&quot;: &quot;C(C(COF)(COF)COF)OF&quot;, &quot;mols2grid-id&quot;: 12}, {&quot;data-sigma_orig&quot;: 12, &quot;data-img&quot;: &quot;&lt;?xml version=&#x27;1.0&#x27; encoding=&#x27;iso-8859-1&#x27;?&gt;\\n&lt;svg version=&#x27;1.1&#x27; baseProfile=&#x27;full&#x27;\\n              xmlns=&#x27;http://www.w3.org/2000/svg&#x27;\\n                      xmlns:rdkit=&#x27;http://www.rdkit.org/xml&#x27;\\n                      xmlns:xlink=&#x27;http://www.w3.org/1999/xlink&#x27;\\n                  xml:space=&#x27;preserve&#x27;\\nwidth=&#x27;160px&#x27; height=&#x27;120px&#x27; viewBox=&#x27;0 0 160 120&#x27;&gt;\\n&lt;!-- END OF HEADER --&gt;\\n&lt;rect style=&#x27;opacity:1.0;fill:#FFFFFF;stroke:none&#x27; width=&#x27;160&#x27; height=&#x27;120&#x27; x=&#x27;0&#x27; y=&#x27;0&#x27;&gt; &lt;/rect&gt;\\n&lt;path class=&#x27;bond-0 atom-0 atom-1&#x27; d=&#x27;M 110.483,114.545 L 105.769,111.801&#x27; style=&#x27;fill:none;fill-rule:evenodd;stroke:#000000;stroke-width:2.0px;stroke-linecap:butt;stroke-linejoin:miter;stroke-opacity:1&#x27; /&gt;\\n&lt;path class=&#x27;bond-1 atom-1 atom-2&#x27; d=&#x27;M 105.769,111.801 L 105.789,106.346&#x27; style=&#x27;fill:none;fill-rule:evenodd;stroke:#000000;stroke-width:2.0px;stroke-linecap:butt;stroke-linejoin:miter;stroke-opacity:1&#x27; /&gt;\\n&lt;path class=&#x27;bond-2 atom-2 atom-3&#x27; d=&#x27;M 105.789,106.346 L 101.075,103.602&#x27; style=&#x27;fill:none;fill-rule:evenodd;stroke:#000000;stroke-width:2.0px;stroke-linecap:butt;stroke-linejoin:miter;stroke-opacity:1&#x27; /&gt;\\n&lt;path class=&#x27;bond-3 atom-3 atom-4&#x27; d=&#x27;M 101.075,103.602 L 101.095,98.1477&#x27; style=&#x27;fill:none;fill-rule:evenodd;stroke:#000000;stroke-width:2.0px;stroke-linecap:butt;stroke-linejoin:miter;stroke-opacity:1&#x27; /&gt;\\n&lt;path class=&#x27;bond-4 atom-4 atom-5&#x27; d=&#x27;M 101.095,98.1477 L 96.3809,95.4029&#x27; style=&#x27;fill:none;fill-rule:evenodd;stroke:#000000;stroke-width:2.0px;stroke-linecap:butt;stroke-linejoin:miter;stroke-opacity:1&#x27; /&gt;\\n&lt;path class=&#x27;bond-5 atom-5 atom-6&#x27; d=&#x27;M 96.3809,95.4029 L 96.4005,89.9493&#x27; style=&#x27;fill:none;fill-rule:evenodd;stroke:#000000;stroke-width:2.0px;stroke-linecap:butt;stroke-linejoin:miter;stroke-opacity:1&#x27; /&gt;\\n&lt;path class=&#x27;bond-6 atom-6 atom-7&#x27; d=&#x27;M 96.4005,89.9493 L 91.6866,87.2045&#x27; style=&#x27;fill:none;fill-rule:evenodd;stroke:#000000;stroke-width:2.0px;stroke-linecap:butt;stroke-linejoin:miter;stroke-opacity:1&#x27; /&gt;\\n&lt;path class=&#x27;bond-7 atom-7 atom-8&#x27; d=&#x27;M 91.6866,87.2045 L 91.7062,81.7499&#x27; style=&#x27;fill:none;fill-rule:evenodd;stroke:#000000;stroke-width:2.0px;stroke-linecap:butt;stroke-linejoin:miter;stroke-opacity:1&#x27; /&gt;\\n&lt;path class=&#x27;bond-8 atom-8 atom-9&#x27; d=&#x27;M 91.7062,81.7499 L 86.9923,79.0062&#x27; style=&#x27;fill:none;fill-rule:evenodd;stroke:#000000;stroke-width:2.0px;stroke-linecap:butt;stroke-linejoin:miter;stroke-opacity:1&#x27; /&gt;\\n&lt;path class=&#x27;bond-9 atom-9 atom-10&#x27; d=&#x27;M 86.9923,79.0062 L 87.012,73.5515&#x27; style=&#x27;fill:none;fill-rule:evenodd;stroke:#000000;stroke-width:2.0px;stroke-linecap:butt;stroke-linejoin:miter;stroke-opacity:1&#x27; /&gt;\\n&lt;path class=&#x27;bond-10 atom-10 atom-11&#x27; d=&#x27;M 87.012,73.5515 L 91.7455,70.8417&#x27; style=&#x27;fill:none;fill-rule:evenodd;stroke:#000000;stroke-width:2.0px;stroke-linecap:butt;stroke-linejoin:miter;stroke-opacity:1&#x27; /&gt;\\n&lt;path class=&#x27;bond-10 atom-10 atom-11&#x27; d=&#x27;M 87.2342,72.293 L 90.5477,70.3961&#x27; style=&#x27;fill:none;fill-rule:evenodd;stroke:#000000;stroke-width:2.0px;stroke-linecap:butt;stroke-linejoin:miter;stroke-opacity:1&#x27; /&gt;\\n&lt;path class=&#x27;bond-77 atom-15 atom-10&#x27; d=&#x27;M 82.298,70.8068 L 87.012,73.5515&#x27; style=&#x27;fill:none;fill-rule:evenodd;stroke:#000000;stroke-width:2.0px;stroke-linecap:butt;stroke-linejoin:miter;stroke-opacity:1&#x27; /&gt;\\n&lt;path class=&#x27;bond-11 atom-11 atom-12&#x27; d=&#x27;M 91.7455,70.8417 L 91.7651,65.387&#x27; style=&#x27;fill:none;fill-rule:evenodd;stroke:#000000;stroke-width:2.0px;stroke-linecap:butt;stroke-linejoin:miter;stroke-opacity:1&#x27; /&gt;\\n&lt;path class=&#x27;bond-67 atom-11 atom-68&#x27; d=&#x27;M 91.7455,70.8417 L 96.4594,73.5854&#x27; style=&#x27;fill:none;fill-rule:evenodd;stroke:#000000;stroke-width:2.0px;stroke-linecap:butt;stroke-linejoin:miter;stroke-opacity:1&#x27; /&gt;\\n&lt;path class=&#x27;bond-12 atom-12 atom-13&#x27; d=&#x27;M 91.7651,65.387 L 87.0512,62.6422&#x27; style=&#x27;fill:none;fill-rule:evenodd;stroke:#000000;stroke-width:2.0px;stroke-linecap:butt;stroke-linejoin:miter;stroke-opacity:1&#x27; /&gt;\\n&lt;path class=&#x27;bond-12 atom-12 atom-13&#x27; d=&#x27;M 90.564,65.8238 L 87.2643,63.9024&#x27; style=&#x27;fill:none;fill-rule:evenodd;stroke:#000000;stroke-width:2.0px;stroke-linecap:butt;stroke-linejoin:miter;stroke-opacity:1&#x27; /&gt;\\n&lt;path class=&#x27;bond-13 atom-13 atom-14&#x27; d=&#x27;M 87.0512,62.6422 L 82.3177,65.3532&#x27; style=&#x27;fill:none;fill-rule:evenodd;stroke:#000000;stroke-width:2.0px;stroke-linecap:butt;stroke-linejoin:miter;stroke-opacity:1&#x27; /&gt;\\n&lt;path class=&#x27;bond-79 atom-27 atom-13&#x27; d=&#x27;M 87.0709,57.1887 L 87.0512,62.6422&#x27; style=&#x27;fill:none;fill-rule:evenodd;stroke:#000000;stroke-width:2.0px;stroke-linecap:butt;stroke-linejoin:miter;stroke-opacity:1&#x27; /&gt;\\n&lt;path class=&#x27;bond-14 atom-14 atom-15&#x27; d=&#x27;M 82.3177,65.3532 L 82.298,70.8068&#x27; style=&#x27;fill:none;fill-rule:evenodd;stroke:#000000;stroke-width:2.0px;stroke-linecap:butt;stroke-linejoin:miter;stroke-opacity:1&#x27; /&gt;\\n&lt;path class=&#x27;bond-14 atom-14 atom-15&#x27; d=&#x27;M 83.2966,66.1748 L 83.2828,69.9923&#x27; style=&#x27;fill:none;fill-rule:evenodd;stroke:#000000;stroke-width:2.0px;stroke-linecap:butt;stroke-linejoin:miter;stroke-opacity:1&#x27; /&gt;\\n&lt;path class=&#x27;bond-15 atom-14 atom-16&#x27; d=&#x27;M 82.3177,65.3532 L 77.6049,62.6084&#x27; style=&#x27;fill:none;fill-rule:evenodd;stroke:#000000;stroke-width:2.0px;stroke-linecap:butt;stroke-linejoin:miter;stroke-opacity:1&#x27; /&gt;\\n&lt;path class=&#x27;bond-16 atom-16 atom-17&#x27; d=&#x27;M 77.6049,62.6084 L 72.8702,65.3194&#x27; style=&#x27;fill:none;fill-rule:evenodd;stroke:#000000;stroke-width:2.0px;stroke-linecap:butt;stroke-linejoin:miter;stroke-opacity:1&#x27; /&gt;\\n&lt;path class=&#x27;bond-16 atom-16 atom-17&#x27; d=&#x27;M 76.4068,62.163 L 73.0926,64.0607&#x27; style=&#x27;fill:none;fill-rule:evenodd;stroke:#000000;stroke-width:2.0px;stroke-linecap:butt;stroke-linejoin:miter;stroke-opacity:1&#x27; /&gt;\\n&lt;path class=&#x27;bond-78 atom-21 atom-16&#x27; d=&#x27;M 77.6223,57.1538 L 77.6049,62.6084&#x27; style=&#x27;fill:none;fill-rule:evenodd;stroke:#000000;stroke-width:2.0px;stroke-linecap:butt;stroke-linejoin:miter;stroke-opacity:1&#x27; /&gt;\\n&lt;path class=&#x27;bond-17 atom-17 atom-18&#x27; d=&#x27;M 72.8702,65.3194 L 68.1563,62.5746&#x27; style=&#x27;fill:none;fill-rule:evenodd;stroke:#000000;stroke-width:2.0px;stroke-linecap:butt;stroke-linejoin:miter;stroke-opacity:1&#x27; /&gt;\\n&lt;path class=&#x27;bond-18 atom-18 atom-19&#x27; d=&#x27;M 68.1563,62.5746 L 68.1749,57.1199&#x27; style=&#x27;fill:none;fill-rule:evenodd;stroke:#000000;stroke-width:2.0px;stroke-linecap:butt;stroke-linejoin:miter;stroke-opacity:1&#x27; /&gt;\\n&lt;path class=&#x27;bond-18 atom-18 atom-19&#x27; d=&#x27;M 69.1409,61.7597 L 69.1539,57.9415&#x27; style=&#x27;fill:none;fill-rule:evenodd;stroke:#000000;stroke-width:2.0px;stroke-linecap:butt;stroke-linejoin:miter;stroke-opacity:1&#x27; /&gt;\\n&lt;path class=&#x27;bond-57 atom-18 atom-58&#x27; d=&#x27;M 68.1563,62.5746 L 63.4228,65.2845&#x27; style=&#x27;fill:none;fill-rule:evenodd;stroke:#000000;stroke-width:2.0px;stroke-linecap:butt;stroke-linejoin:miter;stroke-opacity:1&#x27; /&gt;\\n&lt;path class=&#x27;bond-19 atom-19 atom-20&#x27; d=&#x27;M 68.1749,57.1199 L 72.9095,54.409&#x27; style=&#x27;fill:none;fill-rule:evenodd;stroke:#000000;stroke-width:2.0px;stroke-linecap:butt;stroke-linejoin:miter;stroke-opacity:1&#x27; /&gt;\\n&lt;path class=&#x27;bond-47 atom-19 atom-48&#x27; d=&#x27;M 68.1749,57.1199 L 63.462,54.3762&#x27; style=&#x27;fill:none;fill-rule:evenodd;stroke:#000000;stroke-width:2.0px;stroke-linecap:butt;stroke-linejoin:miter;stroke-opacity:1&#x27; /&gt;\\n&lt;path class=&#x27;bond-20 atom-20 atom-21&#x27; d=&#x27;M 72.9095,54.409 L 77.6223,57.1538&#x27; style=&#x27;fill:none;fill-rule:evenodd;stroke:#000000;stroke-width:2.0px;stroke-linecap:butt;stroke-linejoin:miter;stroke-opacity:1&#x27; /&gt;\\n&lt;path class=&#x27;bond-20 atom-20 atom-21&#x27; d=&#x27;M 73.1223,55.6691 L 76.4213,57.5905&#x27; style=&#x27;fill:none;fill-rule:evenodd;stroke:#000000;stroke-width:2.0px;stroke-linecap:butt;stroke-linejoin:miter;stroke-opacity:1&#x27; /&gt;\\n&lt;path class=&#x27;bond-21 atom-21 atom-22&#x27; d=&#x27;M 77.6223,57.1538 L 82.358,54.4428&#x27; style=&#x27;fill:none;fill-rule:evenodd;stroke:#000000;stroke-width:2.0px;stroke-linecap:butt;stroke-linejoin:miter;stroke-opacity:1&#x27; /&gt;\\n&lt;path class=&#x27;bond-22 atom-22 atom-23&#x27; d=&#x27;M 82.358,54.4428 L 82.3766,48.9892&#x27; style=&#x27;fill:none;fill-rule:evenodd;stroke:#000000;stroke-width:2.0px;stroke-linecap:butt;stroke-linejoin:miter;stroke-opacity:1&#x27; /&gt;\\n&lt;path class=&#x27;bond-22 atom-22 atom-23&#x27; d=&#x27;M 83.3427,53.6281 L 83.3556,49.8106&#x27; style=&#x27;fill:none;fill-rule:evenodd;stroke:#000000;stroke-width:2.0px;stroke-linecap:butt;stroke-linejoin:miter;stroke-opacity:1&#x27; /&gt;\\n&lt;path class=&#x27;bond-80 atom-27 atom-22&#x27; d=&#x27;M 87.0709,57.1887 L 82.358,54.4428&#x27; style=&#x27;fill:none;fill-rule:evenodd;stroke:#000000;stroke-width:2.0px;stroke-linecap:butt;stroke-linejoin:miter;stroke-opacity:1&#x27; /&gt;\\n&lt;path class=&#x27;bond-23 atom-23 atom-24&#x27; d=&#x27;M 82.3766,48.9892 L 87.1101,46.2783&#x27; style=&#x27;fill:none;fill-rule:evenodd;stroke:#000000;stroke-width:2.0px;stroke-linecap:butt;stroke-linejoin:miter;stroke-opacity:1&#x27; /&gt;\\n&lt;path class=&#x27;bond-24 atom-24 atom-25&#x27; d=&#x27;M 87.1101,46.2783 L 91.8241,49.0231&#x27; style=&#x27;fill:none;fill-rule:evenodd;stroke:#000000;stroke-width:2.0px;stroke-linecap:butt;stroke-linejoin:miter;stroke-opacity:1&#x27; /&gt;\\n&lt;path class=&#x27;bond-24 atom-24 atom-25&#x27; d=&#x27;M 87.3232,47.5385 L 90.6229,49.4598&#x27; style=&#x27;fill:none;fill-rule:evenodd;stroke:#000000;stroke-width:2.0px;stroke-linecap:butt;stroke-linejoin:miter;stroke-opacity:1&#x27; /&gt;\\n&lt;path class=&#x27;bond-37 atom-24 atom-38&#x27; d=&#x27;M 87.1101,46.2783 L 87.1298,40.8247&#x27; style=&#x27;fill:none;fill-rule:evenodd;stroke:#000000;stroke-width:2.0px;stroke-linecap:butt;stroke-linejoin:miter;stroke-opacity:1&#x27; /&gt;\\n&lt;path class=&#x27;bond-25 atom-25 atom-26&#x27; d=&#x27;M 91.8241,49.0231 L 91.8055,54.4777&#x27; style=&#x27;fill:none;fill-rule:evenodd;stroke:#000000;stroke-width:2.0px;stroke-linecap:butt;stroke-linejoin:miter;stroke-opacity:1&#x27; /&gt;\\n&lt;path class=&#x27;bond-27 atom-25 atom-28&#x27; d=&#x27;M 91.8241,49.0231 L 96.5576,46.3132&#x27; style=&#x27;fill:none;fill-rule:evenodd;stroke:#000000;stroke-width:2.0px;stroke-linecap:butt;stroke-linejoin:miter;stroke-opacity:1&#x27; /&gt;\\n&lt;path class=&#x27;bond-26 atom-26 atom-27&#x27; d=&#x27;M 91.8055,54.4777 L 87.0709,57.1887&#x27; style=&#x27;fill:none;fill-rule:evenodd;stroke:#000000;stroke-width:2.0px;stroke-linecap:butt;stroke-linejoin:miter;stroke-opacity:1&#x27; /&gt;\\n&lt;path class=&#x27;bond-26 atom-26 atom-27&#x27; d=&#x27;M 90.6074,54.0323 L 87.2932,55.93&#x27; style=&#x27;fill:none;fill-rule:evenodd;stroke:#000000;stroke-width:2.0px;stroke-linecap:butt;stroke-linejoin:miter;stroke-opacity:1&#x27; /&gt;\\n&lt;path class=&#x27;bond-28 atom-28 atom-29&#x27; d=&#x27;M 96.5576,46.3132 L 101.272,49.0569&#x27; style=&#x27;fill:none;fill-rule:evenodd;stroke:#000000;stroke-width:2.0px;stroke-linecap:butt;stroke-linejoin:miter;stroke-opacity:1&#x27; /&gt;\\n&lt;path class=&#x27;bond-29 atom-29 atom-30&#x27; d=&#x27;M 101.272,49.0569 L 106.005,46.347&#x27; style=&#x27;fill:none;fill-rule:evenodd;stroke:#000000;stroke-width:2.0px;stroke-linecap:butt;stroke-linejoin:miter;stroke-opacity:1&#x27; /&gt;\\n&lt;path class=&#x27;bond-30 atom-30 atom-31&#x27; d=&#x27;M 106.005,46.347 L 110.72,49.0907&#x27; style=&#x27;fill:none;fill-rule:evenodd;stroke:#000000;stroke-width:2.0px;stroke-linecap:butt;stroke-linejoin:miter;stroke-opacity:1&#x27; /&gt;\\n&lt;path class=&#x27;bond-31 atom-31 atom-32&#x27; d=&#x27;M 110.72,49.0907 L 115.454,46.3808&#x27; style=&#x27;fill:none;fill-rule:evenodd;stroke:#000000;stroke-width:2.0px;stroke-linecap:butt;stroke-linejoin:miter;stroke-opacity:1&#x27; /&gt;\\n&lt;path class=&#x27;bond-32 atom-32 atom-33&#x27; d=&#x27;M 115.454,46.3808 L 120.168,49.1245&#x27; style=&#x27;fill:none;fill-rule:evenodd;stroke:#000000;stroke-width:2.0px;stroke-linecap:butt;stroke-linejoin:miter;stroke-opacity:1&#x27; /&gt;\\n&lt;path class=&#x27;bond-33 atom-33 atom-34&#x27; d=&#x27;M 120.168,49.1245 L 124.901,46.4146&#x27; style=&#x27;fill:none;fill-rule:evenodd;stroke:#000000;stroke-width:2.0px;stroke-linecap:butt;stroke-linejoin:miter;stroke-opacity:1&#x27; /&gt;\\n&lt;path class=&#x27;bond-34 atom-34 atom-35&#x27; d=&#x27;M 124.901,46.4146 L 129.615,49.1583&#x27; style=&#x27;fill:none;fill-rule:evenodd;stroke:#000000;stroke-width:2.0px;stroke-linecap:butt;stroke-linejoin:miter;stroke-opacity:1&#x27; /&gt;\\n&lt;path class=&#x27;bond-35 atom-35 atom-36&#x27; d=&#x27;M 129.615,49.1583 L 134.349,46.4485&#x27; style=&#x27;fill:none;fill-rule:evenodd;stroke:#000000;stroke-width:2.0px;stroke-linecap:butt;stroke-linejoin:miter;stroke-opacity:1&#x27; /&gt;\\n&lt;path class=&#x27;bond-36 atom-36 atom-37&#x27; d=&#x27;M 134.349,46.4485 L 139.062,49.1921&#x27; style=&#x27;fill:none;fill-rule:evenodd;stroke:#000000;stroke-width:2.0px;stroke-linecap:butt;stroke-linejoin:miter;stroke-opacity:1&#x27; /&gt;\\n&lt;path class=&#x27;bond-38 atom-38 atom-39&#x27; d=&#x27;M 87.1298,40.8247 L 91.8633,38.1137&#x27; style=&#x27;fill:none;fill-rule:evenodd;stroke:#000000;stroke-width:2.0px;stroke-linecap:butt;stroke-linejoin:miter;stroke-opacity:1&#x27; /&gt;\\n&lt;path class=&#x27;bond-39 atom-39 atom-40&#x27; d=&#x27;M 91.8633,38.1137 L 91.883,32.6602&#x27; style=&#x27;fill:none;fill-rule:evenodd;stroke:#000000;stroke-width:2.0px;stroke-linecap:butt;stroke-linejoin:miter;stroke-opacity:1&#x27; /&gt;\\n&lt;path class=&#x27;bond-40 atom-40 atom-41&#x27; d=&#x27;M 91.883,32.6602 L 96.6176,29.9492&#x27; style=&#x27;fill:none;fill-rule:evenodd;stroke:#000000;stroke-width:2.0px;stroke-linecap:butt;stroke-linejoin:miter;stroke-opacity:1&#x27; /&gt;\\n&lt;path class=&#x27;bond-41 atom-41 atom-42&#x27; d=&#x27;M 96.6176,29.9492 L 96.6372,24.4946&#x27; style=&#x27;fill:none;fill-rule:evenodd;stroke:#000000;stroke-width:2.0px;stroke-linecap:butt;stroke-linejoin:miter;stroke-opacity:1&#x27; /&gt;\\n&lt;path class=&#x27;bond-42 atom-42 atom-43&#x27; d=&#x27;M 96.6372,24.4946 L 101.371,21.7847&#x27; style=&#x27;fill:none;fill-rule:evenodd;stroke:#000000;stroke-width:2.0px;stroke-linecap:butt;stroke-linejoin:miter;stroke-opacity:1&#x27; /&gt;\\n&lt;path class=&#x27;bond-43 atom-43 atom-44&#x27; d=&#x27;M 101.371,21.7847 L 101.39,16.33&#x27; style=&#x27;fill:none;fill-rule:evenodd;stroke:#000000;stroke-width:2.0px;stroke-linecap:butt;stroke-linejoin:miter;stroke-opacity:1&#x27; /&gt;\\n&lt;path class=&#x27;bond-44 atom-44 atom-45&#x27; d=&#x27;M 101.39,16.33 L 106.124,13.6202&#x27; style=&#x27;fill:none;fill-rule:evenodd;stroke:#000000;stroke-width:2.0px;stroke-linecap:butt;stroke-linejoin:miter;stroke-opacity:1&#x27; /&gt;\\n&lt;path class=&#x27;bond-45 atom-45 atom-46&#x27; d=&#x27;M 106.124,13.6202 L 106.144,8.16551&#x27; style=&#x27;fill:none;fill-rule:evenodd;stroke:#000000;stroke-width:2.0px;stroke-linecap:butt;stroke-linejoin:miter;stroke-opacity:1&#x27; /&gt;\\n&lt;path class=&#x27;bond-46 atom-46 atom-47&#x27; d=&#x27;M 106.144,8.16551 L 110.877,5.45455&#x27; style=&#x27;fill:none;fill-rule:evenodd;stroke:#000000;stroke-width:2.0px;stroke-linecap:butt;stroke-linejoin:miter;stroke-opacity:1&#x27; /&gt;\\n&lt;path class=&#x27;bond-48 atom-48 atom-49&#x27; d=&#x27;M 63.462,54.3762 L 58.7285,57.0861&#x27; style=&#x27;fill:none;fill-rule:evenodd;stroke:#000000;stroke-width:2.0px;stroke-linecap:butt;stroke-linejoin:miter;stroke-opacity:1&#x27; /&gt;\\n&lt;path class=&#x27;bond-49 atom-49 atom-50&#x27; d=&#x27;M 58.7285,57.0861 L 54.0146,54.3424&#x27; style=&#x27;fill:none;fill-rule:evenodd;stroke:#000000;stroke-width:2.0px;stroke-linecap:butt;stroke-linejoin:miter;stroke-opacity:1&#x27; /&gt;\\n&lt;path class=&#x27;bond-50 atom-50 atom-51&#x27; d=&#x27;M 54.0146,54.3424 L 49.281,57.0523&#x27; style=&#x27;fill:none;fill-rule:evenodd;stroke:#000000;stroke-width:2.0px;stroke-linecap:butt;stroke-linejoin:miter;stroke-opacity:1&#x27; /&gt;\\n&lt;path class=&#x27;bond-51 atom-51 atom-52&#x27; d=&#x27;M 49.281,57.0523 L 44.5671,54.3086&#x27; style=&#x27;fill:none;fill-rule:evenodd;stroke:#000000;stroke-width:2.0px;stroke-linecap:butt;stroke-linejoin:miter;stroke-opacity:1&#x27; /&gt;\\n&lt;path class=&#x27;bond-52 atom-52 atom-53&#x27; d=&#x27;M 44.5671,54.3086 L 39.8325,57.0185&#x27; style=&#x27;fill:none;fill-rule:evenodd;stroke:#000000;stroke-width:2.0px;stroke-linecap:butt;stroke-linejoin:miter;stroke-opacity:1&#x27; /&gt;\\n&lt;path class=&#x27;bond-53 atom-53 atom-54&#x27; d=&#x27;M 39.8325,57.0185 L 35.1186,54.2748&#x27; style=&#x27;fill:none;fill-rule:evenodd;stroke:#000000;stroke-width:2.0px;stroke-linecap:butt;stroke-linejoin:miter;stroke-opacity:1&#x27; /&gt;\\n&lt;path class=&#x27;bond-54 atom-54 atom-55&#x27; d=&#x27;M 35.1186,54.2748 L 30.385,56.9847&#x27; style=&#x27;fill:none;fill-rule:evenodd;stroke:#000000;stroke-width:2.0px;stroke-linecap:butt;stroke-linejoin:miter;stroke-opacity:1&#x27; /&gt;\\n&lt;path class=&#x27;bond-55 atom-55 atom-56&#x27; d=&#x27;M 30.385,56.9847 L 25.6711,54.241&#x27; style=&#x27;fill:none;fill-rule:evenodd;stroke:#000000;stroke-width:2.0px;stroke-linecap:butt;stroke-linejoin:miter;stroke-opacity:1&#x27; /&gt;\\n&lt;path class=&#x27;bond-56 atom-56 atom-57&#x27; d=&#x27;M 25.6711,54.241 L 20.9375,56.9508&#x27; style=&#x27;fill:none;fill-rule:evenodd;stroke:#000000;stroke-width:2.0px;stroke-linecap:butt;stroke-linejoin:miter;stroke-opacity:1&#x27; /&gt;\\n&lt;path class=&#x27;bond-58 atom-58 atom-59&#x27; d=&#x27;M 63.4228,65.2845 L 63.4031,70.7391&#x27; style=&#x27;fill:none;fill-rule:evenodd;stroke:#000000;stroke-width:2.0px;stroke-linecap:butt;stroke-linejoin:miter;stroke-opacity:1&#x27; /&gt;\\n&lt;path class=&#x27;bond-59 atom-59 atom-60&#x27; d=&#x27;M 63.4031,70.7391 L 58.6696,73.4501&#x27; style=&#x27;fill:none;fill-rule:evenodd;stroke:#000000;stroke-width:2.0px;stroke-linecap:butt;stroke-linejoin:miter;stroke-opacity:1&#x27; /&gt;\\n&lt;path class=&#x27;bond-60 atom-60 atom-61&#x27; d=&#x27;M 58.6696,73.4501 L 58.6488,78.9047&#x27; style=&#x27;fill:none;fill-rule:evenodd;stroke:#000000;stroke-width:2.0px;stroke-linecap:butt;stroke-linejoin:miter;stroke-opacity:1&#x27; /&gt;\\n&lt;path class=&#x27;bond-61 atom-61 atom-62&#x27; d=&#x27;M 58.6488,78.9047 L 53.9153,81.6146&#x27; style=&#x27;fill:none;fill-rule:evenodd;stroke:#000000;stroke-width:2.0px;stroke-linecap:butt;stroke-linejoin:miter;stroke-opacity:1&#x27; /&gt;\\n&lt;path class=&#x27;bond-62 atom-62 atom-63&#x27; d=&#x27;M 53.9153,81.6146 L 53.8957,87.0693&#x27; style=&#x27;fill:none;fill-rule:evenodd;stroke:#000000;stroke-width:2.0px;stroke-linecap:butt;stroke-linejoin:miter;stroke-opacity:1&#x27; /&gt;\\n&lt;path class=&#x27;bond-63 atom-63 atom-64&#x27; d=&#x27;M 53.8957,87.0693 L 49.1621,89.7791&#x27; style=&#x27;fill:none;fill-rule:evenodd;stroke:#000000;stroke-width:2.0px;stroke-linecap:butt;stroke-linejoin:miter;stroke-opacity:1&#x27; /&gt;\\n&lt;path class=&#x27;bond-64 atom-64 atom-65&#x27; d=&#x27;M 49.1621,89.7791 L 49.1425,95.2338&#x27; style=&#x27;fill:none;fill-rule:evenodd;stroke:#000000;stroke-width:2.0px;stroke-linecap:butt;stroke-linejoin:miter;stroke-opacity:1&#x27; /&gt;\\n&lt;path class=&#x27;bond-65 atom-65 atom-66&#x27; d=&#x27;M 49.1425,95.2338 L 44.4089,97.9448&#x27; style=&#x27;fill:none;fill-rule:evenodd;stroke:#000000;stroke-width:2.0px;stroke-linecap:butt;stroke-linejoin:miter;stroke-opacity:1&#x27; /&gt;\\n&lt;path class=&#x27;bond-66 atom-66 atom-67&#x27; d=&#x27;M 44.4089,97.9448 L 44.3893,103.398&#x27; style=&#x27;fill:none;fill-rule:evenodd;stroke:#000000;stroke-width:2.0px;stroke-linecap:butt;stroke-linejoin:miter;stroke-opacity:1&#x27; /&gt;\\n&lt;path class=&#x27;bond-68 atom-68 atom-69&#x27; d=&#x27;M 96.4594,73.5854 L 101.193,70.8755&#x27; style=&#x27;fill:none;fill-rule:evenodd;stroke:#000000;stroke-width:2.0px;stroke-linecap:butt;stroke-linejoin:miter;stroke-opacity:1&#x27; /&gt;\\n&lt;path class=&#x27;bond-69 atom-69 atom-70&#x27; d=&#x27;M 101.193,70.8755 L 105.907,73.6192&#x27; style=&#x27;fill:none;fill-rule:evenodd;stroke:#000000;stroke-width:2.0px;stroke-linecap:butt;stroke-linejoin:miter;stroke-opacity:1&#x27; /&gt;\\n&lt;path class=&#x27;bond-70 atom-70 atom-71&#x27; d=&#x27;M 105.907,73.6192 L 110.64,70.9093&#x27; style=&#x27;fill:none;fill-rule:evenodd;stroke:#000000;stroke-width:2.0px;stroke-linecap:butt;stroke-linejoin:miter;stroke-opacity:1&#x27; /&gt;\\n&lt;path class=&#x27;bond-71 atom-71 atom-72&#x27; d=&#x27;M 110.64,70.9093 L 115.354,73.653&#x27; style=&#x27;fill:none;fill-rule:evenodd;stroke:#000000;stroke-width:2.0px;stroke-linecap:butt;stroke-linejoin:miter;stroke-opacity:1&#x27; /&gt;\\n&lt;path class=&#x27;bond-72 atom-72 atom-73&#x27; d=&#x27;M 115.354,73.653 L 120.088,70.9431&#x27; style=&#x27;fill:none;fill-rule:evenodd;stroke:#000000;stroke-width:2.0px;stroke-linecap:butt;stroke-linejoin:miter;stroke-opacity:1&#x27; /&gt;\\n&lt;path class=&#x27;bond-73 atom-73 atom-74&#x27; d=&#x27;M 120.088,70.9431 L 124.802,73.6868&#x27; style=&#x27;fill:none;fill-rule:evenodd;stroke:#000000;stroke-width:2.0px;stroke-linecap:butt;stroke-linejoin:miter;stroke-opacity:1&#x27; /&gt;\\n&lt;path class=&#x27;bond-74 atom-74 atom-75&#x27; d=&#x27;M 124.802,73.6868 L 129.536,70.9769&#x27; style=&#x27;fill:none;fill-rule:evenodd;stroke:#000000;stroke-width:2.0px;stroke-linecap:butt;stroke-linejoin:miter;stroke-opacity:1&#x27; /&gt;\\n&lt;path class=&#x27;bond-75 atom-75 atom-76&#x27; d=&#x27;M 129.536,70.9769 L 134.25,73.7206&#x27; style=&#x27;fill:none;fill-rule:evenodd;stroke:#000000;stroke-width:2.0px;stroke-linecap:butt;stroke-linejoin:miter;stroke-opacity:1&#x27; /&gt;\\n&lt;path class=&#x27;bond-76 atom-76 atom-77&#x27; d=&#x27;M 134.25,73.7206 L 138.984,71.0108&#x27; style=&#x27;fill:none;fill-rule:evenodd;stroke:#000000;stroke-width:2.0px;stroke-linecap:butt;stroke-linejoin:miter;stroke-opacity:1&#x27; /&gt;\\n&lt;/svg&gt;\\n&quot;, &quot;data-smile&quot;: &quot;CCCCCCCCCCC1=C(C=C3C(=C1)C2=CC(=C(C=C2C4=CC(=C(C=C34)CCCCCCCCCC)CCCCCCCCCC)CCCCCCCCCC)CCCCCCCCCC)CCCCCCCCCC&quot;, &quot;mols2grid-id&quot;: 13}, {&quot;data-sigma_orig&quot;: 12, &quot;data-img&quot;: &quot;&lt;?xml version=&#x27;1.0&#x27; encoding=&#x27;iso-8859-1&#x27;?&gt;\\n&lt;svg version=&#x27;1.1&#x27; baseProfile=&#x27;full&#x27;\\n              xmlns=&#x27;http://www.w3.org/2000/svg&#x27;\\n                      xmlns:rdkit=&#x27;http://www.rdkit.org/xml&#x27;\\n                      xmlns:xlink=&#x27;http://www.w3.org/1999/xlink&#x27;\\n                  xml:space=&#x27;preserve&#x27;\\nwidth=&#x27;160px&#x27; height=&#x27;120px&#x27; viewBox=&#x27;0 0 160 120&#x27;&gt;\\n&lt;!-- END OF HEADER --&gt;\\n&lt;rect style=&#x27;opacity:1.0;fill:#FFFFFF;stroke:none&#x27; width=&#x27;160&#x27; height=&#x27;120&#x27; x=&#x27;0&#x27; y=&#x27;0&#x27;&gt; &lt;/rect&gt;\\n&lt;path class=&#x27;bond-0 atom-0 atom-1&#x27; d=&#x27;M 66.7108,64.8186 L 80.0214,87.9585&#x27; style=&#x27;fill:none;fill-rule:evenodd;stroke:#000000;stroke-width:2.0px;stroke-linecap:butt;stroke-linejoin:miter;stroke-opacity:1&#x27; /&gt;\\n&lt;path class=&#x27;bond-10 atom-0 atom-11&#x27; d=&#x27;M 66.7108,64.8186 L 71.9256,55.8201&#x27; style=&#x27;fill:none;fill-rule:evenodd;stroke:#000000;stroke-width:2.0px;stroke-linecap:butt;stroke-linejoin:miter;stroke-opacity:1&#x27; /&gt;\\n&lt;path class=&#x27;bond-10 atom-0 atom-11&#x27; d=&#x27;M 71.9256,55.8201 L 77.1404,46.8216&#x27; style=&#x27;fill:none;fill-rule:evenodd;stroke:#FF0000;stroke-width:2.0px;stroke-linecap:butt;stroke-linejoin:miter;stroke-opacity:1&#x27; /&gt;\\n&lt;path class=&#x27;bond-1 atom-1 atom-2&#x27; d=&#x27;M 80.0214,87.9585 L 93.4066,64.8613&#x27; style=&#x27;fill:none;fill-rule:evenodd;stroke:#000000;stroke-width:2.0px;stroke-linecap:butt;stroke-linejoin:miter;stroke-opacity:1&#x27; /&gt;\\n&lt;path class=&#x27;bond-4 atom-1 atom-5&#x27; d=&#x27;M 80.0214,87.9585 L 56.8815,101.269&#x27; style=&#x27;fill:none;fill-rule:evenodd;stroke:#000000;stroke-width:2.0px;stroke-linecap:butt;stroke-linejoin:miter;stroke-opacity:1&#x27; /&gt;\\n&lt;path class=&#x27;bond-7 atom-1 atom-8&#x27; d=&#x27;M 80.0214,87.9585 L 103.119,101.344&#x27; style=&#x27;fill:none;fill-rule:evenodd;stroke:#000000;stroke-width:2.0px;stroke-linecap:butt;stroke-linejoin:miter;stroke-opacity:1&#x27; /&gt;\\n&lt;path class=&#x27;bond-2 atom-2 atom-3&#x27; d=&#x27;M 93.4066,64.8613 L 104.469,64.879&#x27; style=&#x27;fill:none;fill-rule:evenodd;stroke:#000000;stroke-width:2.0px;stroke-linecap:butt;stroke-linejoin:miter;stroke-opacity:1&#x27; /&gt;\\n&lt;path class=&#x27;bond-2 atom-2 atom-3&#x27; d=&#x27;M 104.469,64.879 L 115.531,64.8967&#x27; style=&#x27;fill:none;fill-rule:evenodd;stroke:#FF0000;stroke-width:2.0px;stroke-linecap:butt;stroke-linejoin:miter;stroke-opacity:1&#x27; /&gt;\\n&lt;path class=&#x27;bond-3 atom-3 atom-4&#x27; d=&#x27;M 122.981,59.9359 L 126.851,53.2596&#x27; style=&#x27;fill:none;fill-rule:evenodd;stroke:#FF0000;stroke-width:2.0px;stroke-linecap:butt;stroke-linejoin:miter;stroke-opacity:1&#x27; /&gt;\\n&lt;path class=&#x27;bond-3 atom-3 atom-4&#x27; d=&#x27;M 126.851,53.2596 L 130.72,46.5833&#x27; style=&#x27;fill:none;fill-rule:evenodd;stroke:#33CCCC;stroke-width:2.0px;stroke-linecap:butt;stroke-linejoin:miter;stroke-opacity:1&#x27; /&gt;\\n&lt;path class=&#x27;bond-5 atom-5 atom-6&#x27; d=&#x27;M 56.8815,101.269 L 47.6187,95.901&#x27; style=&#x27;fill:none;fill-rule:evenodd;stroke:#000000;stroke-width:2.0px;stroke-linecap:butt;stroke-linejoin:miter;stroke-opacity:1&#x27; /&gt;\\n&lt;path class=&#x27;bond-5 atom-5 atom-6&#x27; d=&#x27;M 47.6187,95.901 L 38.3559,90.5331&#x27; style=&#x27;fill:none;fill-rule:evenodd;stroke:#FF0000;stroke-width:2.0px;stroke-linecap:butt;stroke-linejoin:miter;stroke-opacity:1&#x27; /&gt;\\n&lt;path class=&#x27;bond-6 atom-6 atom-7&#x27; d=&#x27;M 29.2127,90.5134 L 21.4607,94.9725&#x27; style=&#x27;fill:none;fill-rule:evenodd;stroke:#FF0000;stroke-width:2.0px;stroke-linecap:butt;stroke-linejoin:miter;stroke-opacity:1&#x27; /&gt;\\n&lt;path class=&#x27;bond-6 atom-6 atom-7&#x27; d=&#x27;M 21.4607,94.9725 L 13.7087,99.4316&#x27; style=&#x27;fill:none;fill-rule:evenodd;stroke:#33CCCC;stroke-width:2.0px;stroke-linecap:butt;stroke-linejoin:miter;stroke-opacity:1&#x27; /&gt;\\n&lt;path class=&#x27;bond-8 atom-8 atom-9&#x27; d=&#x27;M 103.119,101.344 L 112.403,96.0033&#x27; style=&#x27;fill:none;fill-rule:evenodd;stroke:#000000;stroke-width:2.0px;stroke-linecap:butt;stroke-linejoin:miter;stroke-opacity:1&#x27; /&gt;\\n&lt;path class=&#x27;bond-8 atom-8 atom-9&#x27; d=&#x27;M 112.403,96.0033 L 121.687,90.6629&#x27; style=&#x27;fill:none;fill-rule:evenodd;stroke:#FF0000;stroke-width:2.0px;stroke-linecap:butt;stroke-linejoin:miter;stroke-opacity:1&#x27; /&gt;\\n&lt;path class=&#x27;bond-9 atom-9 atom-10&#x27; d=&#x27;M 130.83,90.6826 L 138.561,95.1627&#x27; style=&#x27;fill:none;fill-rule:evenodd;stroke:#FF0000;stroke-width:2.0px;stroke-linecap:butt;stroke-linejoin:miter;stroke-opacity:1&#x27; /&gt;\\n&lt;path class=&#x27;bond-9 atom-9 atom-10&#x27; d=&#x27;M 138.561,95.1627 L 146.292,99.6428&#x27; style=&#x27;fill:none;fill-rule:evenodd;stroke:#33CCCC;stroke-width:2.0px;stroke-linecap:butt;stroke-linejoin:miter;stroke-opacity:1&#x27; /&gt;\\n&lt;path class=&#x27;bond-11 atom-11 atom-12&#x27; d=&#x27;M 77.2384,36.7533 L 73.3858,30.0558&#x27; style=&#x27;fill:none;fill-rule:evenodd;stroke:#FF0000;stroke-width:2.0px;stroke-linecap:butt;stroke-linejoin:miter;stroke-opacity:1&#x27; /&gt;\\n&lt;path class=&#x27;bond-11 atom-11 atom-12&#x27; d=&#x27;M 73.3858,30.0558 L 69.5333,23.3582&#x27; style=&#x27;fill:none;fill-rule:evenodd;stroke:#33CCCC;stroke-width:2.0px;stroke-linecap:butt;stroke-linejoin:miter;stroke-opacity:1&#x27; /&gt;\\n&lt;path  class=&#x27;atom-3&#x27; d=&#x27;M 116.198 64.928\\nQ 116.198 62.8858, 117.207 61.7446\\nQ 118.216 60.6033, 120.102 60.6033\\nQ 121.988 60.6033, 122.998 61.7446\\nQ 124.007 62.8858, 124.007 64.928\\nQ 124.007 66.9943, 122.986 68.1716\\nQ 121.964 69.3368, 120.102 69.3368\\nQ 118.228 69.3368, 117.207 68.1716\\nQ 116.198 67.0063, 116.198 64.928\\nM 120.102 68.3758\\nQ 121.4 68.3758, 122.097 67.5109\\nQ 122.805 66.6339, 122.805 64.928\\nQ 122.805 63.2582, 122.097 62.4173\\nQ 121.4 61.5644, 120.102 61.5644\\nQ 118.805 61.5644, 118.096 62.4053\\nQ 117.399 63.2462, 117.399 64.928\\nQ 117.399 66.6459, 118.096 67.5109\\nQ 118.805 68.3758, 120.102 68.3758\\n&#x27; fill=&#x27;#FF0000&#x27;/&gt;\\n&lt;path  class=&#x27;atom-4&#x27; d=&#x27;M 130.959 37.5542\\nL 136.016 37.5542\\nL 136.016 38.5273\\nL 132.1 38.5273\\nL 132.1 41.1101\\nL 135.584 41.1101\\nL 135.584 42.0952\\nL 132.1 42.0952\\nL 132.1 46.0595\\nL 130.959 46.0595\\nL 130.959 37.5542\\n&#x27; fill=&#x27;#33CCCC&#x27;/&gt;\\n&lt;path  class=&#x27;atom-6&#x27; d=&#x27;M 29.88 87.9078\\nQ 29.88 85.8655, 30.8891 84.7243\\nQ 31.8982 83.583, 33.7843 83.583\\nQ 35.6703 83.583, 36.6794 84.7243\\nQ 37.6885 85.8655, 37.6885 87.9078\\nQ 37.6885 89.974, 36.6674 91.1513\\nQ 35.6463 92.3166, 33.7843 92.3166\\nQ 31.9102 92.3166, 30.8891 91.1513\\nQ 29.88 89.986, 29.88 87.9078\\nM 33.7843 91.3555\\nQ 35.0817 91.3555, 35.7785 90.4906\\nQ 36.4872 89.6136, 36.4872 87.9078\\nQ 36.4872 86.2379, 35.7785 85.397\\nQ 35.0817 84.5441, 33.7843 84.5441\\nQ 32.4869 84.5441, 31.7781 85.385\\nQ 31.0813 86.2259, 31.0813 87.9078\\nQ 31.0813 89.6256, 31.7781 90.4906\\nQ 32.4869 91.3555, 33.7843 91.3555\\n&#x27; fill=&#x27;#FF0000&#x27;/&gt;\\n&lt;path  class=&#x27;atom-7&#x27; d=&#x27;M 8.11565 96.9416\\nL 13.1732 96.9416\\nL 13.1732 97.9147\\nL 9.25689 97.9147\\nL 9.25689 100.497\\nL 12.7407 100.497\\nL 12.7407 101.483\\nL 9.25689 101.483\\nL 9.25689 105.447\\nL 8.11565 105.447\\nL 8.11565 96.9416\\n&#x27; fill=&#x27;#33CCCC&#x27;/&gt;\\n&lt;path  class=&#x27;atom-9&#x27; d=&#x27;M 122.354 88.0572\\nQ 122.354 86.015, 123.363 84.8738\\nQ 124.372 83.7325, 126.258 83.7325\\nQ 128.144 83.7325, 129.154 84.8738\\nQ 130.163 86.015, 130.163 88.0572\\nQ 130.163 90.1235, 129.142 91.3008\\nQ 128.12 92.4661, 126.258 92.4661\\nQ 124.384 92.4661, 123.363 91.3008\\nQ 122.354 90.1355, 122.354 88.0572\\nM 126.258 91.505\\nQ 127.556 91.505, 128.253 90.6401\\nQ 128.961 89.7631, 128.961 88.0572\\nQ 128.961 86.3874, 128.253 85.5465\\nQ 127.556 84.6936, 126.258 84.6936\\nQ 124.961 84.6936, 124.252 85.5345\\nQ 123.555 86.3754, 123.555 88.0572\\nQ 123.555 89.7751, 124.252 90.6401\\nQ 124.961 91.505, 126.258 91.505\\n&#x27; fill=&#x27;#FF0000&#x27;/&gt;\\n&lt;path  class=&#x27;atom-10&#x27; d=&#x27;M 146.827 97.1658\\nL 151.884 97.1658\\nL 151.884 98.1389\\nL 147.968 98.1389\\nL 147.968 100.722\\nL 151.452 100.722\\nL 151.452 101.707\\nL 147.968 101.707\\nL 147.968 105.671\\nL 146.827 105.671\\nL 146.827 97.1658\\n&#x27; fill=&#x27;#33CCCC&#x27;/&gt;\\n&lt;path  class=&#x27;atom-11&#x27; d=&#x27;M 76.1918 41.7454\\nQ 76.1918 39.7032, 77.2009 38.562\\nQ 78.21 37.4207, 80.0961 37.4207\\nQ 81.9822 37.4207, 82.9913 38.562\\nQ 84.0004 39.7032, 84.0004 41.7454\\nQ 84.0004 43.8117, 82.9792 44.989\\nQ 81.9581 46.1542, 80.0961 46.1542\\nQ 78.2221 46.1542, 77.2009 44.989\\nQ 76.1918 43.8237, 76.1918 41.7454\\nM 80.0961 45.1932\\nQ 81.3935 45.1932, 82.0903 44.3283\\nQ 82.7991 43.4513, 82.7991 41.7454\\nQ 82.7991 40.0756, 82.0903 39.2347\\nQ 81.3935 38.3818, 80.0961 38.3818\\nQ 78.7987 38.3818, 78.0899 39.2227\\nQ 77.3932 40.0636, 77.3932 41.7454\\nQ 77.3932 43.4633, 78.0899 44.3283\\nQ 78.7987 45.1932, 80.0961 45.1932\\n&#x27; fill=&#x27;#FF0000&#x27;/&gt;\\n&lt;path  class=&#x27;atom-12&#x27; d=&#x27;M 64.2568 14.3289\\nL 69.3144 14.3289\\nL 69.3144 15.3019\\nL 65.3981 15.3019\\nL 65.3981 17.8848\\nL 68.8819 17.8848\\nL 68.8819 18.8698\\nL 65.3981 18.8698\\nL 65.3981 22.8342\\nL 64.2568 22.8342\\nL 64.2568 14.3289\\n&#x27; fill=&#x27;#33CCCC&#x27;/&gt;\\n&lt;/svg&gt;\\n&quot;, &quot;data-smile&quot;: &quot;C(C(COF)(COF)COF)OF&quot;, &quot;mols2grid-id&quot;: 14}]);\n",
       "// filter\n",
       "if (window.parent.mols2grid_lists === undefined) {\n",
       "    window.parent.mols2grid_lists = {};\n",
       "}\n",
       "window.parent.mols2grid_lists[&quot;default&quot;] = listObj;\n",
       "\n",
       "// selection\n",
       "class MolStorage extends Map {\n",
       "    to_dict() {\n",
       "        var content = &quot;{&quot;;\n",
       "        for (let [key, value] of this) {\n",
       "            content += key + &quot;:&quot; + JSON.stringify(value) + &quot;,&quot;;\n",
       "        }\n",
       "        content = content.length &gt; 1 ? content.slice(0, -1) : content;\n",
       "        content += &quot;}&quot;;\n",
       "        return content\n",
       "    }\n",
       "    download_smi(fileName) {\n",
       "        var content = &quot;SMILES index\\n&quot;;\n",
       "        for (let [key, value] of this) {\n",
       "            content += value + &quot; &quot; + key + &quot;\\n&quot;;\n",
       "        }\n",
       "        var a = document.createElement(&quot;a&quot;);\n",
       "        var file = new Blob([content], {type: &quot;text/plain&quot;});\n",
       "        a.href = URL.createObjectURL(file);\n",
       "        a.download = fileName;\n",
       "        a.click();\n",
       "    }\n",
       "}\n",
       "var SELECTION = new MolStorage();\n",
       "var kernel_env = null;\n",
       "if (window.parent.IPython !== undefined) {\n",
       "    // Jupyter notebook\n",
       "    kernel_env = &quot;jupyter&quot;;\n",
       "    var kernel = window.parent.IPython.notebook.kernel;\n",
       "    kernel.execute(&#x27;from mols2grid.select import register as _m2g_reg&#x27;)\n",
       "    function add_selection(grid_id, _id, smiles) {\n",
       "        SELECTION.set(_id, smiles);\n",
       "        kernel.execute(&quot;_m2g_reg.add_selection(&#x27;&quot;+grid_id+&quot;&#x27;, &quot;+_id+&quot;,&#x27;&quot;+smiles+&quot;&#x27;)&quot;);\n",
       "    }\n",
       "    function del_selection(grid_id, _id) {\n",
       "        SELECTION.delete(_id);\n",
       "        kernel.execute(&quot;_m2g_reg.del_selection(&#x27;&quot;+grid_id+&quot;&#x27;, &quot;+_id+&quot;)&quot;);\n",
       "    }\n",
       "} else if (window.parent.google !== undefined) {\n",
       "    // Google colab\n",
       "    kernel_env = &quot;colab&quot;;\n",
       "    var kernel = window.parent.google.colab.kernel;\n",
       "    function add_selection(grid_id, _id, smiles) {\n",
       "        SELECTION.set(_id, smiles);\n",
       "        (async function() {\n",
       "        const result = await kernel.invokeFunction(&#x27;_m2g_reg.add_selection&#x27;,\n",
       "                                                   [grid_id, _id, smiles], {});\n",
       "        })();\n",
       "    }\n",
       "    function del_selection(grid_id, _id) {\n",
       "        SELECTION.delete(_id);\n",
       "        (async function() {\n",
       "        const result = await kernel.invokeFunction(&#x27;_m2g_reg.del_selection&#x27;,\n",
       "                                                   [grid_id, _id], {});\n",
       "        })();\n",
       "    }\n",
       "} else {\n",
       "    function add_selection(grid_id, _id, smiles) {\n",
       "        SELECTION.set(_id, smiles);\n",
       "    }\n",
       "    function del_selection(grid_id, _id) {\n",
       "        SELECTION.delete(_id);\n",
       "    }\n",
       "}\n",
       "\n",
       "// sort\n",
       "var sort_field = &quot;mols2grid-id&quot;;\n",
       "var sort_order = &quot;asc&quot;;\n",
       "function mols2gridSortFunction(itemA, itemB, options) {\n",
       "    var x = itemA.values()[options.valueName];\n",
       "    var y = itemB.values()[options.valueName];\n",
       "    if (typeof x === &quot;number&quot;) {\n",
       "        if (isFinite(x - y)) {\n",
       "            return x - y; \n",
       "        } else {\n",
       "            return isFinite(x) ? -1 : 1;\n",
       "        }\n",
       "    } else {\n",
       "        x = x.toLowerCase();\n",
       "        y = y.toLowerCase();\n",
       "        return (x &lt; y) ? -1: (x &gt; y) ? 1: 0;\n",
       "    }\n",
       "}\n",
       "function checkboxSort(itemA, itemB, options) {\n",
       "    if (itemA.elm !== undefined) {\n",
       "        var checkedA = itemA.elm.firstChild.checked;\n",
       "        if (itemB.elm !== undefined) {\n",
       "            var checkedB = itemB.elm.firstChild.checked;\n",
       "            if (checkedA &amp;&amp; !checkedB) {\n",
       "                return -1;\n",
       "            } else if (!checkedA &amp;&amp; checkedB) {\n",
       "                return 1;\n",
       "            } else {\n",
       "                return 0;\n",
       "            }\n",
       "        } else {\n",
       "            return -1;\n",
       "        }\n",
       "    } else if (itemB.elm !== undefined) {\n",
       "        return 1;\n",
       "    } else {\n",
       "        return 0;\n",
       "    }\n",
       "}\n",
       "$(&#x27;#mols2grid button.sort-btn&#x27;).click(function(e) {\n",
       "    var _field = $(this).attr(&quot;data-name&quot;);\n",
       "    if (_field == sort_field) {\n",
       "        $(this).removeClass(&quot;arrow-&quot; + sort_order)\n",
       "        sort_order = (sort_order === &quot;desc&quot;) ? &quot;asc&quot; : &quot;desc&quot;;\n",
       "    } else {\n",
       "        $(&#x27;#mols2grid button.sort-btn.active&#x27;).removeClass(&quot;active arrow-&quot; + sort_order);\n",
       "        sort_order = &quot;asc&quot;;\n",
       "        sort_field = _field;\n",
       "        $(this).addClass(&quot;active&quot;);\n",
       "    }\n",
       "    $(this).addClass(&quot;arrow-&quot; + sort_order)\n",
       "    if (sort_field == &quot;checkbox&quot;) {\n",
       "        listObj.sort(&quot;mols2grid-id&quot;, {order: sort_order, sortFunction: checkboxSort});\n",
       "    } else {\n",
       "        listObj.sort(_field, {order: sort_order, sortFunction: mols2gridSortFunction});\n",
       "    }\n",
       "});\n",
       "// search bar\n",
       "function SmartsSearch(query, columns) {\n",
       "    query = $(&#x27;#mols2grid #searchbar&#x27;).val();\n",
       "    var smiles = columns[0];\n",
       "    var qmol = RDKitModule.get_qmol(query);\n",
       "    if (qmol.is_valid()) {\n",
       "        for (var k = 0, kl = listObj.items.length; k &lt; kl; k++) {\n",
       "            var item = listObj.items[k];\n",
       "            var mol = RDKitModule.get_mol(item.values()[smiles]);\n",
       "            var results = JSON.parse(mol.get_substruct_match(qmol));\n",
       "            if (results.atoms) {\n",
       "                item.found = true;\n",
       "            } else {\n",
       "                item.found = false;\n",
       "            }\n",
       "            mol.delete();\n",
       "        }\n",
       "    }\n",
       "    qmol.delete();\n",
       "}\n",
       "var search_type = &quot;Text&quot;;\n",
       "$(&#x27;#mols2grid .search-btn&#x27;).click(function() {\n",
       "    search_type = $(this).text();\n",
       "    $(&#x27;#mols2grid button.search-btn.active&#x27;).removeClass(&quot;active&quot;);\n",
       "    $(this).addClass(&quot;active&quot;);\n",
       "});\n",
       "$(&#x27;#mols2grid #searchbar&#x27;).on(&quot;keyup&quot;, function(e) {\n",
       "    var query = e.target.value;\n",
       "    if (search_type === &quot;Text&quot;) {\n",
       "        listObj.search(query, [&#x27;data-sigma_orig&#x27;]);\n",
       "    } else {\n",
       "        listObj.search(query, [&quot;data-smile&quot;], SmartsSearch);\n",
       "    }\n",
       "});\n",
       "\n",
       "\n",
       "\n",
       "// selection modifyers and export options\n",
       "// add selection buttons\n",
       "$(&quot;#sort-dropdown&quot;).before(`&lt;div id=&quot;chkbox-dropdown&quot; class=&quot;dropdown&quot;&gt;\n",
       "    &lt;button class=&quot;btn btn-light dropdown-toggle&quot; type=&quot;button&quot; id=&quot;chkboxDropdown&quot; data-toggle=&quot;dropdown&quot; aria-haspopup=&quot;true&quot; aria-expanded=&quot;false&quot;&gt;☑&lt;/button&gt;\n",
       "    &lt;div class=&quot;dropdown-menu&quot; aria-labelledby=&quot;checkboxDropdownMenu&quot;&gt;\n",
       "    &lt;button id=&quot;btn-chkbox-all&quot; class=&quot;dropdown-item&quot; type=&quot;button&quot;&gt;Check all&lt;/button&gt;\n",
       "    &lt;button id=&quot;btn-chkbox-none&quot; class=&quot;dropdown-item&quot; type=&quot;button&quot;&gt;Uncheck all&lt;/button&gt;\n",
       "    &lt;button id=&quot;btn-chkbox-invert&quot; class=&quot;dropdown-item&quot; type=&quot;button&quot;&gt;Invert&lt;/button&gt;\n",
       "    &lt;div class=&quot;dropdown-divider&quot;&gt;&lt;/div&gt;\n",
       "    &lt;button id=&quot;btn-chkbox-copy&quot; class=&quot;dropdown-item&quot; type=&quot;button&quot;&gt;Copy to clipboard&lt;/button&gt;\n",
       "    &lt;button id=&quot;btn-chkbox-dlsmi&quot; class=&quot;dropdown-item&quot; type=&quot;button&quot;&gt;Save SMILES&lt;/button&gt;\n",
       "    &lt;/div&gt;\n",
       "&lt;/div&gt;`);\n",
       "// check all\n",
       "$(&#x27;#btn-chkbox-all&#x27;).click(function (e) {\n",
       "    var current_page = parseInt($(&quot;li.page-item.active &gt; a&quot;).text());\n",
       "    var n_items = 15;\n",
       "    var last_page = parseInt($(&quot;li.page-item &gt; a&quot;).last().text());\n",
       "    for (let i = 0; i &lt; last_page; i++) {\n",
       "        listObj.show(i * n_items + 1, n_items);\n",
       "        $(&quot;input:checkbox:not(:checked)&quot;).each(function() {\n",
       "            this.checked = true;\n",
       "            $(this).trigger(&quot;change&quot;);\n",
       "        });\n",
       "    }\n",
       "    listObj.show((current_page - 1) * n_items + 1, n_items);\n",
       "});\n",
       "// uncheck all\n",
       "$(&#x27;#btn-chkbox-none&#x27;).click(function (e) {\n",
       "    var current_page = parseInt($(&quot;li.page-item.active &gt; a&quot;).text());\n",
       "    var n_items = 15;\n",
       "    var last_page = parseInt($(&quot;li.page-item &gt; a&quot;).last().text());\n",
       "    for (let i = 0; i &lt; last_page; i++) {\n",
       "        listObj.show(i * n_items + 1, n_items);\n",
       "        $(&quot;input:checkbox:checked&quot;).each(function() {\n",
       "            this.checked = false;\n",
       "            $(this).trigger(&quot;change&quot;);\n",
       "        });\n",
       "    }\n",
       "    listObj.show((current_page - 1) * n_items + 1, n_items);\n",
       "});\n",
       "// invert\n",
       "$(&#x27;#btn-chkbox-invert&#x27;).click(function (e) {\n",
       "    var current_page = parseInt($(&quot;li.page-item.active &gt; a&quot;).text());\n",
       "    var n_items = 15;\n",
       "    var last_page = parseInt($(&quot;li.page-item &gt; a&quot;).last().text());\n",
       "    for (let i = 0; i &lt; last_page; i++) {\n",
       "        listObj.show(i * n_items + 1, n_items);\n",
       "        $(&quot;input:checkbox&quot;).each(function() {\n",
       "        this.checked = !this.checked;\n",
       "        $(this).trigger(&quot;change&quot;);\n",
       "        });\n",
       "    }\n",
       "    listObj.show((current_page - 1) * n_items + 1, n_items);\n",
       "});\n",
       "// copy to clipboard\n",
       "$(&quot;#btn-chkbox-copy&quot;).click(function(e) {\n",
       "    navigator.clipboard.writeText(SELECTION.to_dict());\n",
       "});\n",
       "// export smiles\n",
       "$(&quot;#btn-chkbox-dlsmi&quot;).click(function(e) {\n",
       "    SELECTION.download_smi(&quot;selection.smi&quot;);\n",
       "});\n",
       "// update selection on checkbox click\n",
       "listObj.on(&quot;updated&quot;, function (list) {\n",
       "    $(&quot;input:checkbox&quot;).change(function() {\n",
       "        var _id = parseInt($(this).closest(&quot;.cell&quot;).attr(&quot;data-mols2grid-id&quot;));\n",
       "        var _smiles = $($(this).siblings(&quot;.data-smile&quot;)[0]).text();\n",
       "        if (this.checked) {\n",
       "            add_selection(&quot;default&quot;, _id, _smiles);\n",
       "        } else {\n",
       "            del_selection(&quot;default&quot;, _id);\n",
       "        }\n",
       "    }); \n",
       "});\n",
       "\n",
       "\n",
       "\n",
       "listObj.update();\n",
       "\n",
       "    &lt;/script&gt;\n",
       "  &lt;/body&gt;\n",
       "&lt;/html&gt;\"></iframe>"
      ],
      "text/plain": [
       "<IPython.core.display.HTML object>"
      ]
     },
     "execution_count": 48,
     "metadata": {},
     "output_type": "execute_result"
    }
   ],
   "source": [
    "sample_df = dhm_df_ok.sort_values(\"sigma_orig\",ascending=False).head(15)\n",
    "mols2grid.display(sample_df,subset=[\"img\",\"sigma_orig\"],smiles_col=\"smile\")"
   ]
  },
  {
   "cell_type": "code",
   "execution_count": 60,
   "id": "0d168efe",
   "metadata": {},
   "outputs": [
    {
     "data": {
      "text/plain": [
       "48"
      ]
     },
     "execution_count": 60,
     "metadata": {},
     "output_type": "execute_result"
    }
   ],
   "source": [
    "test_mol = dhm_df_ok.sort_values(\"sigma_orig\",ascending=False).ROMol.values[0]\n",
    "sigma_calc.calc_sigma_original(test_mol)"
   ]
  },
  {
   "cell_type": "code",
   "execution_count": 34,
   "id": "09ae585c",
   "metadata": {},
   "outputs": [],
   "source": [
    "dhv_df = pd.read_excel(\"dhv at tb-1_11_12.xlsx\")"
   ]
  },
  {
   "cell_type": "code",
   "execution_count": 35,
   "id": "bfa349c8",
   "metadata": {},
   "outputs": [],
   "source": [
    "uru.add_molecule_and_errors(dhv_df,smiles_col=\"smile\")"
   ]
  },
  {
   "cell_type": "code",
   "execution_count": 36,
   "id": "7f932fe8",
   "metadata": {},
   "outputs": [
    {
     "data": {
      "application/vnd.jupyter.widget-view+json": {
       "model_id": "fc27ec05ed82415bb45d6c388275fc3c",
       "version_major": 2,
       "version_minor": 0
      },
      "text/plain": [
       "  0%|          | 0/3106 [00:00<?, ?it/s]"
      ]
     },
     "metadata": {},
     "output_type": "display_data"
    }
   ],
   "source": [
    "dhv_df['mol_3d'] = dhv_df.ROMol.progress_apply(uru.gen_3d)"
   ]
  },
  {
   "cell_type": "code",
   "execution_count": 37,
   "id": "22cf0592",
   "metadata": {},
   "outputs": [],
   "source": [
    "dhv_df['num_atoms'] = dhv_df.ROMol.apply(get_num_atoms)\n",
    "dhv_df_ok = dhv_df.query(\"num_atoms >= 4\").copy()"
   ]
  },
  {
   "cell_type": "code",
   "execution_count": 38,
   "id": "3842a51a",
   "metadata": {},
   "outputs": [],
   "source": [
    "sigma_calc = SigmaCalculator()"
   ]
  },
  {
   "cell_type": "code",
   "execution_count": 39,
   "id": "4dd8757a",
   "metadata": {},
   "outputs": [
    {
     "data": {
      "application/vnd.jupyter.widget-view+json": {
       "model_id": "f8509ab12ce84278972cf38d0574fa15",
       "version_major": 2,
       "version_minor": 0
      },
      "text/plain": [
       "  0%|          | 0/3064 [00:00<?, ?it/s]"
      ]
     },
     "metadata": {},
     "output_type": "display_data"
    }
   ],
   "source": [
    "dhv_df_ok['sigma_orig'] = dhv_df_ok.ROMol.progress_apply(sigma_calc.calc_sigma_original)"
   ]
  },
  {
   "cell_type": "code",
   "execution_count": 40,
   "id": "4ce85039",
   "metadata": {},
   "outputs": [
    {
     "data": {
      "application/vnd.jupyter.widget-view+json": {
       "model_id": "455d141e0b26469f88f73aeee6883241",
       "version_major": 2,
       "version_minor": 0
      },
      "text/plain": [
       "  0%|          | 0/3064 [00:00<?, ?it/s]"
      ]
     },
     "metadata": {},
     "output_type": "display_data"
    }
   ],
   "source": [
    "dhv_df_ok['sigma_new'] = dhv_df_ok.ROMol.progress_apply(sigma_calc.calc_sigma_new)"
   ]
  },
  {
   "cell_type": "code",
   "execution_count": null,
   "id": "8e6bd10f",
   "metadata": {},
   "outputs": [],
   "source": []
  }
 ],
 "metadata": {
  "kernelspec": {
   "display_name": "Python 3 (ipykernel)",
   "language": "python",
   "name": "python3"
  },
  "language_info": {
   "codemirror_mode": {
    "name": "ipython",
    "version": 3
   },
   "file_extension": ".py",
   "mimetype": "text/x-python",
   "name": "python",
   "nbconvert_exporter": "python",
   "pygments_lexer": "ipython3",
   "version": "3.9.6"
  }
 },
 "nbformat": 4,
 "nbformat_minor": 5
}
