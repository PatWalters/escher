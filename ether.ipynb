{
 "cells": [
  {
   "cell_type": "code",
   "execution_count": 1,
   "id": "23664913",
   "metadata": {},
   "outputs": [],
   "source": [
    "from rdkit import Chem\n",
    "from sigma import SigmaCalculator"
   ]
  },
  {
   "cell_type": "code",
   "execution_count": 2,
   "id": "de8af20d",
   "metadata": {},
   "outputs": [],
   "source": [
    "calc = SigmaCalculator()"
   ]
  },
  {
   "cell_type": "code",
   "execution_count": 3,
   "id": "7132be91",
   "metadata": {},
   "outputs": [],
   "source": [
    "mol = Chem.MolFromSmiles(\"c1ccccc1Oc1ccccc1\")"
   ]
  },
  {
   "cell_type": "code",
   "execution_count": 4,
   "id": "0c7f7804",
   "metadata": {},
   "outputs": [
    {
     "data": {
      "image/png": "[encoded data removed]",
      "text/plain": [
       "<rdkit.Chem.rdchem.Mol at 0x15c82e5e0>"
      ]
     },
     "execution_count": 4,
     "metadata": {},
     "output_type": "execute_result"
    }
   ],
   "source": [
    "mol"
   ]
  },
  {
   "cell_type": "code",
   "execution_count": 5,
   "id": "cd761324",
   "metadata": {},
   "outputs": [
    {
     "data": {
      "text/plain": [
       "True"
      ]
     },
     "execution_count": 5,
     "metadata": {},
     "output_type": "execute_result"
    }
   ],
   "source": [
    "calc.has_ether(mol)"
   ]
  },
  {
   "cell_type": "code",
   "execution_count": 6,
   "id": "a5a00e0e",
   "metadata": {},
   "outputs": [],
   "source": [
    "m1 = Chem.MolFromSmiles(\"c1ccccc1\")"
   ]
  },
  {
   "cell_type": "code",
   "execution_count": 7,
   "id": "af7f4b4a",
   "metadata": {},
   "outputs": [
    {
     "data": {
      "image/png": "[encoded data removed]",
      "text/plain": [
       "<rdkit.Chem.rdchem.Mol at 0x15c82e580>"
      ]
     },
     "execution_count": 7,
     "metadata": {},
     "output_type": "execute_result"
    }
   ],
   "source": [
    "m1"
   ]
  },
  {
   "cell_type": "code",
   "execution_count": 8,
   "id": "03a9866d",
   "metadata": {},
   "outputs": [
    {
     "data": {
      "text/plain": [
       "False"
      ]
     },
     "execution_count": 8,
     "metadata": {},
     "output_type": "execute_result"
    }
   ],
   "source": [
    "calc.has_ether(m1)"
   ]
  },
  {
   "cell_type": "code",
   "execution_count": null,
   "id": "239e67dc",
   "metadata": {},
   "outputs": [],
   "source": []
  }
 ],
 "metadata": {
  "kernelspec": {
   "display_name": "Python 3 (ipykernel)",
   "language": "python",
   "name": "python3"
  },
  "language_info": {
   "codemirror_mode": {
    "name": "ipython",
    "version": 3
   },
   "file_extension": ".py",
   "mimetype": "text/x-python",
   "name": "python",
   "nbconvert_exporter": "python",
   "pygments_lexer": "ipython3",
   "version": "3.9.6"
  }
 },
 "nbformat": 4,
 "nbformat_minor": 5
}
