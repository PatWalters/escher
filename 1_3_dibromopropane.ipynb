{
 "cells": [
  {
   "cell_type": "code",
   "execution_count": 1,
   "id": "e3cc77ab",
   "metadata": {},
   "outputs": [],
   "source": [
    "from rdkit import Chem\n",
    "from sigma import num_contiguous_rotatable_bonds"
   ]
  },
  {
   "cell_type": "code",
   "execution_count": 2,
   "id": "4a9b7ffd",
   "metadata": {},
   "outputs": [],
   "source": [
    "mol_1_3_dibromopropane = Chem.MolFromSmiles(\"BrCCCBr\")"
   ]
  },
  {
   "cell_type": "code",
   "execution_count": 3,
   "id": "2803eb12",
   "metadata": {},
   "outputs": [
    {
     "data": {
      "image/png": "[encoded data removed]",
      "text/plain": [
       "<rdkit.Chem.rdchem.Mol at 0x136e0cc40>"
      ]
     },
     "execution_count": 3,
     "metadata": {},
     "output_type": "execute_result"
    }
   ],
   "source": [
    "mol_1_3_dibromopropane"
   ]
  },
  {
   "cell_type": "code",
   "execution_count": 4,
   "id": "2b18b527",
   "metadata": {},
   "outputs": [
    {
     "data": {
      "text/plain": [
       "2"
      ]
     },
     "execution_count": 4,
     "metadata": {},
     "output_type": "execute_result"
    }
   ],
   "source": [
    "num_contiguous_rotatable_bonds(mol_1_3_dibromopropane)"
   ]
  },
  {
   "cell_type": "code",
   "execution_count": null,
   "id": "1e46112f",
   "metadata": {},
   "outputs": [],
   "source": []
  }
 ],
 "metadata": {
  "kernelspec": {
   "display_name": "Python 3 (ipykernel)",
   "language": "python",
   "name": "python3"
  },
  "language_info": {
   "codemirror_mode": {
    "name": "ipython",
    "version": 3
   },
   "file_extension": ".py",
   "mimetype": "text/x-python",
   "name": "python",
   "nbconvert_exporter": "python",
   "pygments_lexer": "ipython3",
   "version": "3.10.4"
  }
 },
 "nbformat": 4,
 "nbformat_minor": 5
}
